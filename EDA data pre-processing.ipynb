{
 "cells": [
  {
   "cell_type": "code",
   "execution_count": 2,
   "id": "038106f8",
   "metadata": {},
   "outputs": [],
   "source": [
    "import numpy as np\n",
    "import pandas as pd\n",
    "import seaborn as sns\n",
    "import matplotlib.pyplot as plt\n",
    "from sklearn.model_selection import train_test_split\n",
    "from sklearn.preprocessing import MinMaxScaler"
   ]
  },
  {
   "cell_type": "markdown",
   "id": "fa384f72",
   "metadata": {},
   "source": [
    "### DATASET 1"
   ]
  },
  {
   "cell_type": "code",
   "execution_count": 10,
   "id": "b5f99f4e",
   "metadata": {},
   "outputs": [],
   "source": [
    "df = pd.read_csv('Ifood_new.csv')"
   ]
  },
  {
   "cell_type": "code",
   "execution_count": 11,
   "id": "57433242",
   "metadata": {},
   "outputs": [
    {
     "name": "stdout",
     "output_type": "stream",
     "text": [
      "Step 1: Basic DataFrame Exploration\n"
     ]
    }
   ],
   "source": [
    "print(\"Step 1: Basic DataFrame Exploration\")"
   ]
  },
  {
   "cell_type": "code",
   "execution_count": 12,
   "id": "d2c17d0a",
   "metadata": {},
   "outputs": [
    {
     "data": {
      "text/html": [
       "<div>\n",
       "<style scoped>\n",
       "    .dataframe tbody tr th:only-of-type {\n",
       "        vertical-align: middle;\n",
       "    }\n",
       "\n",
       "    .dataframe tbody tr th {\n",
       "        vertical-align: top;\n",
       "    }\n",
       "\n",
       "    .dataframe thead th {\n",
       "        text-align: right;\n",
       "    }\n",
       "</style>\n",
       "<table border=\"1\" class=\"dataframe\">\n",
       "  <thead>\n",
       "    <tr style=\"text-align: right;\">\n",
       "      <th></th>\n",
       "      <th>name</th>\n",
       "      <th>ingredients</th>\n",
       "      <th>diet</th>\n",
       "      <th>prep_time</th>\n",
       "      <th>cook_time</th>\n",
       "      <th>flavor_profile</th>\n",
       "      <th>course</th>\n",
       "      <th>state</th>\n",
       "      <th>region</th>\n",
       "      <th>img_url</th>\n",
       "    </tr>\n",
       "  </thead>\n",
       "  <tbody>\n",
       "    <tr>\n",
       "      <th>0</th>\n",
       "      <td>Adhirasam</td>\n",
       "      <td>Rice flour, jaggery, ghee, vegetable oil, elachi</td>\n",
       "      <td>vegetarian</td>\n",
       "      <td>10.0</td>\n",
       "      <td>50.0</td>\n",
       "      <td>sweet</td>\n",
       "      <td>dessert</td>\n",
       "      <td>West Bengal</td>\n",
       "      <td>East</td>\n",
       "      <td>https://www.crazymasalafood.com/wp-content/ima...</td>\n",
       "    </tr>\n",
       "    <tr>\n",
       "      <th>1</th>\n",
       "      <td>Aloo gobi</td>\n",
       "      <td>Cauliflower, potato, garam masala, turmeric, c...</td>\n",
       "      <td>vegetarian</td>\n",
       "      <td>10.0</td>\n",
       "      <td>20.0</td>\n",
       "      <td>spicy</td>\n",
       "      <td>main course</td>\n",
       "      <td>Punjab</td>\n",
       "      <td>North</td>\n",
       "      <td>https://www.vegrecipesofindia.com/wp-content/u...</td>\n",
       "    </tr>\n",
       "    <tr>\n",
       "      <th>2</th>\n",
       "      <td>Aloo matar</td>\n",
       "      <td>Potato, peas, chillies, ginger, garam masala, ...</td>\n",
       "      <td>vegetarian</td>\n",
       "      <td>5.0</td>\n",
       "      <td>40.0</td>\n",
       "      <td>spicy</td>\n",
       "      <td>main course</td>\n",
       "      <td>Punjab</td>\n",
       "      <td>North</td>\n",
       "      <td>https://www.vegrecipesofindia.com/wp-content/u...</td>\n",
       "    </tr>\n",
       "    <tr>\n",
       "      <th>3</th>\n",
       "      <td>Aloo methi</td>\n",
       "      <td>Potato, fenugreek leaves, chillies, salt, oil</td>\n",
       "      <td>vegetarian</td>\n",
       "      <td>10.0</td>\n",
       "      <td>40.0</td>\n",
       "      <td>bitter</td>\n",
       "      <td>main course</td>\n",
       "      <td>Punjab</td>\n",
       "      <td>North</td>\n",
       "      <td>https://www.vegrecipesofindia.com/wp-content/u...</td>\n",
       "    </tr>\n",
       "    <tr>\n",
       "      <th>4</th>\n",
       "      <td>Aloo shimla mirch</td>\n",
       "      <td>Potato, shimla mirch, garam masala, amchur pow...</td>\n",
       "      <td>vegetarian</td>\n",
       "      <td>10.0</td>\n",
       "      <td>40.0</td>\n",
       "      <td>spicy</td>\n",
       "      <td>main course</td>\n",
       "      <td>Punjab</td>\n",
       "      <td>North</td>\n",
       "      <td>https://www.vegrecipesofindia.com/wp-content/u...</td>\n",
       "    </tr>\n",
       "  </tbody>\n",
       "</table>\n",
       "</div>"
      ],
      "text/plain": [
       "                name                                        ingredients  \\\n",
       "0          Adhirasam   Rice flour, jaggery, ghee, vegetable oil, elachi   \n",
       "1          Aloo gobi  Cauliflower, potato, garam masala, turmeric, c...   \n",
       "2         Aloo matar  Potato, peas, chillies, ginger, garam masala, ...   \n",
       "3         Aloo methi      Potato, fenugreek leaves, chillies, salt, oil   \n",
       "4  Aloo shimla mirch  Potato, shimla mirch, garam masala, amchur pow...   \n",
       "\n",
       "         diet  prep_time  cook_time flavor_profile       course        state  \\\n",
       "0  vegetarian       10.0       50.0          sweet      dessert  West Bengal   \n",
       "1  vegetarian       10.0       20.0          spicy  main course       Punjab   \n",
       "2  vegetarian        5.0       40.0          spicy  main course       Punjab   \n",
       "3  vegetarian       10.0       40.0         bitter  main course       Punjab   \n",
       "4  vegetarian       10.0       40.0          spicy  main course       Punjab   \n",
       "\n",
       "  region                                            img_url  \n",
       "0   East  https://www.crazymasalafood.com/wp-content/ima...  \n",
       "1  North  https://www.vegrecipesofindia.com/wp-content/u...  \n",
       "2  North  https://www.vegrecipesofindia.com/wp-content/u...  \n",
       "3  North  https://www.vegrecipesofindia.com/wp-content/u...  \n",
       "4  North  https://www.vegrecipesofindia.com/wp-content/u...  "
      ]
     },
     "execution_count": 12,
     "metadata": {},
     "output_type": "execute_result"
    }
   ],
   "source": [
    "df.head()"
   ]
  },
  {
   "cell_type": "code",
   "execution_count": 13,
   "id": "827391a5",
   "metadata": {},
   "outputs": [
    {
     "data": {
      "text/html": [
       "<div>\n",
       "<style scoped>\n",
       "    .dataframe tbody tr th:only-of-type {\n",
       "        vertical-align: middle;\n",
       "    }\n",
       "\n",
       "    .dataframe tbody tr th {\n",
       "        vertical-align: top;\n",
       "    }\n",
       "\n",
       "    .dataframe thead th {\n",
       "        text-align: right;\n",
       "    }\n",
       "</style>\n",
       "<table border=\"1\" class=\"dataframe\">\n",
       "  <thead>\n",
       "    <tr style=\"text-align: right;\">\n",
       "      <th></th>\n",
       "      <th>name</th>\n",
       "      <th>ingredients</th>\n",
       "      <th>diet</th>\n",
       "      <th>prep_time</th>\n",
       "      <th>cook_time</th>\n",
       "      <th>flavor_profile</th>\n",
       "      <th>course</th>\n",
       "      <th>state</th>\n",
       "      <th>region</th>\n",
       "      <th>img_url</th>\n",
       "    </tr>\n",
       "  </thead>\n",
       "  <tbody>\n",
       "    <tr>\n",
       "      <th>250</th>\n",
       "      <td>Vada</td>\n",
       "      <td>Urad dal, ginger, curry leaves, green chilies,...</td>\n",
       "      <td>vegetarian</td>\n",
       "      <td>15.0</td>\n",
       "      <td>20.0</td>\n",
       "      <td>spicy</td>\n",
       "      <td>snack</td>\n",
       "      <td>NaN</td>\n",
       "      <td>South</td>\n",
       "      <td>https://www.archanaskitchen.com/images/archana...</td>\n",
       "    </tr>\n",
       "    <tr>\n",
       "      <th>251</th>\n",
       "      <td>Veg Kolhapuri</td>\n",
       "      <td>Gobi, potato, beans, khus khus, coconut</td>\n",
       "      <td>vegetarian</td>\n",
       "      <td>20.0</td>\n",
       "      <td>30.0</td>\n",
       "      <td>spicy</td>\n",
       "      <td>main course</td>\n",
       "      <td>Maharashtra</td>\n",
       "      <td>West</td>\n",
       "      <td>https://www.vegrecipesofindia.com/wp-content/u...</td>\n",
       "    </tr>\n",
       "    <tr>\n",
       "      <th>252</th>\n",
       "      <td>Vegetable jalfrezi</td>\n",
       "      <td>Baby corn, french beans, garam masala, ginger,...</td>\n",
       "      <td>vegetarian</td>\n",
       "      <td>10.0</td>\n",
       "      <td>30.0</td>\n",
       "      <td>spicy</td>\n",
       "      <td>main course</td>\n",
       "      <td>Punjab</td>\n",
       "      <td>North</td>\n",
       "      <td>https://www.vegrecipesofindia.com/wp-content/u...</td>\n",
       "    </tr>\n",
       "    <tr>\n",
       "      <th>253</th>\n",
       "      <td>Vindaloo</td>\n",
       "      <td>Chicken, coconut oil, wine vinegar, ginger, gr...</td>\n",
       "      <td>non vegetarian</td>\n",
       "      <td>10.0</td>\n",
       "      <td>40.0</td>\n",
       "      <td>spicy</td>\n",
       "      <td>main course</td>\n",
       "      <td>Goa</td>\n",
       "      <td>West</td>\n",
       "      <td>https://upload.wikimedia.org/wikipedia/commons...</td>\n",
       "    </tr>\n",
       "    <tr>\n",
       "      <th>254</th>\n",
       "      <td>Zunka</td>\n",
       "      <td>Gram flour, mustard, garlic, turmeric, red chilli</td>\n",
       "      <td>vegetarian</td>\n",
       "      <td>10.0</td>\n",
       "      <td>25.0</td>\n",
       "      <td>spicy</td>\n",
       "      <td>main course</td>\n",
       "      <td>Maharashtra</td>\n",
       "      <td>West</td>\n",
       "      <td>https://www.whiskaffair.com/wp-content/uploads...</td>\n",
       "    </tr>\n",
       "  </tbody>\n",
       "</table>\n",
       "</div>"
      ],
      "text/plain": [
       "                   name                                        ingredients  \\\n",
       "250                Vada  Urad dal, ginger, curry leaves, green chilies,...   \n",
       "251       Veg Kolhapuri            Gobi, potato, beans, khus khus, coconut   \n",
       "252  Vegetable jalfrezi  Baby corn, french beans, garam masala, ginger,...   \n",
       "253            Vindaloo  Chicken, coconut oil, wine vinegar, ginger, gr...   \n",
       "254               Zunka  Gram flour, mustard, garlic, turmeric, red chilli   \n",
       "\n",
       "               diet  prep_time  cook_time flavor_profile       course  \\\n",
       "250      vegetarian       15.0       20.0          spicy        snack   \n",
       "251      vegetarian       20.0       30.0          spicy  main course   \n",
       "252      vegetarian       10.0       30.0          spicy  main course   \n",
       "253  non vegetarian       10.0       40.0          spicy  main course   \n",
       "254      vegetarian       10.0       25.0          spicy  main course   \n",
       "\n",
       "           state region                                            img_url  \n",
       "250          NaN  South  https://www.archanaskitchen.com/images/archana...  \n",
       "251  Maharashtra   West  https://www.vegrecipesofindia.com/wp-content/u...  \n",
       "252       Punjab  North  https://www.vegrecipesofindia.com/wp-content/u...  \n",
       "253          Goa   West  https://upload.wikimedia.org/wikipedia/commons...  \n",
       "254  Maharashtra   West  https://www.whiskaffair.com/wp-content/uploads...  "
      ]
     },
     "execution_count": 13,
     "metadata": {},
     "output_type": "execute_result"
    }
   ],
   "source": [
    "df.tail()"
   ]
  },
  {
   "cell_type": "code",
   "execution_count": 14,
   "id": "a5f4ae92",
   "metadata": {},
   "outputs": [
    {
     "data": {
      "text/plain": [
       "(255, 10)"
      ]
     },
     "execution_count": 14,
     "metadata": {},
     "output_type": "execute_result"
    }
   ],
   "source": [
    "df.shape"
   ]
  },
  {
   "cell_type": "code",
   "execution_count": 15,
   "id": "457cfd68",
   "metadata": {
    "scrolled": true
   },
   "outputs": [
    {
     "data": {
      "text/plain": [
       "name               object\n",
       "ingredients        object\n",
       "diet               object\n",
       "prep_time         float64\n",
       "cook_time         float64\n",
       "flavor_profile     object\n",
       "course             object\n",
       "state              object\n",
       "region             object\n",
       "img_url            object\n",
       "dtype: object"
      ]
     },
     "execution_count": 15,
     "metadata": {},
     "output_type": "execute_result"
    }
   ],
   "source": [
    "df.dtypes"
   ]
  },
  {
   "cell_type": "code",
   "execution_count": 16,
   "id": "0d21abbd",
   "metadata": {},
   "outputs": [
    {
     "name": "stdout",
     "output_type": "stream",
     "text": [
      "Index(['name', 'ingredients', 'diet', 'prep_time', 'cook_time',\n",
      "       'flavor_profile', 'course', 'state', 'region', 'img_url'],\n",
      "      dtype='object')\n"
     ]
    }
   ],
   "source": [
    "print(df.columns)"
   ]
  },
  {
   "cell_type": "code",
   "execution_count": 17,
   "id": "e8dd42f9",
   "metadata": {},
   "outputs": [
    {
     "name": "stdout",
     "output_type": "stream",
     "text": [
      "\n",
      "Step 2: Summary Statistics of Numeric Columns\n"
     ]
    },
    {
     "data": {
      "text/html": [
       "<div>\n",
       "<style scoped>\n",
       "    .dataframe tbody tr th:only-of-type {\n",
       "        vertical-align: middle;\n",
       "    }\n",
       "\n",
       "    .dataframe tbody tr th {\n",
       "        vertical-align: top;\n",
       "    }\n",
       "\n",
       "    .dataframe thead th {\n",
       "        text-align: right;\n",
       "    }\n",
       "</style>\n",
       "<table border=\"1\" class=\"dataframe\">\n",
       "  <thead>\n",
       "    <tr style=\"text-align: right;\">\n",
       "      <th></th>\n",
       "      <th>prep_time</th>\n",
       "      <th>cook_time</th>\n",
       "    </tr>\n",
       "  </thead>\n",
       "  <tbody>\n",
       "    <tr>\n",
       "      <th>count</th>\n",
       "      <td>225.000000</td>\n",
       "      <td>227.000000</td>\n",
       "    </tr>\n",
       "    <tr>\n",
       "      <th>mean</th>\n",
       "      <td>35.386667</td>\n",
       "      <td>38.911894</td>\n",
       "    </tr>\n",
       "    <tr>\n",
       "      <th>std</th>\n",
       "      <td>76.241081</td>\n",
       "      <td>49.421711</td>\n",
       "    </tr>\n",
       "    <tr>\n",
       "      <th>min</th>\n",
       "      <td>5.000000</td>\n",
       "      <td>2.000000</td>\n",
       "    </tr>\n",
       "    <tr>\n",
       "      <th>25%</th>\n",
       "      <td>10.000000</td>\n",
       "      <td>20.000000</td>\n",
       "    </tr>\n",
       "    <tr>\n",
       "      <th>50%</th>\n",
       "      <td>10.000000</td>\n",
       "      <td>30.000000</td>\n",
       "    </tr>\n",
       "    <tr>\n",
       "      <th>75%</th>\n",
       "      <td>20.000000</td>\n",
       "      <td>45.000000</td>\n",
       "    </tr>\n",
       "    <tr>\n",
       "      <th>max</th>\n",
       "      <td>500.000000</td>\n",
       "      <td>720.000000</td>\n",
       "    </tr>\n",
       "  </tbody>\n",
       "</table>\n",
       "</div>"
      ],
      "text/plain": [
       "        prep_time   cook_time\n",
       "count  225.000000  227.000000\n",
       "mean    35.386667   38.911894\n",
       "std     76.241081   49.421711\n",
       "min      5.000000    2.000000\n",
       "25%     10.000000   20.000000\n",
       "50%     10.000000   30.000000\n",
       "75%     20.000000   45.000000\n",
       "max    500.000000  720.000000"
      ]
     },
     "execution_count": 17,
     "metadata": {},
     "output_type": "execute_result"
    }
   ],
   "source": [
    "print(\"\\nStep 2: Summary Statistics of Numeric Columns\")\n",
    "df.describe()"
   ]
  },
  {
   "cell_type": "code",
   "execution_count": 18,
   "id": "9912095a",
   "metadata": {},
   "outputs": [
    {
     "data": {
      "text/plain": [
       "Gujarat            35\n",
       "Punjab             33\n",
       "Maharashtra        30\n",
       "West Bengal        24\n",
       "Assam              21\n",
       "Tamil Nadu         20\n",
       "Andhra Pradesh     10\n",
       "Uttar Pradesh       9\n",
       "Odisha              7\n",
       "Kerala              7\n",
       "Rajasthan           6\n",
       "Karnataka           6\n",
       "Telangana           5\n",
       "Goa                 3\n",
       "Bihar               3\n",
       "Madhya Pradesh      2\n",
       "Manipur             2\n",
       "Jammu & Kashmir     2\n",
       "Tripura             1\n",
       "NCT of Delhi        1\n",
       "Haryana             1\n",
       "Nagaland            1\n",
       "Chhattisgarh        1\n",
       "Uttarakhand         1\n",
       "Name: state, dtype: int64"
      ]
     },
     "execution_count": 18,
     "metadata": {},
     "output_type": "execute_result"
    }
   ],
   "source": [
    "df.state.value_counts()"
   ]
  },
  {
   "cell_type": "code",
   "execution_count": 19,
   "id": "981be618",
   "metadata": {},
   "outputs": [
    {
     "data": {
      "text/plain": [
       "West          73\n",
       "South         58\n",
       "North         50\n",
       "East          32\n",
       "North East    25\n",
       "Central        3\n",
       "Name: region, dtype: int64"
      ]
     },
     "execution_count": 19,
     "metadata": {},
     "output_type": "execute_result"
    }
   ],
   "source": [
    "df.region.value_counts()"
   ]
  },
  {
   "cell_type": "code",
   "execution_count": 20,
   "id": "593b96ec",
   "metadata": {},
   "outputs": [
    {
     "data": {
      "text/plain": [
       "vegetarian        227\n",
       "non vegetarian     28\n",
       "Name: diet, dtype: int64"
      ]
     },
     "execution_count": 20,
     "metadata": {},
     "output_type": "execute_result"
    }
   ],
   "source": [
    "df.diet.value_counts()"
   ]
  },
  {
   "cell_type": "code",
   "execution_count": 21,
   "id": "8ac2858c",
   "metadata": {},
   "outputs": [
    {
     "data": {
      "text/plain": [
       "spicy     133\n",
       "sweet      88\n",
       "bitter      4\n",
       "sour        1\n",
       "Name: flavor_profile, dtype: int64"
      ]
     },
     "execution_count": 21,
     "metadata": {},
     "output_type": "execute_result"
    }
   ],
   "source": [
    "df.flavor_profile.value_counts()"
   ]
  },
  {
   "cell_type": "code",
   "execution_count": 22,
   "id": "4fba0c4b",
   "metadata": {},
   "outputs": [
    {
     "data": {
      "image/png": "[encoded data removed]",
      "text/plain": [
       "<Figure size 2600x500 with 1 Axes>"
      ]
     },
     "metadata": {},
     "output_type": "display_data"
    }
   ],
   "source": [
    "plt.figure(figsize=(26, 5))\n",
    "sns.histplot(df['state'], bins=20)\n",
    "plt.title('Histogram of State')\n",
    "plt.xlabel('State')\n",
    "plt.ylabel('Frequency')\n",
    "plt.show()"
   ]
  },
  {
   "cell_type": "code",
   "execution_count": 23,
   "id": "11d0cffa",
   "metadata": {},
   "outputs": [
    {
     "data": {
      "image/png": "[encoded data removed]",
      "text/plain": [
       "<Figure size 1000x600 with 1 Axes>"
      ]
     },
     "metadata": {},
     "output_type": "display_data"
    }
   ],
   "source": [
    "plt.figure(figsize=(10, 6))\n",
    "sns.scatterplot(x='diet', y='flavor_profile', hue='diet', data=df)\n",
    "plt.title('Scatter Plot of region vs state (colored by diet)')\n",
    "plt.xlabel('Diet')\n",
    "plt.ylabel('Taste')\n",
    "plt.legend(title='diet')\n",
    "plt.show()"
   ]
  },
  {
   "cell_type": "code",
   "execution_count": 24,
   "id": "bf905e09",
   "metadata": {},
   "outputs": [],
   "source": [
    "#From the histogram we can see that Gujrat has a big number of consumers, compared to the other states in the histogram.\n",
    "#From the scatter plot we can see the classification of vegetarian and non-vegetarian.\n",
    "#We can conclude that there are almost no non-vegetarian dishes which are'nt anything but spicy"
   ]
  },
  {
   "cell_type": "code",
   "execution_count": null,
   "id": "7ffd5fca",
   "metadata": {},
   "outputs": [],
   "source": []
  },
  {
   "cell_type": "code",
   "execution_count": 25,
   "id": "6ab55bf9",
   "metadata": {},
   "outputs": [],
   "source": [
    "\n",
    "df = df.drop(columns=['name', 'img_url'])"
   ]
  },
  {
   "cell_type": "code",
   "execution_count": 26,
   "id": "e5d7ba02",
   "metadata": {},
   "outputs": [
    {
     "data": {
      "text/plain": [
       "(255, 8)"
      ]
     },
     "execution_count": 26,
     "metadata": {},
     "output_type": "execute_result"
    }
   ],
   "source": [
    "df.shape"
   ]
  },
  {
   "cell_type": "code",
   "execution_count": 27,
   "id": "72f162b2",
   "metadata": {},
   "outputs": [],
   "source": [
    "df = df.dropna()"
   ]
  },
  {
   "cell_type": "code",
   "execution_count": 28,
   "id": "5b0e6b9f",
   "metadata": {},
   "outputs": [
    {
     "data": {
      "text/html": [
       "<div>\n",
       "<style scoped>\n",
       "    .dataframe tbody tr th:only-of-type {\n",
       "        vertical-align: middle;\n",
       "    }\n",
       "\n",
       "    .dataframe tbody tr th {\n",
       "        vertical-align: top;\n",
       "    }\n",
       "\n",
       "    .dataframe thead th {\n",
       "        text-align: right;\n",
       "    }\n",
       "</style>\n",
       "<table border=\"1\" class=\"dataframe\">\n",
       "  <thead>\n",
       "    <tr style=\"text-align: right;\">\n",
       "      <th></th>\n",
       "      <th>prep_time</th>\n",
       "      <th>cook_time</th>\n",
       "    </tr>\n",
       "  </thead>\n",
       "  <tbody>\n",
       "    <tr>\n",
       "      <th>0</th>\n",
       "      <td>10.0</td>\n",
       "      <td>50.0</td>\n",
       "    </tr>\n",
       "    <tr>\n",
       "      <th>1</th>\n",
       "      <td>10.0</td>\n",
       "      <td>20.0</td>\n",
       "    </tr>\n",
       "    <tr>\n",
       "      <th>2</th>\n",
       "      <td>5.0</td>\n",
       "      <td>40.0</td>\n",
       "    </tr>\n",
       "    <tr>\n",
       "      <th>3</th>\n",
       "      <td>10.0</td>\n",
       "      <td>40.0</td>\n",
       "    </tr>\n",
       "    <tr>\n",
       "      <th>4</th>\n",
       "      <td>10.0</td>\n",
       "      <td>40.0</td>\n",
       "    </tr>\n",
       "  </tbody>\n",
       "</table>\n",
       "</div>"
      ],
      "text/plain": [
       "   prep_time  cook_time\n",
       "0       10.0       50.0\n",
       "1       10.0       20.0\n",
       "2        5.0       40.0\n",
       "3       10.0       40.0\n",
       "4       10.0       40.0"
      ]
     },
     "execution_count": 28,
     "metadata": {},
     "output_type": "execute_result"
    }
   ],
   "source": [
    "df_num = df.select_dtypes(include='number')\n",
    "df_num.head()"
   ]
  },
  {
   "cell_type": "code",
   "execution_count": 29,
   "id": "8897ee6f",
   "metadata": {},
   "outputs": [],
   "source": [
    "Q1 = df_num.quantile(0.25)\n",
    "Q3 = df_num.quantile(0.75)\n",
    "IQR = Q3 - Q1\n",
    "lower_bound = Q1 - 1.5 * IQR\n",
    "upper_bound = Q3 + 1.5 * IQR"
   ]
  },
  {
   "cell_type": "code",
   "execution_count": 30,
   "id": "b565f7ef",
   "metadata": {
    "scrolled": true
   },
   "outputs": [
    {
     "data": {
      "text/plain": [
       "prep_time   -5.0\n",
       "cook_time   -5.0\n",
       "dtype: float64"
      ]
     },
     "execution_count": 30,
     "metadata": {},
     "output_type": "execute_result"
    }
   ],
   "source": [
    "lower_bound"
   ]
  },
  {
   "cell_type": "code",
   "execution_count": 31,
   "id": "56f8e2d9",
   "metadata": {},
   "outputs": [],
   "source": [
    "df = df[~((df_num < lower_bound) | (df_num > upper_bound)).any(axis=1)]"
   ]
  },
  {
   "cell_type": "code",
   "execution_count": 32,
   "id": "8de31660",
   "metadata": {},
   "outputs": [
    {
     "data": {
      "text/plain": [
       "(153, 8)"
      ]
     },
     "execution_count": 32,
     "metadata": {},
     "output_type": "execute_result"
    }
   ],
   "source": [
    "df.shape"
   ]
  },
  {
   "cell_type": "code",
   "execution_count": 33,
   "id": "92820145",
   "metadata": {},
   "outputs": [
    {
     "data": {
      "text/plain": [
       "<Axes: xlabel='prep_time'>"
      ]
     },
     "execution_count": 33,
     "metadata": {},
     "output_type": "execute_result"
    },
    {
     "data": {
      "image/png": "[encoded data removed]",
      "text/plain": [
       "<Figure size 640x480 with 1 Axes>"
      ]
     },
     "metadata": {},
     "output_type": "display_data"
    }
   ],
   "source": [
    "sns.boxplot(x=df['prep_time'])"
   ]
  },
  {
   "cell_type": "code",
   "execution_count": 34,
   "id": "c0fd7e7f",
   "metadata": {},
   "outputs": [
    {
     "data": {
      "text/plain": [
       "(153, 2)"
      ]
     },
     "execution_count": 34,
     "metadata": {},
     "output_type": "execute_result"
    }
   ],
   "source": [
    "df_num = df.select_dtypes('number')\n",
    "df_num.shape"
   ]
  },
  {
   "cell_type": "code",
   "execution_count": 35,
   "id": "e76d92a9",
   "metadata": {},
   "outputs": [
    {
     "data": {
      "text/html": [
       "<div>\n",
       "<style scoped>\n",
       "    .dataframe tbody tr th:only-of-type {\n",
       "        vertical-align: middle;\n",
       "    }\n",
       "\n",
       "    .dataframe tbody tr th {\n",
       "        vertical-align: top;\n",
       "    }\n",
       "\n",
       "    .dataframe thead th {\n",
       "        text-align: right;\n",
       "    }\n",
       "</style>\n",
       "<table border=\"1\" class=\"dataframe\">\n",
       "  <thead>\n",
       "    <tr style=\"text-align: right;\">\n",
       "      <th></th>\n",
       "      <th>ingredients</th>\n",
       "      <th>diet</th>\n",
       "      <th>cook_time</th>\n",
       "      <th>flavor_profile</th>\n",
       "      <th>course</th>\n",
       "      <th>state</th>\n",
       "      <th>region</th>\n",
       "    </tr>\n",
       "  </thead>\n",
       "  <tbody>\n",
       "    <tr>\n",
       "      <th>0</th>\n",
       "      <td>Rice flour, jaggery, ghee, vegetable oil, elachi</td>\n",
       "      <td>vegetarian</td>\n",
       "      <td>50.0</td>\n",
       "      <td>sweet</td>\n",
       "      <td>dessert</td>\n",
       "      <td>West Bengal</td>\n",
       "      <td>East</td>\n",
       "    </tr>\n",
       "    <tr>\n",
       "      <th>1</th>\n",
       "      <td>Cauliflower, potato, garam masala, turmeric, c...</td>\n",
       "      <td>vegetarian</td>\n",
       "      <td>20.0</td>\n",
       "      <td>spicy</td>\n",
       "      <td>main course</td>\n",
       "      <td>Punjab</td>\n",
       "      <td>North</td>\n",
       "    </tr>\n",
       "    <tr>\n",
       "      <th>2</th>\n",
       "      <td>Potato, peas, chillies, ginger, garam masala, ...</td>\n",
       "      <td>vegetarian</td>\n",
       "      <td>40.0</td>\n",
       "      <td>spicy</td>\n",
       "      <td>main course</td>\n",
       "      <td>Punjab</td>\n",
       "      <td>North</td>\n",
       "    </tr>\n",
       "    <tr>\n",
       "      <th>3</th>\n",
       "      <td>Potato, fenugreek leaves, chillies, salt, oil</td>\n",
       "      <td>vegetarian</td>\n",
       "      <td>40.0</td>\n",
       "      <td>bitter</td>\n",
       "      <td>main course</td>\n",
       "      <td>Punjab</td>\n",
       "      <td>North</td>\n",
       "    </tr>\n",
       "    <tr>\n",
       "      <th>4</th>\n",
       "      <td>Potato, shimla mirch, garam masala, amchur pow...</td>\n",
       "      <td>vegetarian</td>\n",
       "      <td>40.0</td>\n",
       "      <td>spicy</td>\n",
       "      <td>main course</td>\n",
       "      <td>Punjab</td>\n",
       "      <td>North</td>\n",
       "    </tr>\n",
       "  </tbody>\n",
       "</table>\n",
       "</div>"
      ],
      "text/plain": [
       "                                         ingredients        diet  cook_time  \\\n",
       "0   Rice flour, jaggery, ghee, vegetable oil, elachi  vegetarian       50.0   \n",
       "1  Cauliflower, potato, garam masala, turmeric, c...  vegetarian       20.0   \n",
       "2  Potato, peas, chillies, ginger, garam masala, ...  vegetarian       40.0   \n",
       "3      Potato, fenugreek leaves, chillies, salt, oil  vegetarian       40.0   \n",
       "4  Potato, shimla mirch, garam masala, amchur pow...  vegetarian       40.0   \n",
       "\n",
       "  flavor_profile       course        state region  \n",
       "0          sweet      dessert  West Bengal   East  \n",
       "1          spicy  main course       Punjab  North  \n",
       "2          spicy  main course       Punjab  North  \n",
       "3         bitter  main course       Punjab  North  \n",
       "4          spicy  main course       Punjab  North  "
      ]
     },
     "execution_count": 35,
     "metadata": {},
     "output_type": "execute_result"
    }
   ],
   "source": [
    "X = df.drop('prep_time', axis=1)\n",
    "y = df.prep_time\n",
    "X.head()"
   ]
  },
  {
   "cell_type": "code",
   "execution_count": 36,
   "id": "a94f6091",
   "metadata": {},
   "outputs": [
    {
     "data": {
      "text/html": [
       "<div>\n",
       "<style scoped>\n",
       "    .dataframe tbody tr th:only-of-type {\n",
       "        vertical-align: middle;\n",
       "    }\n",
       "\n",
       "    .dataframe tbody tr th {\n",
       "        vertical-align: top;\n",
       "    }\n",
       "\n",
       "    .dataframe thead th {\n",
       "        text-align: right;\n",
       "    }\n",
       "</style>\n",
       "<table border=\"1\" class=\"dataframe\">\n",
       "  <thead>\n",
       "    <tr style=\"text-align: right;\">\n",
       "      <th></th>\n",
       "      <th>cook_time</th>\n",
       "    </tr>\n",
       "  </thead>\n",
       "  <tbody>\n",
       "    <tr>\n",
       "      <th>0</th>\n",
       "      <td>50.0</td>\n",
       "    </tr>\n",
       "    <tr>\n",
       "      <th>1</th>\n",
       "      <td>20.0</td>\n",
       "    </tr>\n",
       "    <tr>\n",
       "      <th>2</th>\n",
       "      <td>40.0</td>\n",
       "    </tr>\n",
       "    <tr>\n",
       "      <th>3</th>\n",
       "      <td>40.0</td>\n",
       "    </tr>\n",
       "    <tr>\n",
       "      <th>4</th>\n",
       "      <td>40.0</td>\n",
       "    </tr>\n",
       "  </tbody>\n",
       "</table>\n",
       "</div>"
      ],
      "text/plain": [
       "   cook_time\n",
       "0       50.0\n",
       "1       20.0\n",
       "2       40.0\n",
       "3       40.0\n",
       "4       40.0"
      ]
     },
     "execution_count": 36,
     "metadata": {},
     "output_type": "execute_result"
    }
   ],
   "source": [
    "X_num = X.select_dtypes('number')\n",
    "X_num.head()"
   ]
  },
  {
   "cell_type": "code",
   "execution_count": 37,
   "id": "cba11d44",
   "metadata": {},
   "outputs": [
    {
     "data": {
      "text/html": [
       "<div>\n",
       "<style scoped>\n",
       "    .dataframe tbody tr th:only-of-type {\n",
       "        vertical-align: middle;\n",
       "    }\n",
       "\n",
       "    .dataframe tbody tr th {\n",
       "        vertical-align: top;\n",
       "    }\n",
       "\n",
       "    .dataframe thead th {\n",
       "        text-align: right;\n",
       "    }\n",
       "</style>\n",
       "<table border=\"1\" class=\"dataframe\">\n",
       "  <thead>\n",
       "    <tr style=\"text-align: right;\">\n",
       "      <th></th>\n",
       "      <th>ingredients</th>\n",
       "      <th>diet</th>\n",
       "      <th>flavor_profile</th>\n",
       "      <th>course</th>\n",
       "      <th>state</th>\n",
       "      <th>region</th>\n",
       "    </tr>\n",
       "  </thead>\n",
       "  <tbody>\n",
       "    <tr>\n",
       "      <th>0</th>\n",
       "      <td>Rice flour, jaggery, ghee, vegetable oil, elachi</td>\n",
       "      <td>vegetarian</td>\n",
       "      <td>sweet</td>\n",
       "      <td>dessert</td>\n",
       "      <td>West Bengal</td>\n",
       "      <td>East</td>\n",
       "    </tr>\n",
       "    <tr>\n",
       "      <th>1</th>\n",
       "      <td>Cauliflower, potato, garam masala, turmeric, c...</td>\n",
       "      <td>vegetarian</td>\n",
       "      <td>spicy</td>\n",
       "      <td>main course</td>\n",
       "      <td>Punjab</td>\n",
       "      <td>North</td>\n",
       "    </tr>\n",
       "    <tr>\n",
       "      <th>2</th>\n",
       "      <td>Potato, peas, chillies, ginger, garam masala, ...</td>\n",
       "      <td>vegetarian</td>\n",
       "      <td>spicy</td>\n",
       "      <td>main course</td>\n",
       "      <td>Punjab</td>\n",
       "      <td>North</td>\n",
       "    </tr>\n",
       "    <tr>\n",
       "      <th>3</th>\n",
       "      <td>Potato, fenugreek leaves, chillies, salt, oil</td>\n",
       "      <td>vegetarian</td>\n",
       "      <td>bitter</td>\n",
       "      <td>main course</td>\n",
       "      <td>Punjab</td>\n",
       "      <td>North</td>\n",
       "    </tr>\n",
       "    <tr>\n",
       "      <th>4</th>\n",
       "      <td>Potato, shimla mirch, garam masala, amchur pow...</td>\n",
       "      <td>vegetarian</td>\n",
       "      <td>spicy</td>\n",
       "      <td>main course</td>\n",
       "      <td>Punjab</td>\n",
       "      <td>North</td>\n",
       "    </tr>\n",
       "  </tbody>\n",
       "</table>\n",
       "</div>"
      ],
      "text/plain": [
       "                                         ingredients        diet  \\\n",
       "0   Rice flour, jaggery, ghee, vegetable oil, elachi  vegetarian   \n",
       "1  Cauliflower, potato, garam masala, turmeric, c...  vegetarian   \n",
       "2  Potato, peas, chillies, ginger, garam masala, ...  vegetarian   \n",
       "3      Potato, fenugreek leaves, chillies, salt, oil  vegetarian   \n",
       "4  Potato, shimla mirch, garam masala, amchur pow...  vegetarian   \n",
       "\n",
       "  flavor_profile       course        state region  \n",
       "0          sweet      dessert  West Bengal   East  \n",
       "1          spicy  main course       Punjab  North  \n",
       "2          spicy  main course       Punjab  North  \n",
       "3         bitter  main course       Punjab  North  \n",
       "4          spicy  main course       Punjab  North  "
      ]
     },
     "execution_count": 37,
     "metadata": {},
     "output_type": "execute_result"
    }
   ],
   "source": [
    "X_cat = X.select_dtypes('object')\n",
    "X_cat.head()"
   ]
  },
  {
   "cell_type": "code",
   "execution_count": 38,
   "id": "bbd60a1e",
   "metadata": {},
   "outputs": [],
   "source": [
    "scaler = MinMaxScaler()\n",
    "X_num_scaled = scaler.fit_transform(X_num)"
   ]
  },
  {
   "cell_type": "code",
   "execution_count": 39,
   "id": "47009bb9",
   "metadata": {},
   "outputs": [
    {
     "data": {
      "text/plain": [
       "numpy.ndarray"
      ]
     },
     "execution_count": 39,
     "metadata": {},
     "output_type": "execute_result"
    }
   ],
   "source": [
    "type(X_num_scaled)"
   ]
  },
  {
   "cell_type": "code",
   "execution_count": 161,
   "id": "d20884db",
   "metadata": {},
   "outputs": [],
   "source": [
    "X_num_scaled = pd.DataFrame(X_num_scaled, columns=X_num.columns, index=X_num.index)"
   ]
  },
  {
   "cell_type": "code",
   "execution_count": 162,
   "id": "4fb390e1",
   "metadata": {},
   "outputs": [
    {
     "data": {
      "text/html": [
       "<div>\n",
       "<style scoped>\n",
       "    .dataframe tbody tr th:only-of-type {\n",
       "        vertical-align: middle;\n",
       "    }\n",
       "\n",
       "    .dataframe tbody tr th {\n",
       "        vertical-align: top;\n",
       "    }\n",
       "\n",
       "    .dataframe thead th {\n",
       "        text-align: right;\n",
       "    }\n",
       "</style>\n",
       "<table border=\"1\" class=\"dataframe\">\n",
       "  <thead>\n",
       "    <tr style=\"text-align: right;\">\n",
       "      <th></th>\n",
       "      <th>cook_time</th>\n",
       "    </tr>\n",
       "  </thead>\n",
       "  <tbody>\n",
       "    <tr>\n",
       "      <th>count</th>\n",
       "      <td>153.000000</td>\n",
       "    </tr>\n",
       "    <tr>\n",
       "      <th>mean</th>\n",
       "      <td>0.410458</td>\n",
       "    </tr>\n",
       "    <tr>\n",
       "      <th>std</th>\n",
       "      <td>0.197732</td>\n",
       "    </tr>\n",
       "    <tr>\n",
       "      <th>min</th>\n",
       "      <td>0.000000</td>\n",
       "    </tr>\n",
       "    <tr>\n",
       "      <th>25%</th>\n",
       "      <td>0.285714</td>\n",
       "    </tr>\n",
       "    <tr>\n",
       "      <th>50%</th>\n",
       "      <td>0.357143</td>\n",
       "    </tr>\n",
       "    <tr>\n",
       "      <th>75%</th>\n",
       "      <td>0.500000</td>\n",
       "    </tr>\n",
       "    <tr>\n",
       "      <th>max</th>\n",
       "      <td>1.000000</td>\n",
       "    </tr>\n",
       "  </tbody>\n",
       "</table>\n",
       "</div>"
      ],
      "text/plain": [
       "        cook_time\n",
       "count  153.000000\n",
       "mean     0.410458\n",
       "std      0.197732\n",
       "min      0.000000\n",
       "25%      0.285714\n",
       "50%      0.357143\n",
       "75%      0.500000\n",
       "max      1.000000"
      ]
     },
     "execution_count": 162,
     "metadata": {},
     "output_type": "execute_result"
    }
   ],
   "source": [
    "X_num_scaled.describe()"
   ]
  },
  {
   "cell_type": "code",
   "execution_count": 163,
   "id": "e64f9532",
   "metadata": {},
   "outputs": [],
   "source": [
    "X_cat_encoded = pd.get_dummies(X_cat, drop_first=False, dtype=int)"
   ]
  },
  {
   "cell_type": "code",
   "execution_count": 164,
   "id": "c0d79eef",
   "metadata": {},
   "outputs": [],
   "source": [
    "X = pd.concat([X_num_scaled, X_cat_encoded], axis=1)"
   ]
  },
  {
   "cell_type": "code",
   "execution_count": 165,
   "id": "5b654ab9",
   "metadata": {},
   "outputs": [
    {
     "data": {
      "text/plain": [
       "((153, 190), (153, 1), (153, 189))"
      ]
     },
     "execution_count": 165,
     "metadata": {},
     "output_type": "execute_result"
    }
   ],
   "source": [
    "X.shape, X_num_scaled.shape, X_cat_encoded.shape"
   ]
  },
  {
   "cell_type": "code",
   "execution_count": 166,
   "id": "21b2fc3a",
   "metadata": {},
   "outputs": [
    {
     "name": "stdout",
     "output_type": "stream",
     "text": [
      "\n",
      "Step 7: Checking for NAs and Shape Compatibility\n",
      "cook_time                                                                                0\n",
      "ingredients_Aloo, urad dal, mustard, ginger, curry leaves                                0\n",
      "ingredients_Amaranth leaves, split urad dal, mustard seeds, grated coconut, red chili    0\n",
      "ingredients_Apricots, sugar syrup                                                        0\n",
      "ingredients_Arbi ke patte, sesame seeds, gur, bengal gram flour, imli                    0\n",
      "                                                                                        ..\n",
      "region_East                                                                              0\n",
      "region_North                                                                             0\n",
      "region_North East                                                                        0\n",
      "region_South                                                                             0\n",
      "region_West                                                                              0\n",
      "Length: 190, dtype: int64\n",
      "0\n",
      "(153, 190)\n",
      "(153,)\n"
     ]
    }
   ],
   "source": [
    "print(\"\\nStep 7: Checking for NAs and Shape Compatibility\")\n",
    "print(X.isnull().sum())\n",
    "print(y.isnull().sum())\n",
    "print(X.shape)\n",
    "print(y.shape)"
   ]
  },
  {
   "cell_type": "code",
   "execution_count": 167,
   "id": "041478c4",
   "metadata": {},
   "outputs": [
    {
     "data": {
      "text/html": [
       "<div>\n",
       "<style scoped>\n",
       "    .dataframe tbody tr th:only-of-type {\n",
       "        vertical-align: middle;\n",
       "    }\n",
       "\n",
       "    .dataframe tbody tr th {\n",
       "        vertical-align: top;\n",
       "    }\n",
       "\n",
       "    .dataframe thead th {\n",
       "        text-align: right;\n",
       "    }\n",
       "</style>\n",
       "<table border=\"1\" class=\"dataframe\">\n",
       "  <thead>\n",
       "    <tr style=\"text-align: right;\">\n",
       "      <th></th>\n",
       "      <th>cook_time</th>\n",
       "      <th>ingredients_Aloo, urad dal, mustard, ginger, curry leaves</th>\n",
       "      <th>ingredients_Amaranth leaves, split urad dal, mustard seeds, grated coconut, red chili</th>\n",
       "      <th>ingredients_Apricots, sugar syrup</th>\n",
       "      <th>ingredients_Arbi ke patte, sesame seeds, gur, bengal gram flour, imli</th>\n",
       "      <th>ingredients_Baby corn, french beans, garam masala, ginger, carrot</th>\n",
       "      <th>ingredients_Baby potatoes, garam masala, cashew nuts, kasuri methi, tomatoes</th>\n",
       "      <th>ingredients_Baking soda, clarified butter, oil, all purpose flour</th>\n",
       "      <th>ingredients_Beaten rice flakes, potato, curry leaves, green chilies, lemon juice</th>\n",
       "      <th>ingredients_Beef, coconut, garam masala, curry leaves, green chilies, chili powder</th>\n",
       "      <th>...</th>\n",
       "      <th>state_Telangana</th>\n",
       "      <th>state_Uttar Pradesh</th>\n",
       "      <th>state_Uttarakhand</th>\n",
       "      <th>state_West Bengal</th>\n",
       "      <th>region_Central</th>\n",
       "      <th>region_East</th>\n",
       "      <th>region_North</th>\n",
       "      <th>region_North East</th>\n",
       "      <th>region_South</th>\n",
       "      <th>region_West</th>\n",
       "    </tr>\n",
       "  </thead>\n",
       "  <tbody>\n",
       "    <tr>\n",
       "      <th>count</th>\n",
       "      <td>153.000000</td>\n",
       "      <td>153.000000</td>\n",
       "      <td>153.000000</td>\n",
       "      <td>153.000000</td>\n",
       "      <td>153.000000</td>\n",
       "      <td>153.000000</td>\n",
       "      <td>153.000000</td>\n",
       "      <td>153.000000</td>\n",
       "      <td>153.000000</td>\n",
       "      <td>153.000000</td>\n",
       "      <td>...</td>\n",
       "      <td>153.000000</td>\n",
       "      <td>153.000000</td>\n",
       "      <td>153.000000</td>\n",
       "      <td>153.000000</td>\n",
       "      <td>153.000000</td>\n",
       "      <td>153.000000</td>\n",
       "      <td>153.000000</td>\n",
       "      <td>153.000000</td>\n",
       "      <td>153.000000</td>\n",
       "      <td>153.000000</td>\n",
       "    </tr>\n",
       "    <tr>\n",
       "      <th>mean</th>\n",
       "      <td>0.410458</td>\n",
       "      <td>0.006536</td>\n",
       "      <td>0.006536</td>\n",
       "      <td>0.006536</td>\n",
       "      <td>0.013072</td>\n",
       "      <td>0.006536</td>\n",
       "      <td>0.006536</td>\n",
       "      <td>0.006536</td>\n",
       "      <td>0.006536</td>\n",
       "      <td>0.006536</td>\n",
       "      <td>...</td>\n",
       "      <td>0.026144</td>\n",
       "      <td>0.052288</td>\n",
       "      <td>0.006536</td>\n",
       "      <td>0.084967</td>\n",
       "      <td>0.019608</td>\n",
       "      <td>0.124183</td>\n",
       "      <td>0.261438</td>\n",
       "      <td>0.058824</td>\n",
       "      <td>0.183007</td>\n",
       "      <td>0.352941</td>\n",
       "    </tr>\n",
       "    <tr>\n",
       "      <th>std</th>\n",
       "      <td>0.197732</td>\n",
       "      <td>0.080845</td>\n",
       "      <td>0.080845</td>\n",
       "      <td>0.080845</td>\n",
       "      <td>0.113956</td>\n",
       "      <td>0.080845</td>\n",
       "      <td>0.080845</td>\n",
       "      <td>0.080845</td>\n",
       "      <td>0.080845</td>\n",
       "      <td>0.080845</td>\n",
       "      <td>...</td>\n",
       "      <td>0.160087</td>\n",
       "      <td>0.223337</td>\n",
       "      <td>0.080845</td>\n",
       "      <td>0.279749</td>\n",
       "      <td>0.139104</td>\n",
       "      <td>0.330873</td>\n",
       "      <td>0.440861</td>\n",
       "      <td>0.236067</td>\n",
       "      <td>0.387942</td>\n",
       "      <td>0.479454</td>\n",
       "    </tr>\n",
       "    <tr>\n",
       "      <th>min</th>\n",
       "      <td>0.000000</td>\n",
       "      <td>0.000000</td>\n",
       "      <td>0.000000</td>\n",
       "      <td>0.000000</td>\n",
       "      <td>0.000000</td>\n",
       "      <td>0.000000</td>\n",
       "      <td>0.000000</td>\n",
       "      <td>0.000000</td>\n",
       "      <td>0.000000</td>\n",
       "      <td>0.000000</td>\n",
       "      <td>...</td>\n",
       "      <td>0.000000</td>\n",
       "      <td>0.000000</td>\n",
       "      <td>0.000000</td>\n",
       "      <td>0.000000</td>\n",
       "      <td>0.000000</td>\n",
       "      <td>0.000000</td>\n",
       "      <td>0.000000</td>\n",
       "      <td>0.000000</td>\n",
       "      <td>0.000000</td>\n",
       "      <td>0.000000</td>\n",
       "    </tr>\n",
       "    <tr>\n",
       "      <th>25%</th>\n",
       "      <td>0.285714</td>\n",
       "      <td>0.000000</td>\n",
       "      <td>0.000000</td>\n",
       "      <td>0.000000</td>\n",
       "      <td>0.000000</td>\n",
       "      <td>0.000000</td>\n",
       "      <td>0.000000</td>\n",
       "      <td>0.000000</td>\n",
       "      <td>0.000000</td>\n",
       "      <td>0.000000</td>\n",
       "      <td>...</td>\n",
       "      <td>0.000000</td>\n",
       "      <td>0.000000</td>\n",
       "      <td>0.000000</td>\n",
       "      <td>0.000000</td>\n",
       "      <td>0.000000</td>\n",
       "      <td>0.000000</td>\n",
       "      <td>0.000000</td>\n",
       "      <td>0.000000</td>\n",
       "      <td>0.000000</td>\n",
       "      <td>0.000000</td>\n",
       "    </tr>\n",
       "    <tr>\n",
       "      <th>50%</th>\n",
       "      <td>0.357143</td>\n",
       "      <td>0.000000</td>\n",
       "      <td>0.000000</td>\n",
       "      <td>0.000000</td>\n",
       "      <td>0.000000</td>\n",
       "      <td>0.000000</td>\n",
       "      <td>0.000000</td>\n",
       "      <td>0.000000</td>\n",
       "      <td>0.000000</td>\n",
       "      <td>0.000000</td>\n",
       "      <td>...</td>\n",
       "      <td>0.000000</td>\n",
       "      <td>0.000000</td>\n",
       "      <td>0.000000</td>\n",
       "      <td>0.000000</td>\n",
       "      <td>0.000000</td>\n",
       "      <td>0.000000</td>\n",
       "      <td>0.000000</td>\n",
       "      <td>0.000000</td>\n",
       "      <td>0.000000</td>\n",
       "      <td>0.000000</td>\n",
       "    </tr>\n",
       "    <tr>\n",
       "      <th>75%</th>\n",
       "      <td>0.500000</td>\n",
       "      <td>0.000000</td>\n",
       "      <td>0.000000</td>\n",
       "      <td>0.000000</td>\n",
       "      <td>0.000000</td>\n",
       "      <td>0.000000</td>\n",
       "      <td>0.000000</td>\n",
       "      <td>0.000000</td>\n",
       "      <td>0.000000</td>\n",
       "      <td>0.000000</td>\n",
       "      <td>...</td>\n",
       "      <td>0.000000</td>\n",
       "      <td>0.000000</td>\n",
       "      <td>0.000000</td>\n",
       "      <td>0.000000</td>\n",
       "      <td>0.000000</td>\n",
       "      <td>0.000000</td>\n",
       "      <td>1.000000</td>\n",
       "      <td>0.000000</td>\n",
       "      <td>0.000000</td>\n",
       "      <td>1.000000</td>\n",
       "    </tr>\n",
       "    <tr>\n",
       "      <th>max</th>\n",
       "      <td>1.000000</td>\n",
       "      <td>1.000000</td>\n",
       "      <td>1.000000</td>\n",
       "      <td>1.000000</td>\n",
       "      <td>1.000000</td>\n",
       "      <td>1.000000</td>\n",
       "      <td>1.000000</td>\n",
       "      <td>1.000000</td>\n",
       "      <td>1.000000</td>\n",
       "      <td>1.000000</td>\n",
       "      <td>...</td>\n",
       "      <td>1.000000</td>\n",
       "      <td>1.000000</td>\n",
       "      <td>1.000000</td>\n",
       "      <td>1.000000</td>\n",
       "      <td>1.000000</td>\n",
       "      <td>1.000000</td>\n",
       "      <td>1.000000</td>\n",
       "      <td>1.000000</td>\n",
       "      <td>1.000000</td>\n",
       "      <td>1.000000</td>\n",
       "    </tr>\n",
       "  </tbody>\n",
       "</table>\n",
       "<p>8 rows × 190 columns</p>\n",
       "</div>"
      ],
      "text/plain": [
       "        cook_time  ingredients_Aloo, urad dal, mustard, ginger, curry leaves  \\\n",
       "count  153.000000                                         153.000000           \n",
       "mean     0.410458                                           0.006536           \n",
       "std      0.197732                                           0.080845           \n",
       "min      0.000000                                           0.000000           \n",
       "25%      0.285714                                           0.000000           \n",
       "50%      0.357143                                           0.000000           \n",
       "75%      0.500000                                           0.000000           \n",
       "max      1.000000                                           1.000000           \n",
       "\n",
       "       ingredients_Amaranth leaves, split urad dal, mustard seeds, grated coconut, red chili  \\\n",
       "count                                         153.000000                                       \n",
       "mean                                            0.006536                                       \n",
       "std                                             0.080845                                       \n",
       "min                                             0.000000                                       \n",
       "25%                                             0.000000                                       \n",
       "50%                                             0.000000                                       \n",
       "75%                                             0.000000                                       \n",
       "max                                             1.000000                                       \n",
       "\n",
       "       ingredients_Apricots, sugar syrup  \\\n",
       "count                         153.000000   \n",
       "mean                            0.006536   \n",
       "std                             0.080845   \n",
       "min                             0.000000   \n",
       "25%                             0.000000   \n",
       "50%                             0.000000   \n",
       "75%                             0.000000   \n",
       "max                             1.000000   \n",
       "\n",
       "       ingredients_Arbi ke patte, sesame seeds, gur, bengal gram flour, imli  \\\n",
       "count                                         153.000000                       \n",
       "mean                                            0.013072                       \n",
       "std                                             0.113956                       \n",
       "min                                             0.000000                       \n",
       "25%                                             0.000000                       \n",
       "50%                                             0.000000                       \n",
       "75%                                             0.000000                       \n",
       "max                                             1.000000                       \n",
       "\n",
       "       ingredients_Baby corn, french beans, garam masala, ginger, carrot  \\\n",
       "count                                         153.000000                   \n",
       "mean                                            0.006536                   \n",
       "std                                             0.080845                   \n",
       "min                                             0.000000                   \n",
       "25%                                             0.000000                   \n",
       "50%                                             0.000000                   \n",
       "75%                                             0.000000                   \n",
       "max                                             1.000000                   \n",
       "\n",
       "       ingredients_Baby potatoes, garam masala, cashew nuts, kasuri methi, tomatoes  \\\n",
       "count                                         153.000000                              \n",
       "mean                                            0.006536                              \n",
       "std                                             0.080845                              \n",
       "min                                             0.000000                              \n",
       "25%                                             0.000000                              \n",
       "50%                                             0.000000                              \n",
       "75%                                             0.000000                              \n",
       "max                                             1.000000                              \n",
       "\n",
       "       ingredients_Baking soda, clarified butter, oil, all purpose flour  \\\n",
       "count                                         153.000000                   \n",
       "mean                                            0.006536                   \n",
       "std                                             0.080845                   \n",
       "min                                             0.000000                   \n",
       "25%                                             0.000000                   \n",
       "50%                                             0.000000                   \n",
       "75%                                             0.000000                   \n",
       "max                                             1.000000                   \n",
       "\n",
       "       ingredients_Beaten rice flakes, potato, curry leaves, green chilies, lemon juice  \\\n",
       "count                                         153.000000                                  \n",
       "mean                                            0.006536                                  \n",
       "std                                             0.080845                                  \n",
       "min                                             0.000000                                  \n",
       "25%                                             0.000000                                  \n",
       "50%                                             0.000000                                  \n",
       "75%                                             0.000000                                  \n",
       "max                                             1.000000                                  \n",
       "\n",
       "       ingredients_Beef, coconut, garam masala, curry leaves, green chilies, chili powder  \\\n",
       "count                                         153.000000                                    \n",
       "mean                                            0.006536                                    \n",
       "std                                             0.080845                                    \n",
       "min                                             0.000000                                    \n",
       "25%                                             0.000000                                    \n",
       "50%                                             0.000000                                    \n",
       "75%                                             0.000000                                    \n",
       "max                                             1.000000                                    \n",
       "\n",
       "       ...  state_Telangana  state_Uttar Pradesh  state_Uttarakhand  \\\n",
       "count  ...       153.000000           153.000000         153.000000   \n",
       "mean   ...         0.026144             0.052288           0.006536   \n",
       "std    ...         0.160087             0.223337           0.080845   \n",
       "min    ...         0.000000             0.000000           0.000000   \n",
       "25%    ...         0.000000             0.000000           0.000000   \n",
       "50%    ...         0.000000             0.000000           0.000000   \n",
       "75%    ...         0.000000             0.000000           0.000000   \n",
       "max    ...         1.000000             1.000000           1.000000   \n",
       "\n",
       "       state_West Bengal  region_Central  region_East  region_North  \\\n",
       "count         153.000000      153.000000   153.000000    153.000000   \n",
       "mean            0.084967        0.019608     0.124183      0.261438   \n",
       "std             0.279749        0.139104     0.330873      0.440861   \n",
       "min             0.000000        0.000000     0.000000      0.000000   \n",
       "25%             0.000000        0.000000     0.000000      0.000000   \n",
       "50%             0.000000        0.000000     0.000000      0.000000   \n",
       "75%             0.000000        0.000000     0.000000      1.000000   \n",
       "max             1.000000        1.000000     1.000000      1.000000   \n",
       "\n",
       "       region_North East  region_South  region_West  \n",
       "count         153.000000    153.000000   153.000000  \n",
       "mean            0.058824      0.183007     0.352941  \n",
       "std             0.236067      0.387942     0.479454  \n",
       "min             0.000000      0.000000     0.000000  \n",
       "25%             0.000000      0.000000     0.000000  \n",
       "50%             0.000000      0.000000     0.000000  \n",
       "75%             0.000000      0.000000     1.000000  \n",
       "max             1.000000      1.000000     1.000000  \n",
       "\n",
       "[8 rows x 190 columns]"
      ]
     },
     "execution_count": 167,
     "metadata": {},
     "output_type": "execute_result"
    }
   ],
   "source": [
    "X.describe()"
   ]
  },
  {
   "cell_type": "code",
   "execution_count": 168,
   "id": "3e795932",
   "metadata": {},
   "outputs": [],
   "source": [
    "X_train, X_test, y_train, y_test = train_test_split(X, y, test_size=0.2, random_state=42)"
   ]
  },
  {
   "cell_type": "code",
   "execution_count": 169,
   "id": "8ac28022",
   "metadata": {},
   "outputs": [
    {
     "name": "stdout",
     "output_type": "stream",
     "text": [
      "(122, 190)\n",
      "(31, 190)\n",
      "(122,)\n",
      "(31,)\n"
     ]
    }
   ],
   "source": [
    "print(X_train.shape)\n",
    "print(X_test.shape)\n",
    "print(y_train.shape) \n",
    "print(y_test.shape)"
   ]
  },
  {
   "cell_type": "code",
   "execution_count": null,
   "id": "5fa8dba1",
   "metadata": {},
   "outputs": [],
   "source": [
    "#Almost all the dishes have similar prep-time.\n",
    "#Spicy food is the highest"
   ]
  },
  {
   "cell_type": "raw",
   "id": "7e7e560d",
   "metadata": {},
   "source": [
    "--------------------------------------------------------------------------------------------------------------------------------"
   ]
  },
  {
   "cell_type": "markdown",
   "id": "95dbfadc",
   "metadata": {},
   "source": [
    "### DATASET 2"
   ]
  },
  {
   "cell_type": "code",
   "execution_count": 40,
   "id": "d768423a",
   "metadata": {},
   "outputs": [],
   "source": [
    "df = pd.read_csv('Inequality in Education.csv')"
   ]
  },
  {
   "cell_type": "code",
   "execution_count": 41,
   "id": "dc7db75a",
   "metadata": {},
   "outputs": [
    {
     "data": {
      "text/html": [
       "<div>\n",
       "<style scoped>\n",
       "    .dataframe tbody tr th:only-of-type {\n",
       "        vertical-align: middle;\n",
       "    }\n",
       "\n",
       "    .dataframe tbody tr th {\n",
       "        vertical-align: top;\n",
       "    }\n",
       "\n",
       "    .dataframe thead th {\n",
       "        text-align: right;\n",
       "    }\n",
       "</style>\n",
       "<table border=\"1\" class=\"dataframe\">\n",
       "  <thead>\n",
       "    <tr style=\"text-align: right;\">\n",
       "      <th></th>\n",
       "      <th>ISO3</th>\n",
       "      <th>Country</th>\n",
       "      <th>Human Development Groups</th>\n",
       "      <th>UNDP Developing Regions</th>\n",
       "      <th>HDI Rank (2021)</th>\n",
       "      <th>Inequality in Education (2010)</th>\n",
       "      <th>Inequality in Education (2011)</th>\n",
       "      <th>Inequality in Education (2012)</th>\n",
       "      <th>Inequality in Education (2013)</th>\n",
       "      <th>Inequality in Education (2014)</th>\n",
       "      <th>Inequality in Education (2015)</th>\n",
       "      <th>Inequality in Education (2016)</th>\n",
       "      <th>Inequality in Education (2017)</th>\n",
       "      <th>Inequality in Education (2018)</th>\n",
       "      <th>Inequality in Education (2019)</th>\n",
       "      <th>Inequality in Education (2020)</th>\n",
       "      <th>Inequality in Education (2021)</th>\n",
       "    </tr>\n",
       "  </thead>\n",
       "  <tbody>\n",
       "    <tr>\n",
       "      <th>0</th>\n",
       "      <td>AFG</td>\n",
       "      <td>Afghanistan</td>\n",
       "      <td>Low</td>\n",
       "      <td>SA</td>\n",
       "      <td>180.0</td>\n",
       "      <td>42.809000</td>\n",
       "      <td>44.823380</td>\n",
       "      <td>44.823380</td>\n",
       "      <td>44.823380</td>\n",
       "      <td>44.823380</td>\n",
       "      <td>45.365170</td>\n",
       "      <td>45.365170</td>\n",
       "      <td>45.365170</td>\n",
       "      <td>45.365170</td>\n",
       "      <td>45.365170</td>\n",
       "      <td>45.365170</td>\n",
       "      <td>45.365170</td>\n",
       "    </tr>\n",
       "    <tr>\n",
       "      <th>1</th>\n",
       "      <td>AGO</td>\n",
       "      <td>Angola</td>\n",
       "      <td>Medium</td>\n",
       "      <td>SSA</td>\n",
       "      <td>148.0</td>\n",
       "      <td>NaN</td>\n",
       "      <td>NaN</td>\n",
       "      <td>NaN</td>\n",
       "      <td>NaN</td>\n",
       "      <td>NaN</td>\n",
       "      <td>34.171440</td>\n",
       "      <td>34.171440</td>\n",
       "      <td>34.171440</td>\n",
       "      <td>34.171440</td>\n",
       "      <td>34.171440</td>\n",
       "      <td>34.171440</td>\n",
       "      <td>34.171440</td>\n",
       "    </tr>\n",
       "    <tr>\n",
       "      <th>2</th>\n",
       "      <td>ALB</td>\n",
       "      <td>Albania</td>\n",
       "      <td>High</td>\n",
       "      <td>ECA</td>\n",
       "      <td>67.0</td>\n",
       "      <td>11.900000</td>\n",
       "      <td>11.900000</td>\n",
       "      <td>11.900000</td>\n",
       "      <td>11.900000</td>\n",
       "      <td>11.900000</td>\n",
       "      <td>11.900000</td>\n",
       "      <td>11.900000</td>\n",
       "      <td>12.333440</td>\n",
       "      <td>12.333440</td>\n",
       "      <td>12.333440</td>\n",
       "      <td>12.333440</td>\n",
       "      <td>12.333440</td>\n",
       "    </tr>\n",
       "    <tr>\n",
       "      <th>3</th>\n",
       "      <td>AND</td>\n",
       "      <td>Andorra</td>\n",
       "      <td>Very High</td>\n",
       "      <td>NaN</td>\n",
       "      <td>40.0</td>\n",
       "      <td>15.160302</td>\n",
       "      <td>15.160302</td>\n",
       "      <td>15.160302</td>\n",
       "      <td>15.160302</td>\n",
       "      <td>9.965681</td>\n",
       "      <td>10.083815</td>\n",
       "      <td>10.008154</td>\n",
       "      <td>10.008154</td>\n",
       "      <td>10.008154</td>\n",
       "      <td>10.008154</td>\n",
       "      <td>10.008154</td>\n",
       "      <td>10.008154</td>\n",
       "    </tr>\n",
       "    <tr>\n",
       "      <th>4</th>\n",
       "      <td>ARE</td>\n",
       "      <td>United Arab Emirates</td>\n",
       "      <td>Very High</td>\n",
       "      <td>AS</td>\n",
       "      <td>26.0</td>\n",
       "      <td>NaN</td>\n",
       "      <td>NaN</td>\n",
       "      <td>NaN</td>\n",
       "      <td>NaN</td>\n",
       "      <td>NaN</td>\n",
       "      <td>NaN</td>\n",
       "      <td>18.241437</td>\n",
       "      <td>14.475335</td>\n",
       "      <td>12.634355</td>\n",
       "      <td>12.634355</td>\n",
       "      <td>12.634355</td>\n",
       "      <td>12.634355</td>\n",
       "    </tr>\n",
       "  </tbody>\n",
       "</table>\n",
       "</div>"
      ],
      "text/plain": [
       "  ISO3               Country Human Development Groups UNDP Developing Regions  \\\n",
       "0  AFG           Afghanistan                      Low                      SA   \n",
       "1  AGO                Angola                   Medium                     SSA   \n",
       "2  ALB               Albania                     High                     ECA   \n",
       "3  AND               Andorra                Very High                     NaN   \n",
       "4  ARE  United Arab Emirates                Very High                      AS   \n",
       "\n",
       "   HDI Rank (2021)  Inequality in Education (2010)  \\\n",
       "0            180.0                       42.809000   \n",
       "1            148.0                             NaN   \n",
       "2             67.0                       11.900000   \n",
       "3             40.0                       15.160302   \n",
       "4             26.0                             NaN   \n",
       "\n",
       "   Inequality in Education (2011)  Inequality in Education (2012)  \\\n",
       "0                       44.823380                       44.823380   \n",
       "1                             NaN                             NaN   \n",
       "2                       11.900000                       11.900000   \n",
       "3                       15.160302                       15.160302   \n",
       "4                             NaN                             NaN   \n",
       "\n",
       "   Inequality in Education (2013)  Inequality in Education (2014)  \\\n",
       "0                       44.823380                       44.823380   \n",
       "1                             NaN                             NaN   \n",
       "2                       11.900000                       11.900000   \n",
       "3                       15.160302                        9.965681   \n",
       "4                             NaN                             NaN   \n",
       "\n",
       "   Inequality in Education (2015)  Inequality in Education (2016)  \\\n",
       "0                       45.365170                       45.365170   \n",
       "1                       34.171440                       34.171440   \n",
       "2                       11.900000                       11.900000   \n",
       "3                       10.083815                       10.008154   \n",
       "4                             NaN                       18.241437   \n",
       "\n",
       "   Inequality in Education (2017)  Inequality in Education (2018)  \\\n",
       "0                       45.365170                       45.365170   \n",
       "1                       34.171440                       34.171440   \n",
       "2                       12.333440                       12.333440   \n",
       "3                       10.008154                       10.008154   \n",
       "4                       14.475335                       12.634355   \n",
       "\n",
       "   Inequality in Education (2019)  Inequality in Education (2020)  \\\n",
       "0                       45.365170                       45.365170   \n",
       "1                       34.171440                       34.171440   \n",
       "2                       12.333440                       12.333440   \n",
       "3                       10.008154                       10.008154   \n",
       "4                       12.634355                       12.634355   \n",
       "\n",
       "   Inequality in Education (2021)  \n",
       "0                       45.365170  \n",
       "1                       34.171440  \n",
       "2                       12.333440  \n",
       "3                       10.008154  \n",
       "4                       12.634355  "
      ]
     },
     "execution_count": 41,
     "metadata": {},
     "output_type": "execute_result"
    }
   ],
   "source": [
    "df.head()"
   ]
  },
  {
   "cell_type": "code",
   "execution_count": 42,
   "id": "100ba087",
   "metadata": {},
   "outputs": [
    {
     "data": {
      "text/html": [
       "<div>\n",
       "<style scoped>\n",
       "    .dataframe tbody tr th:only-of-type {\n",
       "        vertical-align: middle;\n",
       "    }\n",
       "\n",
       "    .dataframe tbody tr th {\n",
       "        vertical-align: top;\n",
       "    }\n",
       "\n",
       "    .dataframe thead th {\n",
       "        text-align: right;\n",
       "    }\n",
       "</style>\n",
       "<table border=\"1\" class=\"dataframe\">\n",
       "  <thead>\n",
       "    <tr style=\"text-align: right;\">\n",
       "      <th></th>\n",
       "      <th>ISO3</th>\n",
       "      <th>Country</th>\n",
       "      <th>Human Development Groups</th>\n",
       "      <th>UNDP Developing Regions</th>\n",
       "      <th>HDI Rank (2021)</th>\n",
       "      <th>Inequality in Education (2010)</th>\n",
       "      <th>Inequality in Education (2011)</th>\n",
       "      <th>Inequality in Education (2012)</th>\n",
       "      <th>Inequality in Education (2013)</th>\n",
       "      <th>Inequality in Education (2014)</th>\n",
       "      <th>Inequality in Education (2015)</th>\n",
       "      <th>Inequality in Education (2016)</th>\n",
       "      <th>Inequality in Education (2017)</th>\n",
       "      <th>Inequality in Education (2018)</th>\n",
       "      <th>Inequality in Education (2019)</th>\n",
       "      <th>Inequality in Education (2020)</th>\n",
       "      <th>Inequality in Education (2021)</th>\n",
       "    </tr>\n",
       "  </thead>\n",
       "  <tbody>\n",
       "    <tr>\n",
       "      <th>190</th>\n",
       "      <td>WSM</td>\n",
       "      <td>Samoa</td>\n",
       "      <td>High</td>\n",
       "      <td>EAP</td>\n",
       "      <td>111.0</td>\n",
       "      <td>NaN</td>\n",
       "      <td>NaN</td>\n",
       "      <td>NaN</td>\n",
       "      <td>NaN</td>\n",
       "      <td>NaN</td>\n",
       "      <td>NaN</td>\n",
       "      <td>NaN</td>\n",
       "      <td>NaN</td>\n",
       "      <td>NaN</td>\n",
       "      <td>NaN</td>\n",
       "      <td>7.02996</td>\n",
       "      <td>7.02996</td>\n",
       "    </tr>\n",
       "    <tr>\n",
       "      <th>191</th>\n",
       "      <td>YEM</td>\n",
       "      <td>Yemen</td>\n",
       "      <td>Low</td>\n",
       "      <td>AS</td>\n",
       "      <td>183.0</td>\n",
       "      <td>48.09012</td>\n",
       "      <td>48.09012</td>\n",
       "      <td>48.09012</td>\n",
       "      <td>46.13765</td>\n",
       "      <td>46.13765</td>\n",
       "      <td>46.13765</td>\n",
       "      <td>46.13765</td>\n",
       "      <td>46.13765</td>\n",
       "      <td>46.13765</td>\n",
       "      <td>46.13765</td>\n",
       "      <td>46.13765</td>\n",
       "      <td>46.13765</td>\n",
       "    </tr>\n",
       "    <tr>\n",
       "      <th>192</th>\n",
       "      <td>ZAF</td>\n",
       "      <td>South Africa</td>\n",
       "      <td>High</td>\n",
       "      <td>SSA</td>\n",
       "      <td>109.0</td>\n",
       "      <td>NaN</td>\n",
       "      <td>NaN</td>\n",
       "      <td>16.06077</td>\n",
       "      <td>16.06077</td>\n",
       "      <td>16.06077</td>\n",
       "      <td>14.26559</td>\n",
       "      <td>17.29413</td>\n",
       "      <td>17.29413</td>\n",
       "      <td>17.29413</td>\n",
       "      <td>17.29413</td>\n",
       "      <td>17.29413</td>\n",
       "      <td>17.29413</td>\n",
       "    </tr>\n",
       "    <tr>\n",
       "      <th>193</th>\n",
       "      <td>ZMB</td>\n",
       "      <td>Zambia</td>\n",
       "      <td>Medium</td>\n",
       "      <td>SSA</td>\n",
       "      <td>154.0</td>\n",
       "      <td>23.76000</td>\n",
       "      <td>23.76000</td>\n",
       "      <td>23.76000</td>\n",
       "      <td>23.76000</td>\n",
       "      <td>21.73491</td>\n",
       "      <td>21.73491</td>\n",
       "      <td>21.73491</td>\n",
       "      <td>21.73491</td>\n",
       "      <td>20.43572</td>\n",
       "      <td>20.43572</td>\n",
       "      <td>20.43572</td>\n",
       "      <td>20.43572</td>\n",
       "    </tr>\n",
       "    <tr>\n",
       "      <th>194</th>\n",
       "      <td>ZWE</td>\n",
       "      <td>Zimbabwe</td>\n",
       "      <td>Medium</td>\n",
       "      <td>SSA</td>\n",
       "      <td>146.0</td>\n",
       "      <td>17.82500</td>\n",
       "      <td>17.82500</td>\n",
       "      <td>17.82500</td>\n",
       "      <td>17.82500</td>\n",
       "      <td>17.39521</td>\n",
       "      <td>16.80576</td>\n",
       "      <td>16.80576</td>\n",
       "      <td>16.80576</td>\n",
       "      <td>16.80576</td>\n",
       "      <td>14.60503</td>\n",
       "      <td>14.60503</td>\n",
       "      <td>14.60503</td>\n",
       "    </tr>\n",
       "  </tbody>\n",
       "</table>\n",
       "</div>"
      ],
      "text/plain": [
       "    ISO3       Country Human Development Groups UNDP Developing Regions  \\\n",
       "190  WSM         Samoa                     High                     EAP   \n",
       "191  YEM         Yemen                      Low                      AS   \n",
       "192  ZAF  South Africa                     High                     SSA   \n",
       "193  ZMB        Zambia                   Medium                     SSA   \n",
       "194  ZWE      Zimbabwe                   Medium                     SSA   \n",
       "\n",
       "     HDI Rank (2021)  Inequality in Education (2010)  \\\n",
       "190            111.0                             NaN   \n",
       "191            183.0                        48.09012   \n",
       "192            109.0                             NaN   \n",
       "193            154.0                        23.76000   \n",
       "194            146.0                        17.82500   \n",
       "\n",
       "     Inequality in Education (2011)  Inequality in Education (2012)  \\\n",
       "190                             NaN                             NaN   \n",
       "191                        48.09012                        48.09012   \n",
       "192                             NaN                        16.06077   \n",
       "193                        23.76000                        23.76000   \n",
       "194                        17.82500                        17.82500   \n",
       "\n",
       "     Inequality in Education (2013)  Inequality in Education (2014)  \\\n",
       "190                             NaN                             NaN   \n",
       "191                        46.13765                        46.13765   \n",
       "192                        16.06077                        16.06077   \n",
       "193                        23.76000                        21.73491   \n",
       "194                        17.82500                        17.39521   \n",
       "\n",
       "     Inequality in Education (2015)  Inequality in Education (2016)  \\\n",
       "190                             NaN                             NaN   \n",
       "191                        46.13765                        46.13765   \n",
       "192                        14.26559                        17.29413   \n",
       "193                        21.73491                        21.73491   \n",
       "194                        16.80576                        16.80576   \n",
       "\n",
       "     Inequality in Education (2017)  Inequality in Education (2018)  \\\n",
       "190                             NaN                             NaN   \n",
       "191                        46.13765                        46.13765   \n",
       "192                        17.29413                        17.29413   \n",
       "193                        21.73491                        20.43572   \n",
       "194                        16.80576                        16.80576   \n",
       "\n",
       "     Inequality in Education (2019)  Inequality in Education (2020)  \\\n",
       "190                             NaN                         7.02996   \n",
       "191                        46.13765                        46.13765   \n",
       "192                        17.29413                        17.29413   \n",
       "193                        20.43572                        20.43572   \n",
       "194                        14.60503                        14.60503   \n",
       "\n",
       "     Inequality in Education (2021)  \n",
       "190                         7.02996  \n",
       "191                        46.13765  \n",
       "192                        17.29413  \n",
       "193                        20.43572  \n",
       "194                        14.60503  "
      ]
     },
     "execution_count": 42,
     "metadata": {},
     "output_type": "execute_result"
    }
   ],
   "source": [
    "df.tail()"
   ]
  },
  {
   "cell_type": "code",
   "execution_count": 43,
   "id": "6187cbef",
   "metadata": {},
   "outputs": [
    {
     "data": {
      "text/plain": [
       "(195, 17)"
      ]
     },
     "execution_count": 43,
     "metadata": {},
     "output_type": "execute_result"
    }
   ],
   "source": [
    "df.shape"
   ]
  },
  {
   "cell_type": "code",
   "execution_count": 44,
   "id": "0b6e5d6c",
   "metadata": {},
   "outputs": [
    {
     "data": {
      "text/plain": [
       "ISO3                               object\n",
       "Country                            object\n",
       "Human Development Groups           object\n",
       "UNDP Developing Regions            object\n",
       "HDI Rank (2021)                   float64\n",
       "Inequality in Education (2010)    float64\n",
       "Inequality in Education (2011)    float64\n",
       "Inequality in Education (2012)    float64\n",
       "Inequality in Education (2013)    float64\n",
       "Inequality in Education (2014)    float64\n",
       "Inequality in Education (2015)    float64\n",
       "Inequality in Education (2016)    float64\n",
       "Inequality in Education (2017)    float64\n",
       "Inequality in Education (2018)    float64\n",
       "Inequality in Education (2019)    float64\n",
       "Inequality in Education (2020)    float64\n",
       "Inequality in Education (2021)    float64\n",
       "dtype: object"
      ]
     },
     "execution_count": 44,
     "metadata": {},
     "output_type": "execute_result"
    }
   ],
   "source": [
    "df.dtypes"
   ]
  },
  {
   "cell_type": "code",
   "execution_count": 45,
   "id": "02e5e2b2",
   "metadata": {},
   "outputs": [
    {
     "name": "stdout",
     "output_type": "stream",
     "text": [
      "Index(['ISO3', 'Country', 'Human Development Groups',\n",
      "       'UNDP Developing Regions', 'HDI Rank (2021)',\n",
      "       'Inequality in Education (2010)', 'Inequality in Education (2011)',\n",
      "       'Inequality in Education (2012)', 'Inequality in Education (2013)',\n",
      "       'Inequality in Education (2014)', 'Inequality in Education (2015)',\n",
      "       'Inequality in Education (2016)', 'Inequality in Education (2017)',\n",
      "       'Inequality in Education (2018)', 'Inequality in Education (2019)',\n",
      "       'Inequality in Education (2020)', 'Inequality in Education (2021)'],\n",
      "      dtype='object')\n"
     ]
    }
   ],
   "source": [
    "print(df.columns)"
   ]
  },
  {
   "cell_type": "code",
   "execution_count": 46,
   "id": "91363819",
   "metadata": {},
   "outputs": [
    {
     "data": {
      "text/html": [
       "<div>\n",
       "<style scoped>\n",
       "    .dataframe tbody tr th:only-of-type {\n",
       "        vertical-align: middle;\n",
       "    }\n",
       "\n",
       "    .dataframe tbody tr th {\n",
       "        vertical-align: top;\n",
       "    }\n",
       "\n",
       "    .dataframe thead th {\n",
       "        text-align: right;\n",
       "    }\n",
       "</style>\n",
       "<table border=\"1\" class=\"dataframe\">\n",
       "  <thead>\n",
       "    <tr style=\"text-align: right;\">\n",
       "      <th></th>\n",
       "      <th>HDI Rank (2021)</th>\n",
       "      <th>Inequality in Education (2010)</th>\n",
       "      <th>Inequality in Education (2011)</th>\n",
       "      <th>Inequality in Education (2012)</th>\n",
       "      <th>Inequality in Education (2013)</th>\n",
       "      <th>Inequality in Education (2014)</th>\n",
       "      <th>Inequality in Education (2015)</th>\n",
       "      <th>Inequality in Education (2016)</th>\n",
       "      <th>Inequality in Education (2017)</th>\n",
       "      <th>Inequality in Education (2018)</th>\n",
       "      <th>Inequality in Education (2019)</th>\n",
       "      <th>Inequality in Education (2020)</th>\n",
       "      <th>Inequality in Education (2021)</th>\n",
       "    </tr>\n",
       "  </thead>\n",
       "  <tbody>\n",
       "    <tr>\n",
       "      <th>count</th>\n",
       "      <td>191.000000</td>\n",
       "      <td>137.000000</td>\n",
       "      <td>150.000000</td>\n",
       "      <td>157.000000</td>\n",
       "      <td>165.000000</td>\n",
       "      <td>168.000000</td>\n",
       "      <td>168.000000</td>\n",
       "      <td>168.000000</td>\n",
       "      <td>168.000000</td>\n",
       "      <td>172.000000</td>\n",
       "      <td>174.000000</td>\n",
       "      <td>176.000000</td>\n",
       "      <td>176.000000</td>\n",
       "    </tr>\n",
       "    <tr>\n",
       "      <th>mean</th>\n",
       "      <td>95.811518</td>\n",
       "      <td>20.654419</td>\n",
       "      <td>19.991823</td>\n",
       "      <td>19.473658</td>\n",
       "      <td>19.258472</td>\n",
       "      <td>19.135457</td>\n",
       "      <td>19.133751</td>\n",
       "      <td>18.853851</td>\n",
       "      <td>18.649140</td>\n",
       "      <td>18.396401</td>\n",
       "      <td>18.212993</td>\n",
       "      <td>18.006314</td>\n",
       "      <td>18.006314</td>\n",
       "    </tr>\n",
       "    <tr>\n",
       "      <th>std</th>\n",
       "      <td>55.307333</td>\n",
       "      <td>14.392552</td>\n",
       "      <td>14.342499</td>\n",
       "      <td>14.305732</td>\n",
       "      <td>14.470344</td>\n",
       "      <td>14.350759</td>\n",
       "      <td>14.475000</td>\n",
       "      <td>14.479261</td>\n",
       "      <td>14.558072</td>\n",
       "      <td>14.546446</td>\n",
       "      <td>14.553003</td>\n",
       "      <td>14.569313</td>\n",
       "      <td>14.569313</td>\n",
       "    </tr>\n",
       "    <tr>\n",
       "      <th>min</th>\n",
       "      <td>1.000000</td>\n",
       "      <td>1.322970</td>\n",
       "      <td>1.385640</td>\n",
       "      <td>1.390450</td>\n",
       "      <td>0.779397</td>\n",
       "      <td>0.765510</td>\n",
       "      <td>0.757375</td>\n",
       "      <td>0.724854</td>\n",
       "      <td>0.724854</td>\n",
       "      <td>0.550110</td>\n",
       "      <td>0.550110</td>\n",
       "      <td>0.550110</td>\n",
       "      <td>0.550110</td>\n",
       "    </tr>\n",
       "    <tr>\n",
       "      <th>25%</th>\n",
       "      <td>48.500000</td>\n",
       "      <td>6.917102</td>\n",
       "      <td>6.119250</td>\n",
       "      <td>6.011760</td>\n",
       "      <td>5.605950</td>\n",
       "      <td>6.127907</td>\n",
       "      <td>6.209205</td>\n",
       "      <td>6.130745</td>\n",
       "      <td>5.591175</td>\n",
       "      <td>5.854422</td>\n",
       "      <td>5.618515</td>\n",
       "      <td>5.518733</td>\n",
       "      <td>5.518733</td>\n",
       "    </tr>\n",
       "    <tr>\n",
       "      <th>50%</th>\n",
       "      <td>96.000000</td>\n",
       "      <td>17.825000</td>\n",
       "      <td>17.312742</td>\n",
       "      <td>16.421150</td>\n",
       "      <td>16.060770</td>\n",
       "      <td>15.957630</td>\n",
       "      <td>15.344075</td>\n",
       "      <td>14.461598</td>\n",
       "      <td>14.292875</td>\n",
       "      <td>13.565415</td>\n",
       "      <td>13.263530</td>\n",
       "      <td>12.843558</td>\n",
       "      <td>12.843558</td>\n",
       "    </tr>\n",
       "    <tr>\n",
       "      <th>75%</th>\n",
       "      <td>143.500000</td>\n",
       "      <td>30.542861</td>\n",
       "      <td>30.176057</td>\n",
       "      <td>30.201410</td>\n",
       "      <td>30.542861</td>\n",
       "      <td>30.564901</td>\n",
       "      <td>29.686837</td>\n",
       "      <td>29.647365</td>\n",
       "      <td>29.647365</td>\n",
       "      <td>29.326065</td>\n",
       "      <td>29.303075</td>\n",
       "      <td>28.335352</td>\n",
       "      <td>28.335352</td>\n",
       "    </tr>\n",
       "    <tr>\n",
       "      <th>max</th>\n",
       "      <td>191.000000</td>\n",
       "      <td>48.723000</td>\n",
       "      <td>48.723000</td>\n",
       "      <td>48.723000</td>\n",
       "      <td>49.321290</td>\n",
       "      <td>49.321290</td>\n",
       "      <td>49.321290</td>\n",
       "      <td>49.321290</td>\n",
       "      <td>49.321290</td>\n",
       "      <td>50.124110</td>\n",
       "      <td>50.124110</td>\n",
       "      <td>50.124110</td>\n",
       "      <td>50.124110</td>\n",
       "    </tr>\n",
       "  </tbody>\n",
       "</table>\n",
       "</div>"
      ],
      "text/plain": [
       "       HDI Rank (2021)  Inequality in Education (2010)  \\\n",
       "count       191.000000                      137.000000   \n",
       "mean         95.811518                       20.654419   \n",
       "std          55.307333                       14.392552   \n",
       "min           1.000000                        1.322970   \n",
       "25%          48.500000                        6.917102   \n",
       "50%          96.000000                       17.825000   \n",
       "75%         143.500000                       30.542861   \n",
       "max         191.000000                       48.723000   \n",
       "\n",
       "       Inequality in Education (2011)  Inequality in Education (2012)  \\\n",
       "count                      150.000000                      157.000000   \n",
       "mean                        19.991823                       19.473658   \n",
       "std                         14.342499                       14.305732   \n",
       "min                          1.385640                        1.390450   \n",
       "25%                          6.119250                        6.011760   \n",
       "50%                         17.312742                       16.421150   \n",
       "75%                         30.176057                       30.201410   \n",
       "max                         48.723000                       48.723000   \n",
       "\n",
       "       Inequality in Education (2013)  Inequality in Education (2014)  \\\n",
       "count                      165.000000                      168.000000   \n",
       "mean                        19.258472                       19.135457   \n",
       "std                         14.470344                       14.350759   \n",
       "min                          0.779397                        0.765510   \n",
       "25%                          5.605950                        6.127907   \n",
       "50%                         16.060770                       15.957630   \n",
       "75%                         30.542861                       30.564901   \n",
       "max                         49.321290                       49.321290   \n",
       "\n",
       "       Inequality in Education (2015)  Inequality in Education (2016)  \\\n",
       "count                      168.000000                      168.000000   \n",
       "mean                        19.133751                       18.853851   \n",
       "std                         14.475000                       14.479261   \n",
       "min                          0.757375                        0.724854   \n",
       "25%                          6.209205                        6.130745   \n",
       "50%                         15.344075                       14.461598   \n",
       "75%                         29.686837                       29.647365   \n",
       "max                         49.321290                       49.321290   \n",
       "\n",
       "       Inequality in Education (2017)  Inequality in Education (2018)  \\\n",
       "count                      168.000000                      172.000000   \n",
       "mean                        18.649140                       18.396401   \n",
       "std                         14.558072                       14.546446   \n",
       "min                          0.724854                        0.550110   \n",
       "25%                          5.591175                        5.854422   \n",
       "50%                         14.292875                       13.565415   \n",
       "75%                         29.647365                       29.326065   \n",
       "max                         49.321290                       50.124110   \n",
       "\n",
       "       Inequality in Education (2019)  Inequality in Education (2020)  \\\n",
       "count                      174.000000                      176.000000   \n",
       "mean                        18.212993                       18.006314   \n",
       "std                         14.553003                       14.569313   \n",
       "min                          0.550110                        0.550110   \n",
       "25%                          5.618515                        5.518733   \n",
       "50%                         13.263530                       12.843558   \n",
       "75%                         29.303075                       28.335352   \n",
       "max                         50.124110                       50.124110   \n",
       "\n",
       "       Inequality in Education (2021)  \n",
       "count                      176.000000  \n",
       "mean                        18.006314  \n",
       "std                         14.569313  \n",
       "min                          0.550110  \n",
       "25%                          5.518733  \n",
       "50%                         12.843558  \n",
       "75%                         28.335352  \n",
       "max                         50.124110  "
      ]
     },
     "execution_count": 46,
     "metadata": {},
     "output_type": "execute_result"
    }
   ],
   "source": [
    "df.describe()"
   ]
  },
  {
   "cell_type": "code",
   "execution_count": 47,
   "id": "287e2379",
   "metadata": {},
   "outputs": [
    {
     "data": {
      "text/plain": [
       "AFG    1\n",
       "QAT    1\n",
       "MYS    1\n",
       "NAM    1\n",
       "NER    1\n",
       "      ..\n",
       "GNQ    1\n",
       "GRC    1\n",
       "GRD    1\n",
       "GTM    1\n",
       "ZWE    1\n",
       "Name: ISO3, Length: 195, dtype: int64"
      ]
     },
     "execution_count": 47,
     "metadata": {},
     "output_type": "execute_result"
    }
   ],
   "source": [
    "df.ISO3.value_counts()"
   ]
  },
  {
   "cell_type": "code",
   "execution_count": 48,
   "id": "7798e494",
   "metadata": {},
   "outputs": [
    {
     "data": {
      "text/plain": [
       "Afghanistan          1\n",
       "Qatar                1\n",
       "Malaysia             1\n",
       "Namibia              1\n",
       "Niger                1\n",
       "                    ..\n",
       "Equatorial Guinea    1\n",
       "Greece               1\n",
       "Grenada              1\n",
       "Guatemala            1\n",
       "Zimbabwe             1\n",
       "Name: Country, Length: 195, dtype: int64"
      ]
     },
     "execution_count": 48,
     "metadata": {},
     "output_type": "execute_result"
    }
   ],
   "source": [
    "df.Country.value_counts()"
   ]
  },
  {
   "cell_type": "code",
   "execution_count": 49,
   "id": "983528c5",
   "metadata": {},
   "outputs": [
    {
     "data": {
      "text/plain": [
       "Very High    66\n",
       "High         49\n",
       "Medium       44\n",
       "Low          32\n",
       "Name: Human Development Groups, dtype: int64"
      ]
     },
     "execution_count": 49,
     "metadata": {},
     "output_type": "execute_result"
    }
   ],
   "source": [
    "df['Human Development Groups'].value_counts()"
   ]
  },
  {
   "cell_type": "code",
   "execution_count": 50,
   "id": "1c83e5d4",
   "metadata": {},
   "outputs": [
    {
     "data": {
      "text/plain": [
       "SSA    46\n",
       "LAC    33\n",
       "EAP    26\n",
       "AS     20\n",
       "ECA    17\n",
       "SA      9\n",
       "Name: UNDP Developing Regions, dtype: int64"
      ]
     },
     "execution_count": 50,
     "metadata": {},
     "output_type": "execute_result"
    }
   ],
   "source": [
    "df['UNDP Developing Regions'].value_counts()"
   ]
  },
  {
   "cell_type": "code",
   "execution_count": 51,
   "id": "92d922bc",
   "metadata": {},
   "outputs": [
    {
     "data": {
      "text/plain": [
       "<Axes: xlabel='Country', ylabel='HDI Rank (2021)'>"
      ]
     },
     "execution_count": 51,
     "metadata": {},
     "output_type": "execute_result"
    },
    {
     "data": {
      "image/png": "[encoded data removed]",
      "text/plain": [
       "<Figure size 640x480 with 1 Axes>"
      ]
     },
     "metadata": {},
     "output_type": "display_data"
    }
   ],
   "source": [
    "sns.lineplot(x=df.Country.head(), y='HDI Rank (2021)', data=df, errorbar=None)"
   ]
  },
  {
   "cell_type": "code",
   "execution_count": 52,
   "id": "99fc2f48",
   "metadata": {},
   "outputs": [
    {
     "data": {
      "image/png": "[encoded data removed]",
      "text/plain": [
       "<Figure size 800x500 with 1 Axes>"
      ]
     },
     "metadata": {},
     "output_type": "display_data"
    }
   ],
   "source": [
    "plt.figure(figsize = (8,5))\n",
    "sns.histplot(df['Human Development Groups'],kde = True)\n",
    "plt.title('Histogram of Groups')\n",
    "plt.xlabel('Development Groups')\n",
    "plt.ylabel('Frequency')\n",
    "plt.show()"
   ]
  },
  {
   "cell_type": "code",
   "execution_count": null,
   "id": "491bf264",
   "metadata": {},
   "outputs": [],
   "source": [
    "#The line graph shows the HDI Rank for the year 2021\n",
    "#Afghanistan has the highest HDI\n",
    "#Developmet Groups describes how much countries have developed over the year\n",
    "#The number of Very High Development Groups is more"
   ]
  },
  {
   "cell_type": "code",
   "execution_count": 53,
   "id": "2f5360d4",
   "metadata": {},
   "outputs": [],
   "source": [
    "df = df.drop(columns=['ISO3','Inequality in Education (2011)','Inequality in Education (2010)'])"
   ]
  },
  {
   "cell_type": "code",
   "execution_count": 54,
   "id": "90dd15e5",
   "metadata": {},
   "outputs": [
    {
     "data": {
      "text/plain": [
       "(195, 14)"
      ]
     },
     "execution_count": 54,
     "metadata": {},
     "output_type": "execute_result"
    }
   ],
   "source": [
    "df.shape"
   ]
  },
  {
   "cell_type": "code",
   "execution_count": 322,
   "id": "ad68b69c",
   "metadata": {},
   "outputs": [],
   "source": [
    "df = df.dropna()"
   ]
  },
  {
   "cell_type": "code",
   "execution_count": 323,
   "id": "98c7d6de",
   "metadata": {},
   "outputs": [
    {
     "data": {
      "text/plain": [
       "(112, 14)"
      ]
     },
     "execution_count": 323,
     "metadata": {},
     "output_type": "execute_result"
    }
   ],
   "source": [
    "df.shape"
   ]
  },
  {
   "cell_type": "code",
   "execution_count": 324,
   "id": "c7feceb8",
   "metadata": {},
   "outputs": [
    {
     "data": {
      "text/html": [
       "<div>\n",
       "<style scoped>\n",
       "    .dataframe tbody tr th:only-of-type {\n",
       "        vertical-align: middle;\n",
       "    }\n",
       "\n",
       "    .dataframe tbody tr th {\n",
       "        vertical-align: top;\n",
       "    }\n",
       "\n",
       "    .dataframe thead th {\n",
       "        text-align: right;\n",
       "    }\n",
       "</style>\n",
       "<table border=\"1\" class=\"dataframe\">\n",
       "  <thead>\n",
       "    <tr style=\"text-align: right;\">\n",
       "      <th></th>\n",
       "      <th>HDI Rank (2021)</th>\n",
       "      <th>Inequality in Education (2012)</th>\n",
       "      <th>Inequality in Education (2013)</th>\n",
       "      <th>Inequality in Education (2014)</th>\n",
       "      <th>Inequality in Education (2015)</th>\n",
       "      <th>Inequality in Education (2016)</th>\n",
       "      <th>Inequality in Education (2017)</th>\n",
       "      <th>Inequality in Education (2018)</th>\n",
       "      <th>Inequality in Education (2019)</th>\n",
       "      <th>Inequality in Education (2020)</th>\n",
       "      <th>Inequality in Education (2021)</th>\n",
       "    </tr>\n",
       "  </thead>\n",
       "  <tbody>\n",
       "    <tr>\n",
       "      <th>0</th>\n",
       "      <td>180.0</td>\n",
       "      <td>44.823380</td>\n",
       "      <td>44.82338</td>\n",
       "      <td>44.823380</td>\n",
       "      <td>45.365170</td>\n",
       "      <td>45.365170</td>\n",
       "      <td>45.365170</td>\n",
       "      <td>45.365170</td>\n",
       "      <td>45.365170</td>\n",
       "      <td>45.365170</td>\n",
       "      <td>45.365170</td>\n",
       "    </tr>\n",
       "    <tr>\n",
       "      <th>2</th>\n",
       "      <td>67.0</td>\n",
       "      <td>11.900000</td>\n",
       "      <td>11.90000</td>\n",
       "      <td>11.900000</td>\n",
       "      <td>11.900000</td>\n",
       "      <td>11.900000</td>\n",
       "      <td>12.333440</td>\n",
       "      <td>12.333440</td>\n",
       "      <td>12.333440</td>\n",
       "      <td>12.333440</td>\n",
       "      <td>12.333440</td>\n",
       "    </tr>\n",
       "    <tr>\n",
       "      <th>5</th>\n",
       "      <td>47.0</td>\n",
       "      <td>6.430560</td>\n",
       "      <td>6.51336</td>\n",
       "      <td>6.192280</td>\n",
       "      <td>6.331310</td>\n",
       "      <td>6.151940</td>\n",
       "      <td>6.208430</td>\n",
       "      <td>5.951810</td>\n",
       "      <td>5.787290</td>\n",
       "      <td>5.787290</td>\n",
       "      <td>5.787290</td>\n",
       "    </tr>\n",
       "    <tr>\n",
       "      <th>6</th>\n",
       "      <td>85.0</td>\n",
       "      <td>3.685000</td>\n",
       "      <td>3.68500</td>\n",
       "      <td>3.685000</td>\n",
       "      <td>3.685000</td>\n",
       "      <td>2.934950</td>\n",
       "      <td>2.934950</td>\n",
       "      <td>2.934950</td>\n",
       "      <td>2.934950</td>\n",
       "      <td>2.934950</td>\n",
       "      <td>2.934950</td>\n",
       "    </tr>\n",
       "    <tr>\n",
       "      <th>10</th>\n",
       "      <td>91.0</td>\n",
       "      <td>3.702155</td>\n",
       "      <td>3.51567</td>\n",
       "      <td>3.491246</td>\n",
       "      <td>3.537645</td>\n",
       "      <td>3.549497</td>\n",
       "      <td>3.565062</td>\n",
       "      <td>3.565062</td>\n",
       "      <td>3.565062</td>\n",
       "      <td>3.565062</td>\n",
       "      <td>3.565062</td>\n",
       "    </tr>\n",
       "  </tbody>\n",
       "</table>\n",
       "</div>"
      ],
      "text/plain": [
       "    HDI Rank (2021)  Inequality in Education (2012)  \\\n",
       "0             180.0                       44.823380   \n",
       "2              67.0                       11.900000   \n",
       "5              47.0                        6.430560   \n",
       "6              85.0                        3.685000   \n",
       "10             91.0                        3.702155   \n",
       "\n",
       "    Inequality in Education (2013)  Inequality in Education (2014)  \\\n",
       "0                         44.82338                       44.823380   \n",
       "2                         11.90000                       11.900000   \n",
       "5                          6.51336                        6.192280   \n",
       "6                          3.68500                        3.685000   \n",
       "10                         3.51567                        3.491246   \n",
       "\n",
       "    Inequality in Education (2015)  Inequality in Education (2016)  \\\n",
       "0                        45.365170                       45.365170   \n",
       "2                        11.900000                       11.900000   \n",
       "5                         6.331310                        6.151940   \n",
       "6                         3.685000                        2.934950   \n",
       "10                        3.537645                        3.549497   \n",
       "\n",
       "    Inequality in Education (2017)  Inequality in Education (2018)  \\\n",
       "0                        45.365170                       45.365170   \n",
       "2                        12.333440                       12.333440   \n",
       "5                         6.208430                        5.951810   \n",
       "6                         2.934950                        2.934950   \n",
       "10                        3.565062                        3.565062   \n",
       "\n",
       "    Inequality in Education (2019)  Inequality in Education (2020)  \\\n",
       "0                        45.365170                       45.365170   \n",
       "2                        12.333440                       12.333440   \n",
       "5                         5.787290                        5.787290   \n",
       "6                         2.934950                        2.934950   \n",
       "10                        3.565062                        3.565062   \n",
       "\n",
       "    Inequality in Education (2021)  \n",
       "0                        45.365170  \n",
       "2                        12.333440  \n",
       "5                         5.787290  \n",
       "6                         2.934950  \n",
       "10                        3.565062  "
      ]
     },
     "execution_count": 324,
     "metadata": {},
     "output_type": "execute_result"
    }
   ],
   "source": [
    "df_num = df.select_dtypes(include='number')\n",
    "df_num.head()"
   ]
  },
  {
   "cell_type": "code",
   "execution_count": 325,
   "id": "2b14352d",
   "metadata": {},
   "outputs": [],
   "source": [
    "Q1 = df_num.quantile(0.25)\n",
    "Q3 = df_num.quantile(0.75)\n",
    "IQR = Q3 - Q1\n",
    "lower_bound = Q1 - 1.5 * IQR\n",
    "upper_bound = Q3 + 1.5 * IQR"
   ]
  },
  {
   "cell_type": "code",
   "execution_count": 326,
   "id": "572a503b",
   "metadata": {},
   "outputs": [
    {
     "data": {
      "text/plain": [
       "HDI Rank (2021)                  -33.250000\n",
       "Inequality in Education (2012)   -19.468298\n",
       "Inequality in Education (2013)   -20.573531\n",
       "Inequality in Education (2014)   -21.032022\n",
       "Inequality in Education (2015)   -25.027658\n",
       "Inequality in Education (2016)   -23.319138\n",
       "Inequality in Education (2017)   -23.656210\n",
       "Inequality in Education (2018)   -23.679646\n",
       "Inequality in Education (2019)   -24.290499\n",
       "Inequality in Education (2020)   -24.290499\n",
       "Inequality in Education (2021)   -24.290499\n",
       "dtype: float64"
      ]
     },
     "execution_count": 326,
     "metadata": {},
     "output_type": "execute_result"
    }
   ],
   "source": [
    "lower_bound"
   ]
  },
  {
   "cell_type": "code",
   "execution_count": 327,
   "id": "49c6eb69",
   "metadata": {},
   "outputs": [],
   "source": [
    "df = df[~((df_num < lower_bound) | (df_num > upper_bound)).any(axis=1)]"
   ]
  },
  {
   "cell_type": "code",
   "execution_count": 328,
   "id": "a704a8f1",
   "metadata": {},
   "outputs": [
    {
     "data": {
      "text/plain": [
       "(112, 14)"
      ]
     },
     "execution_count": 328,
     "metadata": {},
     "output_type": "execute_result"
    }
   ],
   "source": [
    "df.shape"
   ]
  },
  {
   "cell_type": "code",
   "execution_count": 331,
   "id": "4471ec96",
   "metadata": {},
   "outputs": [
    {
     "data": {
      "text/plain": [
       "<Axes: xlabel='HDI Rank (2021)'>"
      ]
     },
     "execution_count": 331,
     "metadata": {},
     "output_type": "execute_result"
    },
    {
     "data": {
      "image/png": "[encoded data removed]",
      "text/plain": [
       "<Figure size 640x480 with 1 Axes>"
      ]
     },
     "metadata": {},
     "output_type": "display_data"
    }
   ],
   "source": [
    "sns.boxplot(x=df['HDI Rank (2021)'])"
   ]
  },
  {
   "cell_type": "code",
   "execution_count": 332,
   "id": "28d83c80",
   "metadata": {},
   "outputs": [
    {
     "data": {
      "text/plain": [
       "(112, 11)"
      ]
     },
     "execution_count": 332,
     "metadata": {},
     "output_type": "execute_result"
    }
   ],
   "source": [
    "df_num = df.select_dtypes('number')\n",
    "df_num.shape"
   ]
  },
  {
   "cell_type": "code",
   "execution_count": 334,
   "id": "33ca65d6",
   "metadata": {},
   "outputs": [
    {
     "data": {
      "text/html": [
       "<div>\n",
       "<style scoped>\n",
       "    .dataframe tbody tr th:only-of-type {\n",
       "        vertical-align: middle;\n",
       "    }\n",
       "\n",
       "    .dataframe tbody tr th {\n",
       "        vertical-align: top;\n",
       "    }\n",
       "\n",
       "    .dataframe thead th {\n",
       "        text-align: right;\n",
       "    }\n",
       "</style>\n",
       "<table border=\"1\" class=\"dataframe\">\n",
       "  <thead>\n",
       "    <tr style=\"text-align: right;\">\n",
       "      <th></th>\n",
       "      <th>Country</th>\n",
       "      <th>Human Development Groups</th>\n",
       "      <th>UNDP Developing Regions</th>\n",
       "      <th>Inequality in Education (2012)</th>\n",
       "      <th>Inequality in Education (2013)</th>\n",
       "      <th>Inequality in Education (2014)</th>\n",
       "      <th>Inequality in Education (2015)</th>\n",
       "      <th>Inequality in Education (2016)</th>\n",
       "      <th>Inequality in Education (2017)</th>\n",
       "      <th>Inequality in Education (2018)</th>\n",
       "      <th>Inequality in Education (2019)</th>\n",
       "      <th>Inequality in Education (2020)</th>\n",
       "      <th>Inequality in Education (2021)</th>\n",
       "    </tr>\n",
       "  </thead>\n",
       "  <tbody>\n",
       "    <tr>\n",
       "      <th>0</th>\n",
       "      <td>Afghanistan</td>\n",
       "      <td>Low</td>\n",
       "      <td>SA</td>\n",
       "      <td>44.823380</td>\n",
       "      <td>44.82338</td>\n",
       "      <td>44.823380</td>\n",
       "      <td>45.365170</td>\n",
       "      <td>45.365170</td>\n",
       "      <td>45.365170</td>\n",
       "      <td>45.365170</td>\n",
       "      <td>45.365170</td>\n",
       "      <td>45.365170</td>\n",
       "      <td>45.365170</td>\n",
       "    </tr>\n",
       "    <tr>\n",
       "      <th>2</th>\n",
       "      <td>Albania</td>\n",
       "      <td>High</td>\n",
       "      <td>ECA</td>\n",
       "      <td>11.900000</td>\n",
       "      <td>11.90000</td>\n",
       "      <td>11.900000</td>\n",
       "      <td>11.900000</td>\n",
       "      <td>11.900000</td>\n",
       "      <td>12.333440</td>\n",
       "      <td>12.333440</td>\n",
       "      <td>12.333440</td>\n",
       "      <td>12.333440</td>\n",
       "      <td>12.333440</td>\n",
       "    </tr>\n",
       "    <tr>\n",
       "      <th>5</th>\n",
       "      <td>Argentina</td>\n",
       "      <td>Very High</td>\n",
       "      <td>LAC</td>\n",
       "      <td>6.430560</td>\n",
       "      <td>6.51336</td>\n",
       "      <td>6.192280</td>\n",
       "      <td>6.331310</td>\n",
       "      <td>6.151940</td>\n",
       "      <td>6.208430</td>\n",
       "      <td>5.951810</td>\n",
       "      <td>5.787290</td>\n",
       "      <td>5.787290</td>\n",
       "      <td>5.787290</td>\n",
       "    </tr>\n",
       "    <tr>\n",
       "      <th>6</th>\n",
       "      <td>Armenia</td>\n",
       "      <td>High</td>\n",
       "      <td>ECA</td>\n",
       "      <td>3.685000</td>\n",
       "      <td>3.68500</td>\n",
       "      <td>3.685000</td>\n",
       "      <td>3.685000</td>\n",
       "      <td>2.934950</td>\n",
       "      <td>2.934950</td>\n",
       "      <td>2.934950</td>\n",
       "      <td>2.934950</td>\n",
       "      <td>2.934950</td>\n",
       "      <td>2.934950</td>\n",
       "    </tr>\n",
       "    <tr>\n",
       "      <th>10</th>\n",
       "      <td>Azerbaijan</td>\n",
       "      <td>High</td>\n",
       "      <td>ECA</td>\n",
       "      <td>3.702155</td>\n",
       "      <td>3.51567</td>\n",
       "      <td>3.491246</td>\n",
       "      <td>3.537645</td>\n",
       "      <td>3.549497</td>\n",
       "      <td>3.565062</td>\n",
       "      <td>3.565062</td>\n",
       "      <td>3.565062</td>\n",
       "      <td>3.565062</td>\n",
       "      <td>3.565062</td>\n",
       "    </tr>\n",
       "  </tbody>\n",
       "</table>\n",
       "</div>"
      ],
      "text/plain": [
       "        Country Human Development Groups UNDP Developing Regions  \\\n",
       "0   Afghanistan                      Low                      SA   \n",
       "2       Albania                     High                     ECA   \n",
       "5     Argentina                Very High                     LAC   \n",
       "6       Armenia                     High                     ECA   \n",
       "10   Azerbaijan                     High                     ECA   \n",
       "\n",
       "    Inequality in Education (2012)  Inequality in Education (2013)  \\\n",
       "0                        44.823380                        44.82338   \n",
       "2                        11.900000                        11.90000   \n",
       "5                         6.430560                         6.51336   \n",
       "6                         3.685000                         3.68500   \n",
       "10                        3.702155                         3.51567   \n",
       "\n",
       "    Inequality in Education (2014)  Inequality in Education (2015)  \\\n",
       "0                        44.823380                       45.365170   \n",
       "2                        11.900000                       11.900000   \n",
       "5                         6.192280                        6.331310   \n",
       "6                         3.685000                        3.685000   \n",
       "10                        3.491246                        3.537645   \n",
       "\n",
       "    Inequality in Education (2016)  Inequality in Education (2017)  \\\n",
       "0                        45.365170                       45.365170   \n",
       "2                        11.900000                       12.333440   \n",
       "5                         6.151940                        6.208430   \n",
       "6                         2.934950                        2.934950   \n",
       "10                        3.549497                        3.565062   \n",
       "\n",
       "    Inequality in Education (2018)  Inequality in Education (2019)  \\\n",
       "0                        45.365170                       45.365170   \n",
       "2                        12.333440                       12.333440   \n",
       "5                         5.951810                        5.787290   \n",
       "6                         2.934950                        2.934950   \n",
       "10                        3.565062                        3.565062   \n",
       "\n",
       "    Inequality in Education (2020)  Inequality in Education (2021)  \n",
       "0                        45.365170                       45.365170  \n",
       "2                        12.333440                       12.333440  \n",
       "5                         5.787290                        5.787290  \n",
       "6                         2.934950                        2.934950  \n",
       "10                        3.565062                        3.565062  "
      ]
     },
     "execution_count": 334,
     "metadata": {},
     "output_type": "execute_result"
    }
   ],
   "source": [
    "X = df.drop('HDI Rank (2021)', axis=1)\n",
    "y = df['HDI Rank (2021)']\n",
    "X.head()"
   ]
  },
  {
   "cell_type": "code",
   "execution_count": 335,
   "id": "dc55a04d",
   "metadata": {},
   "outputs": [
    {
     "data": {
      "text/html": [
       "<div>\n",
       "<style scoped>\n",
       "    .dataframe tbody tr th:only-of-type {\n",
       "        vertical-align: middle;\n",
       "    }\n",
       "\n",
       "    .dataframe tbody tr th {\n",
       "        vertical-align: top;\n",
       "    }\n",
       "\n",
       "    .dataframe thead th {\n",
       "        text-align: right;\n",
       "    }\n",
       "</style>\n",
       "<table border=\"1\" class=\"dataframe\">\n",
       "  <thead>\n",
       "    <tr style=\"text-align: right;\">\n",
       "      <th></th>\n",
       "      <th>Inequality in Education (2012)</th>\n",
       "      <th>Inequality in Education (2013)</th>\n",
       "      <th>Inequality in Education (2014)</th>\n",
       "      <th>Inequality in Education (2015)</th>\n",
       "      <th>Inequality in Education (2016)</th>\n",
       "      <th>Inequality in Education (2017)</th>\n",
       "      <th>Inequality in Education (2018)</th>\n",
       "      <th>Inequality in Education (2019)</th>\n",
       "      <th>Inequality in Education (2020)</th>\n",
       "      <th>Inequality in Education (2021)</th>\n",
       "    </tr>\n",
       "  </thead>\n",
       "  <tbody>\n",
       "    <tr>\n",
       "      <th>0</th>\n",
       "      <td>44.823380</td>\n",
       "      <td>44.82338</td>\n",
       "      <td>44.823380</td>\n",
       "      <td>45.365170</td>\n",
       "      <td>45.365170</td>\n",
       "      <td>45.365170</td>\n",
       "      <td>45.365170</td>\n",
       "      <td>45.365170</td>\n",
       "      <td>45.365170</td>\n",
       "      <td>45.365170</td>\n",
       "    </tr>\n",
       "    <tr>\n",
       "      <th>2</th>\n",
       "      <td>11.900000</td>\n",
       "      <td>11.90000</td>\n",
       "      <td>11.900000</td>\n",
       "      <td>11.900000</td>\n",
       "      <td>11.900000</td>\n",
       "      <td>12.333440</td>\n",
       "      <td>12.333440</td>\n",
       "      <td>12.333440</td>\n",
       "      <td>12.333440</td>\n",
       "      <td>12.333440</td>\n",
       "    </tr>\n",
       "    <tr>\n",
       "      <th>5</th>\n",
       "      <td>6.430560</td>\n",
       "      <td>6.51336</td>\n",
       "      <td>6.192280</td>\n",
       "      <td>6.331310</td>\n",
       "      <td>6.151940</td>\n",
       "      <td>6.208430</td>\n",
       "      <td>5.951810</td>\n",
       "      <td>5.787290</td>\n",
       "      <td>5.787290</td>\n",
       "      <td>5.787290</td>\n",
       "    </tr>\n",
       "    <tr>\n",
       "      <th>6</th>\n",
       "      <td>3.685000</td>\n",
       "      <td>3.68500</td>\n",
       "      <td>3.685000</td>\n",
       "      <td>3.685000</td>\n",
       "      <td>2.934950</td>\n",
       "      <td>2.934950</td>\n",
       "      <td>2.934950</td>\n",
       "      <td>2.934950</td>\n",
       "      <td>2.934950</td>\n",
       "      <td>2.934950</td>\n",
       "    </tr>\n",
       "    <tr>\n",
       "      <th>10</th>\n",
       "      <td>3.702155</td>\n",
       "      <td>3.51567</td>\n",
       "      <td>3.491246</td>\n",
       "      <td>3.537645</td>\n",
       "      <td>3.549497</td>\n",
       "      <td>3.565062</td>\n",
       "      <td>3.565062</td>\n",
       "      <td>3.565062</td>\n",
       "      <td>3.565062</td>\n",
       "      <td>3.565062</td>\n",
       "    </tr>\n",
       "  </tbody>\n",
       "</table>\n",
       "</div>"
      ],
      "text/plain": [
       "    Inequality in Education (2012)  Inequality in Education (2013)  \\\n",
       "0                        44.823380                        44.82338   \n",
       "2                        11.900000                        11.90000   \n",
       "5                         6.430560                         6.51336   \n",
       "6                         3.685000                         3.68500   \n",
       "10                        3.702155                         3.51567   \n",
       "\n",
       "    Inequality in Education (2014)  Inequality in Education (2015)  \\\n",
       "0                        44.823380                       45.365170   \n",
       "2                        11.900000                       11.900000   \n",
       "5                         6.192280                        6.331310   \n",
       "6                         3.685000                        3.685000   \n",
       "10                        3.491246                        3.537645   \n",
       "\n",
       "    Inequality in Education (2016)  Inequality in Education (2017)  \\\n",
       "0                        45.365170                       45.365170   \n",
       "2                        11.900000                       12.333440   \n",
       "5                         6.151940                        6.208430   \n",
       "6                         2.934950                        2.934950   \n",
       "10                        3.549497                        3.565062   \n",
       "\n",
       "    Inequality in Education (2018)  Inequality in Education (2019)  \\\n",
       "0                        45.365170                       45.365170   \n",
       "2                        12.333440                       12.333440   \n",
       "5                         5.951810                        5.787290   \n",
       "6                         2.934950                        2.934950   \n",
       "10                        3.565062                        3.565062   \n",
       "\n",
       "    Inequality in Education (2020)  Inequality in Education (2021)  \n",
       "0                        45.365170                       45.365170  \n",
       "2                        12.333440                       12.333440  \n",
       "5                         5.787290                        5.787290  \n",
       "6                         2.934950                        2.934950  \n",
       "10                        3.565062                        3.565062  "
      ]
     },
     "execution_count": 335,
     "metadata": {},
     "output_type": "execute_result"
    }
   ],
   "source": [
    "X_num = X.select_dtypes('number')\n",
    "X_num.head()"
   ]
  },
  {
   "cell_type": "code",
   "execution_count": 336,
   "id": "08eec08e",
   "metadata": {},
   "outputs": [
    {
     "data": {
      "text/html": [
       "<div>\n",
       "<style scoped>\n",
       "    .dataframe tbody tr th:only-of-type {\n",
       "        vertical-align: middle;\n",
       "    }\n",
       "\n",
       "    .dataframe tbody tr th {\n",
       "        vertical-align: top;\n",
       "    }\n",
       "\n",
       "    .dataframe thead th {\n",
       "        text-align: right;\n",
       "    }\n",
       "</style>\n",
       "<table border=\"1\" class=\"dataframe\">\n",
       "  <thead>\n",
       "    <tr style=\"text-align: right;\">\n",
       "      <th></th>\n",
       "      <th>Country</th>\n",
       "      <th>Human Development Groups</th>\n",
       "      <th>UNDP Developing Regions</th>\n",
       "    </tr>\n",
       "  </thead>\n",
       "  <tbody>\n",
       "    <tr>\n",
       "      <th>0</th>\n",
       "      <td>Afghanistan</td>\n",
       "      <td>Low</td>\n",
       "      <td>SA</td>\n",
       "    </tr>\n",
       "    <tr>\n",
       "      <th>2</th>\n",
       "      <td>Albania</td>\n",
       "      <td>High</td>\n",
       "      <td>ECA</td>\n",
       "    </tr>\n",
       "    <tr>\n",
       "      <th>5</th>\n",
       "      <td>Argentina</td>\n",
       "      <td>Very High</td>\n",
       "      <td>LAC</td>\n",
       "    </tr>\n",
       "    <tr>\n",
       "      <th>6</th>\n",
       "      <td>Armenia</td>\n",
       "      <td>High</td>\n",
       "      <td>ECA</td>\n",
       "    </tr>\n",
       "    <tr>\n",
       "      <th>10</th>\n",
       "      <td>Azerbaijan</td>\n",
       "      <td>High</td>\n",
       "      <td>ECA</td>\n",
       "    </tr>\n",
       "  </tbody>\n",
       "</table>\n",
       "</div>"
      ],
      "text/plain": [
       "        Country Human Development Groups UNDP Developing Regions\n",
       "0   Afghanistan                      Low                      SA\n",
       "2       Albania                     High                     ECA\n",
       "5     Argentina                Very High                     LAC\n",
       "6       Armenia                     High                     ECA\n",
       "10   Azerbaijan                     High                     ECA"
      ]
     },
     "execution_count": 336,
     "metadata": {},
     "output_type": "execute_result"
    }
   ],
   "source": [
    "X_cat = X.select_dtypes('object')\n",
    "X_cat.head()"
   ]
  },
  {
   "cell_type": "code",
   "execution_count": 337,
   "id": "9f412161",
   "metadata": {},
   "outputs": [],
   "source": [
    "scaler = MinMaxScaler()\n",
    "X_num_scaled = scaler.fit_transform(X_num)"
   ]
  },
  {
   "cell_type": "code",
   "execution_count": 338,
   "id": "cd8a6ccf",
   "metadata": {},
   "outputs": [
    {
     "data": {
      "text/plain": [
       "numpy.ndarray"
      ]
     },
     "execution_count": 338,
     "metadata": {},
     "output_type": "execute_result"
    }
   ],
   "source": [
    "type(X_num_scaled)"
   ]
  },
  {
   "cell_type": "code",
   "execution_count": 339,
   "id": "7f86c184",
   "metadata": {},
   "outputs": [],
   "source": [
    "X_num_scaled = pd.DataFrame(X_num_scaled, columns=X_num.columns, index=X_num.index)"
   ]
  },
  {
   "cell_type": "code",
   "execution_count": 340,
   "id": "747bca61",
   "metadata": {},
   "outputs": [
    {
     "data": {
      "text/html": [
       "<div>\n",
       "<style scoped>\n",
       "    .dataframe tbody tr th:only-of-type {\n",
       "        vertical-align: middle;\n",
       "    }\n",
       "\n",
       "    .dataframe tbody tr th {\n",
       "        vertical-align: top;\n",
       "    }\n",
       "\n",
       "    .dataframe thead th {\n",
       "        text-align: right;\n",
       "    }\n",
       "</style>\n",
       "<table border=\"1\" class=\"dataframe\">\n",
       "  <thead>\n",
       "    <tr style=\"text-align: right;\">\n",
       "      <th></th>\n",
       "      <th>Inequality in Education (2012)</th>\n",
       "      <th>Inequality in Education (2013)</th>\n",
       "      <th>Inequality in Education (2014)</th>\n",
       "      <th>Inequality in Education (2015)</th>\n",
       "      <th>Inequality in Education (2016)</th>\n",
       "      <th>Inequality in Education (2017)</th>\n",
       "      <th>Inequality in Education (2018)</th>\n",
       "      <th>Inequality in Education (2019)</th>\n",
       "      <th>Inequality in Education (2020)</th>\n",
       "      <th>Inequality in Education (2021)</th>\n",
       "    </tr>\n",
       "  </thead>\n",
       "  <tbody>\n",
       "    <tr>\n",
       "      <th>count</th>\n",
       "      <td>112.000000</td>\n",
       "      <td>112.000000</td>\n",
       "      <td>112.000000</td>\n",
       "      <td>112.000000</td>\n",
       "      <td>112.000000</td>\n",
       "      <td>112.000000</td>\n",
       "      <td>112.000000</td>\n",
       "      <td>112.000000</td>\n",
       "      <td>112.000000</td>\n",
       "      <td>112.000000</td>\n",
       "    </tr>\n",
       "    <tr>\n",
       "      <th>mean</th>\n",
       "      <td>0.466165</td>\n",
       "      <td>0.465566</td>\n",
       "      <td>0.466227</td>\n",
       "      <td>0.461676</td>\n",
       "      <td>0.457718</td>\n",
       "      <td>0.451541</td>\n",
       "      <td>0.430745</td>\n",
       "      <td>0.429930</td>\n",
       "      <td>0.429457</td>\n",
       "      <td>0.429457</td>\n",
       "    </tr>\n",
       "    <tr>\n",
       "      <th>std</th>\n",
       "      <td>0.300205</td>\n",
       "      <td>0.301861</td>\n",
       "      <td>0.301912</td>\n",
       "      <td>0.303842</td>\n",
       "      <td>0.301814</td>\n",
       "      <td>0.305000</td>\n",
       "      <td>0.293513</td>\n",
       "      <td>0.294505</td>\n",
       "      <td>0.295238</td>\n",
       "      <td>0.295238</td>\n",
       "    </tr>\n",
       "    <tr>\n",
       "      <th>min</th>\n",
       "      <td>0.000000</td>\n",
       "      <td>0.000000</td>\n",
       "      <td>0.000000</td>\n",
       "      <td>0.000000</td>\n",
       "      <td>0.000000</td>\n",
       "      <td>0.000000</td>\n",
       "      <td>0.000000</td>\n",
       "      <td>0.000000</td>\n",
       "      <td>0.000000</td>\n",
       "      <td>0.000000</td>\n",
       "    </tr>\n",
       "    <tr>\n",
       "      <th>25%</th>\n",
       "      <td>0.224897</td>\n",
       "      <td>0.217490</td>\n",
       "      <td>0.219414</td>\n",
       "      <td>0.202586</td>\n",
       "      <td>0.205431</td>\n",
       "      <td>0.200316</td>\n",
       "      <td>0.191093</td>\n",
       "      <td>0.191027</td>\n",
       "      <td>0.191027</td>\n",
       "      <td>0.191027</td>\n",
       "    </tr>\n",
       "    <tr>\n",
       "      <th>50%</th>\n",
       "      <td>0.413014</td>\n",
       "      <td>0.428398</td>\n",
       "      <td>0.421478</td>\n",
       "      <td>0.420943</td>\n",
       "      <td>0.424007</td>\n",
       "      <td>0.420943</td>\n",
       "      <td>0.396444</td>\n",
       "      <td>0.393283</td>\n",
       "      <td>0.393283</td>\n",
       "      <td>0.393283</td>\n",
       "    </tr>\n",
       "    <tr>\n",
       "      <th>75%</th>\n",
       "      <td>0.708000</td>\n",
       "      <td>0.715245</td>\n",
       "      <td>0.717962</td>\n",
       "      <td>0.744719</td>\n",
       "      <td>0.718882</td>\n",
       "      <td>0.720843</td>\n",
       "      <td>0.686488</td>\n",
       "      <td>0.694941</td>\n",
       "      <td>0.694941</td>\n",
       "      <td>0.694941</td>\n",
       "    </tr>\n",
       "    <tr>\n",
       "      <th>max</th>\n",
       "      <td>1.000000</td>\n",
       "      <td>1.000000</td>\n",
       "      <td>1.000000</td>\n",
       "      <td>1.000000</td>\n",
       "      <td>1.000000</td>\n",
       "      <td>1.000000</td>\n",
       "      <td>1.000000</td>\n",
       "      <td>1.000000</td>\n",
       "      <td>1.000000</td>\n",
       "      <td>1.000000</td>\n",
       "    </tr>\n",
       "  </tbody>\n",
       "</table>\n",
       "</div>"
      ],
      "text/plain": [
       "       Inequality in Education (2012)  Inequality in Education (2013)  \\\n",
       "count                      112.000000                      112.000000   \n",
       "mean                         0.466165                        0.465566   \n",
       "std                          0.300205                        0.301861   \n",
       "min                          0.000000                        0.000000   \n",
       "25%                          0.224897                        0.217490   \n",
       "50%                          0.413014                        0.428398   \n",
       "75%                          0.708000                        0.715245   \n",
       "max                          1.000000                        1.000000   \n",
       "\n",
       "       Inequality in Education (2014)  Inequality in Education (2015)  \\\n",
       "count                      112.000000                      112.000000   \n",
       "mean                         0.466227                        0.461676   \n",
       "std                          0.301912                        0.303842   \n",
       "min                          0.000000                        0.000000   \n",
       "25%                          0.219414                        0.202586   \n",
       "50%                          0.421478                        0.420943   \n",
       "75%                          0.717962                        0.744719   \n",
       "max                          1.000000                        1.000000   \n",
       "\n",
       "       Inequality in Education (2016)  Inequality in Education (2017)  \\\n",
       "count                      112.000000                      112.000000   \n",
       "mean                         0.457718                        0.451541   \n",
       "std                          0.301814                        0.305000   \n",
       "min                          0.000000                        0.000000   \n",
       "25%                          0.205431                        0.200316   \n",
       "50%                          0.424007                        0.420943   \n",
       "75%                          0.718882                        0.720843   \n",
       "max                          1.000000                        1.000000   \n",
       "\n",
       "       Inequality in Education (2018)  Inequality in Education (2019)  \\\n",
       "count                      112.000000                      112.000000   \n",
       "mean                         0.430745                        0.429930   \n",
       "std                          0.293513                        0.294505   \n",
       "min                          0.000000                        0.000000   \n",
       "25%                          0.191093                        0.191027   \n",
       "50%                          0.396444                        0.393283   \n",
       "75%                          0.686488                        0.694941   \n",
       "max                          1.000000                        1.000000   \n",
       "\n",
       "       Inequality in Education (2020)  Inequality in Education (2021)  \n",
       "count                      112.000000                      112.000000  \n",
       "mean                         0.429457                        0.429457  \n",
       "std                          0.295238                        0.295238  \n",
       "min                          0.000000                        0.000000  \n",
       "25%                          0.191027                        0.191027  \n",
       "50%                          0.393283                        0.393283  \n",
       "75%                          0.694941                        0.694941  \n",
       "max                          1.000000                        1.000000  "
      ]
     },
     "execution_count": 340,
     "metadata": {},
     "output_type": "execute_result"
    }
   ],
   "source": [
    "X_num_scaled.describe()"
   ]
  },
  {
   "cell_type": "code",
   "execution_count": 341,
   "id": "469b69fa",
   "metadata": {},
   "outputs": [],
   "source": [
    "X_cat_encoded = pd.get_dummies(X_cat, drop_first=False, dtype=int) "
   ]
  },
  {
   "cell_type": "code",
   "execution_count": 342,
   "id": "f4affba6",
   "metadata": {},
   "outputs": [],
   "source": [
    "X = pd.concat([X_num_scaled, X_cat_encoded], axis=1)"
   ]
  },
  {
   "cell_type": "code",
   "execution_count": 343,
   "id": "dfffea4d",
   "metadata": {},
   "outputs": [
    {
     "data": {
      "text/plain": [
       "((112, 132), (112, 10), (112, 122))"
      ]
     },
     "execution_count": 343,
     "metadata": {},
     "output_type": "execute_result"
    }
   ],
   "source": [
    "X.shape, X_num_scaled.shape, X_cat_encoded.shape"
   ]
  },
  {
   "cell_type": "code",
   "execution_count": 344,
   "id": "86258a86",
   "metadata": {},
   "outputs": [
    {
     "name": "stdout",
     "output_type": "stream",
     "text": [
      "\n",
      "Step 7: Checking for NAs and Shape Compatibility\n",
      "Inequality in Education (2012)    0\n",
      "Inequality in Education (2013)    0\n",
      "Inequality in Education (2014)    0\n",
      "Inequality in Education (2015)    0\n",
      "Inequality in Education (2016)    0\n",
      "                                 ..\n",
      "UNDP Developing Regions_EAP       0\n",
      "UNDP Developing Regions_ECA       0\n",
      "UNDP Developing Regions_LAC       0\n",
      "UNDP Developing Regions_SA        0\n",
      "UNDP Developing Regions_SSA       0\n",
      "Length: 132, dtype: int64\n",
      "0\n",
      "(112, 132)\n",
      "(112,)\n"
     ]
    }
   ],
   "source": [
    "print(\"\\nStep 7: Checking for NAs and Shape Compatibility\")\n",
    "print(X.isnull().sum())\n",
    "print(y.isnull().sum())\n",
    "print(X.shape)\n",
    "print(y.shape)"
   ]
  },
  {
   "cell_type": "code",
   "execution_count": 345,
   "id": "e0cd068e",
   "metadata": {},
   "outputs": [
    {
     "data": {
      "text/html": [
       "<div>\n",
       "<style scoped>\n",
       "    .dataframe tbody tr th:only-of-type {\n",
       "        vertical-align: middle;\n",
       "    }\n",
       "\n",
       "    .dataframe tbody tr th {\n",
       "        vertical-align: top;\n",
       "    }\n",
       "\n",
       "    .dataframe thead th {\n",
       "        text-align: right;\n",
       "    }\n",
       "</style>\n",
       "<table border=\"1\" class=\"dataframe\">\n",
       "  <thead>\n",
       "    <tr style=\"text-align: right;\">\n",
       "      <th></th>\n",
       "      <th>Inequality in Education (2012)</th>\n",
       "      <th>Inequality in Education (2013)</th>\n",
       "      <th>Inequality in Education (2014)</th>\n",
       "      <th>Inequality in Education (2015)</th>\n",
       "      <th>Inequality in Education (2016)</th>\n",
       "      <th>Inequality in Education (2017)</th>\n",
       "      <th>Inequality in Education (2018)</th>\n",
       "      <th>Inequality in Education (2019)</th>\n",
       "      <th>Inequality in Education (2020)</th>\n",
       "      <th>Inequality in Education (2021)</th>\n",
       "      <th>...</th>\n",
       "      <th>Human Development Groups_High</th>\n",
       "      <th>Human Development Groups_Low</th>\n",
       "      <th>Human Development Groups_Medium</th>\n",
       "      <th>Human Development Groups_Very High</th>\n",
       "      <th>UNDP Developing Regions_AS</th>\n",
       "      <th>UNDP Developing Regions_EAP</th>\n",
       "      <th>UNDP Developing Regions_ECA</th>\n",
       "      <th>UNDP Developing Regions_LAC</th>\n",
       "      <th>UNDP Developing Regions_SA</th>\n",
       "      <th>UNDP Developing Regions_SSA</th>\n",
       "    </tr>\n",
       "  </thead>\n",
       "  <tbody>\n",
       "    <tr>\n",
       "      <th>count</th>\n",
       "      <td>112.000000</td>\n",
       "      <td>112.000000</td>\n",
       "      <td>112.000000</td>\n",
       "      <td>112.000000</td>\n",
       "      <td>112.000000</td>\n",
       "      <td>112.000000</td>\n",
       "      <td>112.000000</td>\n",
       "      <td>112.000000</td>\n",
       "      <td>112.000000</td>\n",
       "      <td>112.000000</td>\n",
       "      <td>...</td>\n",
       "      <td>112.000000</td>\n",
       "      <td>112.000000</td>\n",
       "      <td>112.000000</td>\n",
       "      <td>112.000000</td>\n",
       "      <td>112.000000</td>\n",
       "      <td>112.000000</td>\n",
       "      <td>112.000000</td>\n",
       "      <td>112.000000</td>\n",
       "      <td>112.000000</td>\n",
       "      <td>112.000000</td>\n",
       "    </tr>\n",
       "    <tr>\n",
       "      <th>mean</th>\n",
       "      <td>0.466165</td>\n",
       "      <td>0.465566</td>\n",
       "      <td>0.466227</td>\n",
       "      <td>0.461676</td>\n",
       "      <td>0.457718</td>\n",
       "      <td>0.451541</td>\n",
       "      <td>0.430745</td>\n",
       "      <td>0.429930</td>\n",
       "      <td>0.429457</td>\n",
       "      <td>0.429457</td>\n",
       "      <td>...</td>\n",
       "      <td>0.285714</td>\n",
       "      <td>0.250000</td>\n",
       "      <td>0.294643</td>\n",
       "      <td>0.169643</td>\n",
       "      <td>0.107143</td>\n",
       "      <td>0.116071</td>\n",
       "      <td>0.125000</td>\n",
       "      <td>0.232143</td>\n",
       "      <td>0.071429</td>\n",
       "      <td>0.348214</td>\n",
       "    </tr>\n",
       "    <tr>\n",
       "      <th>std</th>\n",
       "      <td>0.300205</td>\n",
       "      <td>0.301861</td>\n",
       "      <td>0.301912</td>\n",
       "      <td>0.303842</td>\n",
       "      <td>0.301814</td>\n",
       "      <td>0.305000</td>\n",
       "      <td>0.293513</td>\n",
       "      <td>0.294505</td>\n",
       "      <td>0.295238</td>\n",
       "      <td>0.295238</td>\n",
       "      <td>...</td>\n",
       "      <td>0.453784</td>\n",
       "      <td>0.434959</td>\n",
       "      <td>0.457931</td>\n",
       "      <td>0.377006</td>\n",
       "      <td>0.310685</td>\n",
       "      <td>0.321750</td>\n",
       "      <td>0.332205</td>\n",
       "      <td>0.424097</td>\n",
       "      <td>0.258697</td>\n",
       "      <td>0.478545</td>\n",
       "    </tr>\n",
       "    <tr>\n",
       "      <th>min</th>\n",
       "      <td>0.000000</td>\n",
       "      <td>0.000000</td>\n",
       "      <td>0.000000</td>\n",
       "      <td>0.000000</td>\n",
       "      <td>0.000000</td>\n",
       "      <td>0.000000</td>\n",
       "      <td>0.000000</td>\n",
       "      <td>0.000000</td>\n",
       "      <td>0.000000</td>\n",
       "      <td>0.000000</td>\n",
       "      <td>...</td>\n",
       "      <td>0.000000</td>\n",
       "      <td>0.000000</td>\n",
       "      <td>0.000000</td>\n",
       "      <td>0.000000</td>\n",
       "      <td>0.000000</td>\n",
       "      <td>0.000000</td>\n",
       "      <td>0.000000</td>\n",
       "      <td>0.000000</td>\n",
       "      <td>0.000000</td>\n",
       "      <td>0.000000</td>\n",
       "    </tr>\n",
       "    <tr>\n",
       "      <th>25%</th>\n",
       "      <td>0.224897</td>\n",
       "      <td>0.217490</td>\n",
       "      <td>0.219414</td>\n",
       "      <td>0.202586</td>\n",
       "      <td>0.205431</td>\n",
       "      <td>0.200316</td>\n",
       "      <td>0.191093</td>\n",
       "      <td>0.191027</td>\n",
       "      <td>0.191027</td>\n",
       "      <td>0.191027</td>\n",
       "      <td>...</td>\n",
       "      <td>0.000000</td>\n",
       "      <td>0.000000</td>\n",
       "      <td>0.000000</td>\n",
       "      <td>0.000000</td>\n",
       "      <td>0.000000</td>\n",
       "      <td>0.000000</td>\n",
       "      <td>0.000000</td>\n",
       "      <td>0.000000</td>\n",
       "      <td>0.000000</td>\n",
       "      <td>0.000000</td>\n",
       "    </tr>\n",
       "    <tr>\n",
       "      <th>50%</th>\n",
       "      <td>0.413014</td>\n",
       "      <td>0.428398</td>\n",
       "      <td>0.421478</td>\n",
       "      <td>0.420943</td>\n",
       "      <td>0.424007</td>\n",
       "      <td>0.420943</td>\n",
       "      <td>0.396444</td>\n",
       "      <td>0.393283</td>\n",
       "      <td>0.393283</td>\n",
       "      <td>0.393283</td>\n",
       "      <td>...</td>\n",
       "      <td>0.000000</td>\n",
       "      <td>0.000000</td>\n",
       "      <td>0.000000</td>\n",
       "      <td>0.000000</td>\n",
       "      <td>0.000000</td>\n",
       "      <td>0.000000</td>\n",
       "      <td>0.000000</td>\n",
       "      <td>0.000000</td>\n",
       "      <td>0.000000</td>\n",
       "      <td>0.000000</td>\n",
       "    </tr>\n",
       "    <tr>\n",
       "      <th>75%</th>\n",
       "      <td>0.708000</td>\n",
       "      <td>0.715245</td>\n",
       "      <td>0.717962</td>\n",
       "      <td>0.744719</td>\n",
       "      <td>0.718882</td>\n",
       "      <td>0.720843</td>\n",
       "      <td>0.686488</td>\n",
       "      <td>0.694941</td>\n",
       "      <td>0.694941</td>\n",
       "      <td>0.694941</td>\n",
       "      <td>...</td>\n",
       "      <td>1.000000</td>\n",
       "      <td>0.250000</td>\n",
       "      <td>1.000000</td>\n",
       "      <td>0.000000</td>\n",
       "      <td>0.000000</td>\n",
       "      <td>0.000000</td>\n",
       "      <td>0.000000</td>\n",
       "      <td>0.000000</td>\n",
       "      <td>0.000000</td>\n",
       "      <td>1.000000</td>\n",
       "    </tr>\n",
       "    <tr>\n",
       "      <th>max</th>\n",
       "      <td>1.000000</td>\n",
       "      <td>1.000000</td>\n",
       "      <td>1.000000</td>\n",
       "      <td>1.000000</td>\n",
       "      <td>1.000000</td>\n",
       "      <td>1.000000</td>\n",
       "      <td>1.000000</td>\n",
       "      <td>1.000000</td>\n",
       "      <td>1.000000</td>\n",
       "      <td>1.000000</td>\n",
       "      <td>...</td>\n",
       "      <td>1.000000</td>\n",
       "      <td>1.000000</td>\n",
       "      <td>1.000000</td>\n",
       "      <td>1.000000</td>\n",
       "      <td>1.000000</td>\n",
       "      <td>1.000000</td>\n",
       "      <td>1.000000</td>\n",
       "      <td>1.000000</td>\n",
       "      <td>1.000000</td>\n",
       "      <td>1.000000</td>\n",
       "    </tr>\n",
       "  </tbody>\n",
       "</table>\n",
       "<p>8 rows × 132 columns</p>\n",
       "</div>"
      ],
      "text/plain": [
       "       Inequality in Education (2012)  Inequality in Education (2013)  \\\n",
       "count                      112.000000                      112.000000   \n",
       "mean                         0.466165                        0.465566   \n",
       "std                          0.300205                        0.301861   \n",
       "min                          0.000000                        0.000000   \n",
       "25%                          0.224897                        0.217490   \n",
       "50%                          0.413014                        0.428398   \n",
       "75%                          0.708000                        0.715245   \n",
       "max                          1.000000                        1.000000   \n",
       "\n",
       "       Inequality in Education (2014)  Inequality in Education (2015)  \\\n",
       "count                      112.000000                      112.000000   \n",
       "mean                         0.466227                        0.461676   \n",
       "std                          0.301912                        0.303842   \n",
       "min                          0.000000                        0.000000   \n",
       "25%                          0.219414                        0.202586   \n",
       "50%                          0.421478                        0.420943   \n",
       "75%                          0.717962                        0.744719   \n",
       "max                          1.000000                        1.000000   \n",
       "\n",
       "       Inequality in Education (2016)  Inequality in Education (2017)  \\\n",
       "count                      112.000000                      112.000000   \n",
       "mean                         0.457718                        0.451541   \n",
       "std                          0.301814                        0.305000   \n",
       "min                          0.000000                        0.000000   \n",
       "25%                          0.205431                        0.200316   \n",
       "50%                          0.424007                        0.420943   \n",
       "75%                          0.718882                        0.720843   \n",
       "max                          1.000000                        1.000000   \n",
       "\n",
       "       Inequality in Education (2018)  Inequality in Education (2019)  \\\n",
       "count                      112.000000                      112.000000   \n",
       "mean                         0.430745                        0.429930   \n",
       "std                          0.293513                        0.294505   \n",
       "min                          0.000000                        0.000000   \n",
       "25%                          0.191093                        0.191027   \n",
       "50%                          0.396444                        0.393283   \n",
       "75%                          0.686488                        0.694941   \n",
       "max                          1.000000                        1.000000   \n",
       "\n",
       "       Inequality in Education (2020)  Inequality in Education (2021)  ...  \\\n",
       "count                      112.000000                      112.000000  ...   \n",
       "mean                         0.429457                        0.429457  ...   \n",
       "std                          0.295238                        0.295238  ...   \n",
       "min                          0.000000                        0.000000  ...   \n",
       "25%                          0.191027                        0.191027  ...   \n",
       "50%                          0.393283                        0.393283  ...   \n",
       "75%                          0.694941                        0.694941  ...   \n",
       "max                          1.000000                        1.000000  ...   \n",
       "\n",
       "       Human Development Groups_High  Human Development Groups_Low  \\\n",
       "count                     112.000000                    112.000000   \n",
       "mean                        0.285714                      0.250000   \n",
       "std                         0.453784                      0.434959   \n",
       "min                         0.000000                      0.000000   \n",
       "25%                         0.000000                      0.000000   \n",
       "50%                         0.000000                      0.000000   \n",
       "75%                         1.000000                      0.250000   \n",
       "max                         1.000000                      1.000000   \n",
       "\n",
       "       Human Development Groups_Medium  Human Development Groups_Very High  \\\n",
       "count                       112.000000                          112.000000   \n",
       "mean                          0.294643                            0.169643   \n",
       "std                           0.457931                            0.377006   \n",
       "min                           0.000000                            0.000000   \n",
       "25%                           0.000000                            0.000000   \n",
       "50%                           0.000000                            0.000000   \n",
       "75%                           1.000000                            0.000000   \n",
       "max                           1.000000                            1.000000   \n",
       "\n",
       "       UNDP Developing Regions_AS  UNDP Developing Regions_EAP  \\\n",
       "count                  112.000000                   112.000000   \n",
       "mean                     0.107143                     0.116071   \n",
       "std                      0.310685                     0.321750   \n",
       "min                      0.000000                     0.000000   \n",
       "25%                      0.000000                     0.000000   \n",
       "50%                      0.000000                     0.000000   \n",
       "75%                      0.000000                     0.000000   \n",
       "max                      1.000000                     1.000000   \n",
       "\n",
       "       UNDP Developing Regions_ECA  UNDP Developing Regions_LAC  \\\n",
       "count                   112.000000                   112.000000   \n",
       "mean                      0.125000                     0.232143   \n",
       "std                       0.332205                     0.424097   \n",
       "min                       0.000000                     0.000000   \n",
       "25%                       0.000000                     0.000000   \n",
       "50%                       0.000000                     0.000000   \n",
       "75%                       0.000000                     0.000000   \n",
       "max                       1.000000                     1.000000   \n",
       "\n",
       "       UNDP Developing Regions_SA  UNDP Developing Regions_SSA  \n",
       "count                  112.000000                   112.000000  \n",
       "mean                     0.071429                     0.348214  \n",
       "std                      0.258697                     0.478545  \n",
       "min                      0.000000                     0.000000  \n",
       "25%                      0.000000                     0.000000  \n",
       "50%                      0.000000                     0.000000  \n",
       "75%                      0.000000                     1.000000  \n",
       "max                      1.000000                     1.000000  \n",
       "\n",
       "[8 rows x 132 columns]"
      ]
     },
     "execution_count": 345,
     "metadata": {},
     "output_type": "execute_result"
    }
   ],
   "source": [
    "X.describe()"
   ]
  },
  {
   "cell_type": "code",
   "execution_count": 346,
   "id": "66dea06e",
   "metadata": {},
   "outputs": [],
   "source": [
    "X_train, X_test, y_train, y_test = train_test_split(X, y, test_size=0.2, random_state=42)"
   ]
  },
  {
   "cell_type": "code",
   "execution_count": 347,
   "id": "e4bc5f17",
   "metadata": {},
   "outputs": [
    {
     "name": "stdout",
     "output_type": "stream",
     "text": [
      "(89, 132)\n",
      "(23, 132)\n",
      "(89,)\n",
      "(23,)\n"
     ]
    }
   ],
   "source": [
    "print(X_train.shape)\n",
    "print(X_test.shape)\n",
    "print(y_train.shape) \n",
    "print(y_test.shape)"
   ]
  },
  {
   "cell_type": "code",
   "execution_count": null,
   "id": "a6da16c8",
   "metadata": {},
   "outputs": [],
   "source": [
    "#The above calculations show how the HDI of coutries has changed over the period of 10 years.\n",
    "#There is no much difference in the HDI Ranks"
   ]
  },
  {
   "cell_type": "code",
   "execution_count": null,
   "id": "7e9c53a0",
   "metadata": {},
   "outputs": [],
   "source": [
    "---------------------------------------------------------------------------------------------------------------------------------"
   ]
  },
  {
   "cell_type": "markdown",
   "id": "0cfb3a10",
   "metadata": {},
   "source": [
    "### DATASET 3"
   ]
  },
  {
   "cell_type": "code",
   "execution_count": 55,
   "id": "c7a4a58f",
   "metadata": {},
   "outputs": [],
   "source": [
    "df = pd.read_csv('Supply chain.csv')"
   ]
  },
  {
   "cell_type": "code",
   "execution_count": 56,
   "id": "14c7d051",
   "metadata": {},
   "outputs": [
    {
     "data": {
      "text/html": [
       "<div>\n",
       "<style scoped>\n",
       "    .dataframe tbody tr th:only-of-type {\n",
       "        vertical-align: middle;\n",
       "    }\n",
       "\n",
       "    .dataframe tbody tr th {\n",
       "        vertical-align: top;\n",
       "    }\n",
       "\n",
       "    .dataframe thead th {\n",
       "        text-align: right;\n",
       "    }\n",
       "</style>\n",
       "<table border=\"1\" class=\"dataframe\">\n",
       "  <thead>\n",
       "    <tr style=\"text-align: right;\">\n",
       "      <th></th>\n",
       "      <th>Order ID</th>\n",
       "      <th>Order Date</th>\n",
       "      <th>Origin Port</th>\n",
       "      <th>Carrier</th>\n",
       "      <th>TPT</th>\n",
       "      <th>Service Level</th>\n",
       "      <th>Ship ahead day count</th>\n",
       "      <th>Ship Late Day count</th>\n",
       "      <th>Customer</th>\n",
       "      <th>Product ID</th>\n",
       "      <th>Plant Code</th>\n",
       "      <th>Destination Port</th>\n",
       "      <th>Unit quantity</th>\n",
       "      <th>Weight</th>\n",
       "    </tr>\n",
       "  </thead>\n",
       "  <tbody>\n",
       "    <tr>\n",
       "      <th>0</th>\n",
       "      <td>1447296447</td>\n",
       "      <td>5/26/2013</td>\n",
       "      <td>PORT09</td>\n",
       "      <td>V44_3</td>\n",
       "      <td>1</td>\n",
       "      <td>CRF</td>\n",
       "      <td>3</td>\n",
       "      <td>0</td>\n",
       "      <td>V55555_53</td>\n",
       "      <td>1700106</td>\n",
       "      <td>PLANT16</td>\n",
       "      <td>PORT09</td>\n",
       "      <td>808.0</td>\n",
       "      <td>14.30</td>\n",
       "    </tr>\n",
       "    <tr>\n",
       "      <th>1</th>\n",
       "      <td>1447158015</td>\n",
       "      <td>5/26/2013</td>\n",
       "      <td>PORT09</td>\n",
       "      <td>V44_3</td>\n",
       "      <td>1</td>\n",
       "      <td>CRF</td>\n",
       "      <td>3</td>\n",
       "      <td>0</td>\n",
       "      <td>V55555_53</td>\n",
       "      <td>1700106</td>\n",
       "      <td>PLANT16</td>\n",
       "      <td>PORT09</td>\n",
       "      <td>3188.0</td>\n",
       "      <td>87.94</td>\n",
       "    </tr>\n",
       "    <tr>\n",
       "      <th>2</th>\n",
       "      <td>1447138899</td>\n",
       "      <td>5/26/2013</td>\n",
       "      <td>PORT09</td>\n",
       "      <td>V44_3</td>\n",
       "      <td>1</td>\n",
       "      <td>CRF</td>\n",
       "      <td>3</td>\n",
       "      <td>0</td>\n",
       "      <td>V55555_53</td>\n",
       "      <td>1700106</td>\n",
       "      <td>PLANT16</td>\n",
       "      <td>PORT09</td>\n",
       "      <td>2331.0</td>\n",
       "      <td>61.20</td>\n",
       "    </tr>\n",
       "    <tr>\n",
       "      <th>3</th>\n",
       "      <td>1447363528</td>\n",
       "      <td>5/26/2013</td>\n",
       "      <td>PORT09</td>\n",
       "      <td>V44_3</td>\n",
       "      <td>1</td>\n",
       "      <td>CRF</td>\n",
       "      <td>3</td>\n",
       "      <td>0</td>\n",
       "      <td>V55555_53</td>\n",
       "      <td>1700106</td>\n",
       "      <td>PLANT16</td>\n",
       "      <td>PORT09</td>\n",
       "      <td>847.0</td>\n",
       "      <td>16.16</td>\n",
       "    </tr>\n",
       "    <tr>\n",
       "      <th>4</th>\n",
       "      <td>1447363981</td>\n",
       "      <td>5/26/2013</td>\n",
       "      <td>PORT09</td>\n",
       "      <td>V44_3</td>\n",
       "      <td>1</td>\n",
       "      <td>CRF</td>\n",
       "      <td>3</td>\n",
       "      <td>0</td>\n",
       "      <td>V55555_53</td>\n",
       "      <td>1700106</td>\n",
       "      <td>PLANT16</td>\n",
       "      <td>PORT09</td>\n",
       "      <td>2163.0</td>\n",
       "      <td>52.34</td>\n",
       "    </tr>\n",
       "  </tbody>\n",
       "</table>\n",
       "</div>"
      ],
      "text/plain": [
       "     Order ID Order Date Origin Port Carrier TPT Service Level  \\\n",
       "0  1447296447  5/26/2013      PORT09   V44_3   1           CRF   \n",
       "1  1447158015  5/26/2013      PORT09   V44_3   1           CRF   \n",
       "2  1447138899  5/26/2013      PORT09   V44_3   1           CRF   \n",
       "3  1447363528  5/26/2013      PORT09   V44_3   1           CRF   \n",
       "4  1447363981  5/26/2013      PORT09   V44_3   1           CRF   \n",
       "\n",
       "  Ship ahead day count Ship Late Day count   Customer Product ID Plant Code  \\\n",
       "0                    3                   0  V55555_53    1700106    PLANT16   \n",
       "1                    3                   0  V55555_53    1700106    PLANT16   \n",
       "2                    3                   0  V55555_53    1700106    PLANT16   \n",
       "3                    3                   0  V55555_53    1700106    PLANT16   \n",
       "4                    3                   0  V55555_53    1700106    PLANT16   \n",
       "\n",
       "  Destination Port  Unit quantity  Weight  \n",
       "0           PORT09          808.0   14.30  \n",
       "1           PORT09         3188.0   87.94  \n",
       "2           PORT09         2331.0   61.20  \n",
       "3           PORT09          847.0   16.16  \n",
       "4           PORT09         2163.0   52.34  "
      ]
     },
     "execution_count": 56,
     "metadata": {},
     "output_type": "execute_result"
    }
   ],
   "source": [
    "df.head()"
   ]
  },
  {
   "cell_type": "code",
   "execution_count": 57,
   "id": "a685cafe",
   "metadata": {},
   "outputs": [
    {
     "data": {
      "text/html": [
       "<div>\n",
       "<style scoped>\n",
       "    .dataframe tbody tr th:only-of-type {\n",
       "        vertical-align: middle;\n",
       "    }\n",
       "\n",
       "    .dataframe tbody tr th {\n",
       "        vertical-align: top;\n",
       "    }\n",
       "\n",
       "    .dataframe thead th {\n",
       "        text-align: right;\n",
       "    }\n",
       "</style>\n",
       "<table border=\"1\" class=\"dataframe\">\n",
       "  <thead>\n",
       "    <tr style=\"text-align: right;\">\n",
       "      <th></th>\n",
       "      <th>Order ID</th>\n",
       "      <th>Order Date</th>\n",
       "      <th>Origin Port</th>\n",
       "      <th>Carrier</th>\n",
       "      <th>TPT</th>\n",
       "      <th>Service Level</th>\n",
       "      <th>Ship ahead day count</th>\n",
       "      <th>Ship Late Day count</th>\n",
       "      <th>Customer</th>\n",
       "      <th>Product ID</th>\n",
       "      <th>Plant Code</th>\n",
       "      <th>Destination Port</th>\n",
       "      <th>Unit quantity</th>\n",
       "      <th>Weight</th>\n",
       "    </tr>\n",
       "  </thead>\n",
       "  <tbody>\n",
       "    <tr>\n",
       "      <th>12866</th>\n",
       "      <td>PLANT15</td>\n",
       "      <td>PORT08</td>\n",
       "      <td>NaN</td>\n",
       "      <td>NaN</td>\n",
       "      <td>NaN</td>\n",
       "      <td>NaN</td>\n",
       "      <td>NaN</td>\n",
       "      <td>NaN</td>\n",
       "      <td>NaN</td>\n",
       "      <td>NaN</td>\n",
       "      <td>NaN</td>\n",
       "      <td>NaN</td>\n",
       "      <td>NaN</td>\n",
       "      <td>NaN</td>\n",
       "    </tr>\n",
       "    <tr>\n",
       "      <th>12867</th>\n",
       "      <td>PLANT16</td>\n",
       "      <td>PORT09</td>\n",
       "      <td>NaN</td>\n",
       "      <td>NaN</td>\n",
       "      <td>NaN</td>\n",
       "      <td>NaN</td>\n",
       "      <td>NaN</td>\n",
       "      <td>NaN</td>\n",
       "      <td>NaN</td>\n",
       "      <td>NaN</td>\n",
       "      <td>NaN</td>\n",
       "      <td>NaN</td>\n",
       "      <td>NaN</td>\n",
       "      <td>NaN</td>\n",
       "    </tr>\n",
       "    <tr>\n",
       "      <th>12868</th>\n",
       "      <td>PLANT17</td>\n",
       "      <td>PORT10</td>\n",
       "      <td>NaN</td>\n",
       "      <td>NaN</td>\n",
       "      <td>NaN</td>\n",
       "      <td>NaN</td>\n",
       "      <td>NaN</td>\n",
       "      <td>NaN</td>\n",
       "      <td>NaN</td>\n",
       "      <td>NaN</td>\n",
       "      <td>NaN</td>\n",
       "      <td>NaN</td>\n",
       "      <td>NaN</td>\n",
       "      <td>NaN</td>\n",
       "    </tr>\n",
       "    <tr>\n",
       "      <th>12869</th>\n",
       "      <td>PLANT18</td>\n",
       "      <td>PORT11</td>\n",
       "      <td>NaN</td>\n",
       "      <td>NaN</td>\n",
       "      <td>NaN</td>\n",
       "      <td>NaN</td>\n",
       "      <td>NaN</td>\n",
       "      <td>NaN</td>\n",
       "      <td>NaN</td>\n",
       "      <td>NaN</td>\n",
       "      <td>NaN</td>\n",
       "      <td>NaN</td>\n",
       "      <td>NaN</td>\n",
       "      <td>NaN</td>\n",
       "    </tr>\n",
       "    <tr>\n",
       "      <th>12870</th>\n",
       "      <td>PLANT19</td>\n",
       "      <td>PORT04</td>\n",
       "      <td>NaN</td>\n",
       "      <td>NaN</td>\n",
       "      <td>NaN</td>\n",
       "      <td>NaN</td>\n",
       "      <td>NaN</td>\n",
       "      <td>NaN</td>\n",
       "      <td>NaN</td>\n",
       "      <td>NaN</td>\n",
       "      <td>NaN</td>\n",
       "      <td>NaN</td>\n",
       "      <td>NaN</td>\n",
       "      <td>NaN</td>\n",
       "    </tr>\n",
       "  </tbody>\n",
       "</table>\n",
       "</div>"
      ],
      "text/plain": [
       "      Order ID Order Date Origin Port Carrier  TPT Service Level  \\\n",
       "12866  PLANT15     PORT08         NaN     NaN  NaN           NaN   \n",
       "12867  PLANT16     PORT09         NaN     NaN  NaN           NaN   \n",
       "12868  PLANT17     PORT10         NaN     NaN  NaN           NaN   \n",
       "12869  PLANT18     PORT11         NaN     NaN  NaN           NaN   \n",
       "12870  PLANT19     PORT04         NaN     NaN  NaN           NaN   \n",
       "\n",
       "      Ship ahead day count Ship Late Day count Customer Product ID Plant Code  \\\n",
       "12866                  NaN                 NaN      NaN        NaN        NaN   \n",
       "12867                  NaN                 NaN      NaN        NaN        NaN   \n",
       "12868                  NaN                 NaN      NaN        NaN        NaN   \n",
       "12869                  NaN                 NaN      NaN        NaN        NaN   \n",
       "12870                  NaN                 NaN      NaN        NaN        NaN   \n",
       "\n",
       "      Destination Port  Unit quantity  Weight  \n",
       "12866              NaN            NaN     NaN  \n",
       "12867              NaN            NaN     NaN  \n",
       "12868              NaN            NaN     NaN  \n",
       "12869              NaN            NaN     NaN  \n",
       "12870              NaN            NaN     NaN  "
      ]
     },
     "execution_count": 57,
     "metadata": {},
     "output_type": "execute_result"
    }
   ],
   "source": [
    "df.tail()"
   ]
  },
  {
   "cell_type": "code",
   "execution_count": 58,
   "id": "a8ba6747",
   "metadata": {},
   "outputs": [
    {
     "data": {
      "text/plain": [
       "(12871, 14)"
      ]
     },
     "execution_count": 58,
     "metadata": {},
     "output_type": "execute_result"
    }
   ],
   "source": [
    "df.shape"
   ]
  },
  {
   "cell_type": "code",
   "execution_count": 59,
   "id": "53f2ec01",
   "metadata": {},
   "outputs": [
    {
     "data": {
      "text/plain": [
       "Order ID                 object\n",
       "Order Date               object\n",
       "Origin Port              object\n",
       "Carrier                  object\n",
       "TPT                      object\n",
       "Service Level            object\n",
       "Ship ahead day count     object\n",
       "Ship Late Day count      object\n",
       "Customer                 object\n",
       "Product ID               object\n",
       "Plant Code               object\n",
       "Destination Port         object\n",
       "Unit quantity           float64\n",
       "Weight                  float64\n",
       "dtype: object"
      ]
     },
     "execution_count": 59,
     "metadata": {},
     "output_type": "execute_result"
    }
   ],
   "source": [
    "df.dtypes"
   ]
  },
  {
   "cell_type": "code",
   "execution_count": 60,
   "id": "4d18ad89",
   "metadata": {},
   "outputs": [
    {
     "data": {
      "text/plain": [
       "Index(['Order ID', 'Order Date', 'Origin Port', 'Carrier', 'TPT',\n",
       "       'Service Level', 'Ship ahead day count', 'Ship Late Day count',\n",
       "       'Customer', 'Product ID', 'Plant Code', 'Destination Port',\n",
       "       'Unit quantity', 'Weight'],\n",
       "      dtype='object')"
      ]
     },
     "execution_count": 60,
     "metadata": {},
     "output_type": "execute_result"
    }
   ],
   "source": [
    "df.columns"
   ]
  },
  {
   "cell_type": "code",
   "execution_count": 61,
   "id": "3dc5b073",
   "metadata": {},
   "outputs": [
    {
     "data": {
      "text/html": [
       "<div>\n",
       "<style scoped>\n",
       "    .dataframe tbody tr th:only-of-type {\n",
       "        vertical-align: middle;\n",
       "    }\n",
       "\n",
       "    .dataframe tbody tr th {\n",
       "        vertical-align: top;\n",
       "    }\n",
       "\n",
       "    .dataframe thead th {\n",
       "        text-align: right;\n",
       "    }\n",
       "</style>\n",
       "<table border=\"1\" class=\"dataframe\">\n",
       "  <thead>\n",
       "    <tr style=\"text-align: right;\">\n",
       "      <th></th>\n",
       "      <th>Unit quantity</th>\n",
       "      <th>Weight</th>\n",
       "    </tr>\n",
       "  </thead>\n",
       "  <tbody>\n",
       "    <tr>\n",
       "      <th>count</th>\n",
       "      <td>9215.000000</td>\n",
       "      <td>9215.000000</td>\n",
       "    </tr>\n",
       "    <tr>\n",
       "      <th>mean</th>\n",
       "      <td>3202.747151</td>\n",
       "      <td>19.871688</td>\n",
       "    </tr>\n",
       "    <tr>\n",
       "      <th>std</th>\n",
       "      <td>15965.622260</td>\n",
       "      <td>66.569064</td>\n",
       "    </tr>\n",
       "    <tr>\n",
       "      <th>min</th>\n",
       "      <td>235.000000</td>\n",
       "      <td>0.000000</td>\n",
       "    </tr>\n",
       "    <tr>\n",
       "      <th>25%</th>\n",
       "      <td>330.000000</td>\n",
       "      <td>1.407430</td>\n",
       "    </tr>\n",
       "    <tr>\n",
       "      <th>50%</th>\n",
       "      <td>477.000000</td>\n",
       "      <td>4.440000</td>\n",
       "    </tr>\n",
       "    <tr>\n",
       "      <th>75%</th>\n",
       "      <td>1275.500000</td>\n",
       "      <td>13.325673</td>\n",
       "    </tr>\n",
       "    <tr>\n",
       "      <th>max</th>\n",
       "      <td>561847.000000</td>\n",
       "      <td>2338.405126</td>\n",
       "    </tr>\n",
       "  </tbody>\n",
       "</table>\n",
       "</div>"
      ],
      "text/plain": [
       "       Unit quantity       Weight\n",
       "count    9215.000000  9215.000000\n",
       "mean     3202.747151    19.871688\n",
       "std     15965.622260    66.569064\n",
       "min       235.000000     0.000000\n",
       "25%       330.000000     1.407430\n",
       "50%       477.000000     4.440000\n",
       "75%      1275.500000    13.325673\n",
       "max    561847.000000  2338.405126"
      ]
     },
     "execution_count": 61,
     "metadata": {},
     "output_type": "execute_result"
    }
   ],
   "source": [
    "df.describe()"
   ]
  },
  {
   "cell_type": "code",
   "execution_count": 62,
   "id": "03c7547d",
   "metadata": {},
   "outputs": [
    {
     "data": {
      "text/plain": [
       "0           9023\n",
       "1            110\n",
       "3             78\n",
       " $0.08        48\n",
       " $0.10        38\n",
       "            ... \n",
       " $4.56         1\n",
       " $11.49        1\n",
       " $12.40        1\n",
       " $8.31         1\n",
       " $7.91         1\n",
       "Name: Ship Late Day count, Length: 618, dtype: int64"
      ]
     },
     "execution_count": 62,
     "metadata": {},
     "output_type": "execute_result"
    }
   ],
   "source": [
    "df['Ship Late Day count'].value_counts()"
   ]
  },
  {
   "cell_type": "code",
   "execution_count": 63,
   "id": "2a7c3dd4",
   "metadata": {},
   "outputs": [
    {
     "data": {
      "text/plain": [
       "PORT04          9041\n",
       "PORT09          1713\n",
       "PORT05             1\n",
       "dest_port_cd       1\n",
       "Name: Origin Port, dtype: int64"
      ]
     },
     "execution_count": 63,
     "metadata": {},
     "output_type": "execute_result"
    }
   ],
   "source": [
    "df['Origin Port'].value_counts()"
   ]
  },
  {
   "cell_type": "code",
   "execution_count": 64,
   "id": "36766dc0",
   "metadata": {},
   "outputs": [
    {
     "data": {
      "image/png": "[encoded data removed]",
      "text/plain": [
       "<Figure size 800x500 with 1 Axes>"
      ]
     },
     "metadata": {},
     "output_type": "display_data"
    }
   ],
   "source": [
    "plt.figure(figsize=(8, 5))\n",
    "sns.histplot(df['Origin Port'])\n",
    "plt.title('Histogram of Origin Port')\n",
    "plt.xlabel('Origin Port')\n",
    "plt.ylabel('Frequency')\n",
    "plt.show()"
   ]
  },
  {
   "cell_type": "code",
   "execution_count": null,
   "id": "289e6f21",
   "metadata": {},
   "outputs": [],
   "source": [
    "#Many suppliers use port 04"
   ]
  },
  {
   "cell_type": "code",
   "execution_count": 65,
   "id": "75f3474f",
   "metadata": {},
   "outputs": [],
   "source": [
    "df = df.drop(columns=['Order ID', 'Order Date'])"
   ]
  },
  {
   "cell_type": "code",
   "execution_count": 66,
   "id": "0f886bae",
   "metadata": {},
   "outputs": [
    {
     "data": {
      "text/plain": [
       "(12871, 12)"
      ]
     },
     "execution_count": 66,
     "metadata": {},
     "output_type": "execute_result"
    }
   ],
   "source": [
    "df.shape"
   ]
  },
  {
   "cell_type": "code",
   "execution_count": 18,
   "id": "35ec412a",
   "metadata": {},
   "outputs": [],
   "source": [
    "df = df.dropna()"
   ]
  },
  {
   "cell_type": "code",
   "execution_count": 19,
   "id": "44ce52af",
   "metadata": {},
   "outputs": [
    {
     "data": {
      "text/plain": [
       "(9215, 12)"
      ]
     },
     "execution_count": 19,
     "metadata": {},
     "output_type": "execute_result"
    }
   ],
   "source": [
    "df.shape"
   ]
  },
  {
   "cell_type": "code",
   "execution_count": 20,
   "id": "29d9802e",
   "metadata": {},
   "outputs": [
    {
     "data": {
      "text/html": [
       "<div>\n",
       "<style scoped>\n",
       "    .dataframe tbody tr th:only-of-type {\n",
       "        vertical-align: middle;\n",
       "    }\n",
       "\n",
       "    .dataframe tbody tr th {\n",
       "        vertical-align: top;\n",
       "    }\n",
       "\n",
       "    .dataframe thead th {\n",
       "        text-align: right;\n",
       "    }\n",
       "</style>\n",
       "<table border=\"1\" class=\"dataframe\">\n",
       "  <thead>\n",
       "    <tr style=\"text-align: right;\">\n",
       "      <th></th>\n",
       "      <th>Unit quantity</th>\n",
       "      <th>Weight</th>\n",
       "    </tr>\n",
       "  </thead>\n",
       "  <tbody>\n",
       "    <tr>\n",
       "      <th>0</th>\n",
       "      <td>808.0</td>\n",
       "      <td>14.30</td>\n",
       "    </tr>\n",
       "    <tr>\n",
       "      <th>1</th>\n",
       "      <td>3188.0</td>\n",
       "      <td>87.94</td>\n",
       "    </tr>\n",
       "    <tr>\n",
       "      <th>2</th>\n",
       "      <td>2331.0</td>\n",
       "      <td>61.20</td>\n",
       "    </tr>\n",
       "    <tr>\n",
       "      <th>3</th>\n",
       "      <td>847.0</td>\n",
       "      <td>16.16</td>\n",
       "    </tr>\n",
       "    <tr>\n",
       "      <th>4</th>\n",
       "      <td>2163.0</td>\n",
       "      <td>52.34</td>\n",
       "    </tr>\n",
       "  </tbody>\n",
       "</table>\n",
       "</div>"
      ],
      "text/plain": [
       "   Unit quantity  Weight\n",
       "0          808.0   14.30\n",
       "1         3188.0   87.94\n",
       "2         2331.0   61.20\n",
       "3          847.0   16.16\n",
       "4         2163.0   52.34"
      ]
     },
     "execution_count": 20,
     "metadata": {},
     "output_type": "execute_result"
    }
   ],
   "source": [
    "df_num = df.select_dtypes(include='number')\n",
    "df_num.head()"
   ]
  },
  {
   "cell_type": "code",
   "execution_count": 21,
   "id": "7f90464a",
   "metadata": {},
   "outputs": [],
   "source": [
    "Q1 = df_num.quantile(0.25)\n",
    "Q3 = df_num.quantile(0.75)\n",
    "IQR = Q3 - Q1\n",
    "lower_bound = Q1 - 1.5 * IQR\n",
    "upper_bound = Q3 + 1.5 * IQR"
   ]
  },
  {
   "cell_type": "code",
   "execution_count": 22,
   "id": "19ecfa68",
   "metadata": {},
   "outputs": [
    {
     "data": {
      "text/plain": [
       "Unit quantity   -1088.250000\n",
       "Weight            -16.469935\n",
       "dtype: float64"
      ]
     },
     "execution_count": 22,
     "metadata": {},
     "output_type": "execute_result"
    }
   ],
   "source": [
    "lower_bound"
   ]
  },
  {
   "cell_type": "code",
   "execution_count": 23,
   "id": "345be587",
   "metadata": {},
   "outputs": [],
   "source": [
    "df = df[~((df_num < lower_bound) | (df_num > upper_bound)).any(axis=1)]"
   ]
  },
  {
   "cell_type": "code",
   "execution_count": 24,
   "id": "57170dfb",
   "metadata": {},
   "outputs": [
    {
     "data": {
      "text/plain": [
       "(7209, 12)"
      ]
     },
     "execution_count": 24,
     "metadata": {},
     "output_type": "execute_result"
    }
   ],
   "source": [
    "df.shape"
   ]
  },
  {
   "cell_type": "code",
   "execution_count": 25,
   "id": "6ddbf6f7",
   "metadata": {},
   "outputs": [
    {
     "data": {
      "text/plain": [
       "<Axes: xlabel='Unit quantity'>"
      ]
     },
     "execution_count": 25,
     "metadata": {},
     "output_type": "execute_result"
    },
    {
     "data": {
      "image/png": "[encoded data removed]",
      "text/plain": [
       "<Figure size 640x480 with 1 Axes>"
      ]
     },
     "metadata": {},
     "output_type": "display_data"
    }
   ],
   "source": [
    "sns.boxplot(x=df['Unit quantity'])"
   ]
  },
  {
   "cell_type": "code",
   "execution_count": 26,
   "id": "ce623db6",
   "metadata": {},
   "outputs": [
    {
     "data": {
      "text/plain": [
       "(7209, 2)"
      ]
     },
     "execution_count": 26,
     "metadata": {},
     "output_type": "execute_result"
    }
   ],
   "source": [
    "df_num = df.select_dtypes('number')\n",
    "df_num.shape"
   ]
  },
  {
   "cell_type": "code",
   "execution_count": 27,
   "id": "fba87eb8",
   "metadata": {},
   "outputs": [],
   "source": [
    "Q1 = df_num.quantile(0.25)\n",
    "Q3 = df_num.quantile(0.75)\n",
    "IQR = Q3 - Q1\n",
    "lower_bound = Q1 - 1.5 * IQR\n",
    "upper_bound = Q3 + 1.5 * IQR"
   ]
  },
  {
   "cell_type": "code",
   "execution_count": 28,
   "id": "b2247f79",
   "metadata": {},
   "outputs": [
    {
     "data": {
      "text/plain": [
       "Unit quantity    1151.000000\n",
       "Weight             15.478243\n",
       "dtype: float64"
      ]
     },
     "execution_count": 28,
     "metadata": {},
     "output_type": "execute_result"
    }
   ],
   "source": [
    "upper_bound"
   ]
  },
  {
   "cell_type": "code",
   "execution_count": 29,
   "id": "3c1cd89b",
   "metadata": {},
   "outputs": [],
   "source": [
    "df = df[~((df_num < lower_bound) | (df_num > upper_bound)).any(axis=1)]"
   ]
  },
  {
   "cell_type": "code",
   "execution_count": 30,
   "id": "31fb531f",
   "metadata": {},
   "outputs": [
    {
     "data": {
      "text/plain": [
       "(5798, 12)"
      ]
     },
     "execution_count": 30,
     "metadata": {},
     "output_type": "execute_result"
    }
   ],
   "source": [
    "df.shape"
   ]
  },
  {
   "cell_type": "code",
   "execution_count": 31,
   "id": "015e9b56",
   "metadata": {},
   "outputs": [
    {
     "data": {
      "text/plain": [
       "<Axes: xlabel='Unit quantity'>"
      ]
     },
     "execution_count": 31,
     "metadata": {},
     "output_type": "execute_result"
    },
    {
     "data": {
      "image/png": "[encoded data removed]",
      "text/plain": [
       "<Figure size 640x480 with 1 Axes>"
      ]
     },
     "metadata": {},
     "output_type": "display_data"
    }
   ],
   "source": [
    "sns.boxplot(x=df['Unit quantity'])"
   ]
  },
  {
   "cell_type": "code",
   "execution_count": 32,
   "id": "4264a6a3",
   "metadata": {},
   "outputs": [
    {
     "data": {
      "text/plain": [
       "(5798, 2)"
      ]
     },
     "execution_count": 32,
     "metadata": {},
     "output_type": "execute_result"
    }
   ],
   "source": [
    "df_num = df.select_dtypes('number')\n",
    "df_num.shape"
   ]
  },
  {
   "cell_type": "code",
   "execution_count": null,
   "id": "d2436a3d",
   "metadata": {},
   "outputs": [],
   "source": [
    "Q1 = df_num.quantile(0.25)\n",
    "Q3 = df_num.quantile(0.75)\n",
    "IQR = Q3 - Q1\n",
    "lower_bound = Q1 - 1.5 * IQR\n",
    "upper_bound = Q3 + 1.5 * IQR"
   ]
  },
  {
   "cell_type": "code",
   "execution_count": 33,
   "id": "6c36e827",
   "metadata": {},
   "outputs": [
    {
     "data": {
      "text/plain": [
       "Unit quantity    1151.000000\n",
       "Weight             15.478243\n",
       "dtype: float64"
      ]
     },
     "execution_count": 33,
     "metadata": {},
     "output_type": "execute_result"
    }
   ],
   "source": [
    "upper_bound"
   ]
  },
  {
   "cell_type": "code",
   "execution_count": 34,
   "id": "e84896d0",
   "metadata": {},
   "outputs": [],
   "source": [
    "df = df[~((df_num < lower_bound) | (df_num > upper_bound)).any(axis=1)]"
   ]
  },
  {
   "cell_type": "code",
   "execution_count": 35,
   "id": "f4d35d0e",
   "metadata": {},
   "outputs": [
    {
     "data": {
      "text/plain": [
       "(5798, 12)"
      ]
     },
     "execution_count": 35,
     "metadata": {},
     "output_type": "execute_result"
    }
   ],
   "source": [
    "df.shape"
   ]
  },
  {
   "cell_type": "code",
   "execution_count": 36,
   "id": "e99ccd42",
   "metadata": {},
   "outputs": [
    {
     "data": {
      "text/plain": [
       "<Axes: xlabel='Unit quantity'>"
      ]
     },
     "execution_count": 36,
     "metadata": {},
     "output_type": "execute_result"
    },
    {
     "data": {
      "image/png": "[encoded data removed]",
      "text/plain": [
       "<Figure size 640x480 with 1 Axes>"
      ]
     },
     "metadata": {},
     "output_type": "display_data"
    }
   ],
   "source": [
    "sns.boxplot(x=df['Unit quantity'])"
   ]
  },
  {
   "cell_type": "code",
   "execution_count": 39,
   "id": "23373a82",
   "metadata": {},
   "outputs": [
    {
     "data": {
      "text/html": [
       "<div>\n",
       "<style scoped>\n",
       "    .dataframe tbody tr th:only-of-type {\n",
       "        vertical-align: middle;\n",
       "    }\n",
       "\n",
       "    .dataframe tbody tr th {\n",
       "        vertical-align: top;\n",
       "    }\n",
       "\n",
       "    .dataframe thead th {\n",
       "        text-align: right;\n",
       "    }\n",
       "</style>\n",
       "<table border=\"1\" class=\"dataframe\">\n",
       "  <thead>\n",
       "    <tr style=\"text-align: right;\">\n",
       "      <th></th>\n",
       "      <th>Origin Port</th>\n",
       "      <th>Carrier</th>\n",
       "      <th>TPT</th>\n",
       "      <th>Service Level</th>\n",
       "      <th>Ship ahead day count</th>\n",
       "      <th>Ship Late Day count</th>\n",
       "      <th>Customer</th>\n",
       "      <th>Product ID</th>\n",
       "      <th>Plant Code</th>\n",
       "      <th>Destination Port</th>\n",
       "      <th>Weight</th>\n",
       "    </tr>\n",
       "  </thead>\n",
       "  <tbody>\n",
       "    <tr>\n",
       "      <th>0</th>\n",
       "      <td>PORT09</td>\n",
       "      <td>V44_3</td>\n",
       "      <td>1</td>\n",
       "      <td>CRF</td>\n",
       "      <td>3</td>\n",
       "      <td>0</td>\n",
       "      <td>V55555_53</td>\n",
       "      <td>1700106</td>\n",
       "      <td>PLANT16</td>\n",
       "      <td>PORT09</td>\n",
       "      <td>14.30</td>\n",
       "    </tr>\n",
       "    <tr>\n",
       "      <th>7</th>\n",
       "      <td>PORT09</td>\n",
       "      <td>V44_3</td>\n",
       "      <td>1</td>\n",
       "      <td>CRF</td>\n",
       "      <td>3</td>\n",
       "      <td>0</td>\n",
       "      <td>V55555_53</td>\n",
       "      <td>1700106</td>\n",
       "      <td>PLANT16</td>\n",
       "      <td>PORT09</td>\n",
       "      <td>2.86</td>\n",
       "    </tr>\n",
       "    <tr>\n",
       "      <th>11</th>\n",
       "      <td>PORT09</td>\n",
       "      <td>V44_3</td>\n",
       "      <td>1</td>\n",
       "      <td>CRF</td>\n",
       "      <td>3</td>\n",
       "      <td>0</td>\n",
       "      <td>V55555_53</td>\n",
       "      <td>1700106</td>\n",
       "      <td>PLANT16</td>\n",
       "      <td>PORT09</td>\n",
       "      <td>14.30</td>\n",
       "    </tr>\n",
       "    <tr>\n",
       "      <th>13</th>\n",
       "      <td>PORT09</td>\n",
       "      <td>V44_3</td>\n",
       "      <td>1</td>\n",
       "      <td>CRF</td>\n",
       "      <td>3</td>\n",
       "      <td>0</td>\n",
       "      <td>V55555_53</td>\n",
       "      <td>1697884</td>\n",
       "      <td>PLANT16</td>\n",
       "      <td>PORT09</td>\n",
       "      <td>7.80</td>\n",
       "    </tr>\n",
       "    <tr>\n",
       "      <th>31</th>\n",
       "      <td>PORT09</td>\n",
       "      <td>V44_3</td>\n",
       "      <td>1</td>\n",
       "      <td>CRF</td>\n",
       "      <td>3</td>\n",
       "      <td>0</td>\n",
       "      <td>V55555_53</td>\n",
       "      <td>1699336</td>\n",
       "      <td>PLANT16</td>\n",
       "      <td>PORT09</td>\n",
       "      <td>13.36</td>\n",
       "    </tr>\n",
       "  </tbody>\n",
       "</table>\n",
       "</div>"
      ],
      "text/plain": [
       "   Origin Port Carrier TPT Service Level Ship ahead day count  \\\n",
       "0       PORT09   V44_3   1           CRF                    3   \n",
       "7       PORT09   V44_3   1           CRF                    3   \n",
       "11      PORT09   V44_3   1           CRF                    3   \n",
       "13      PORT09   V44_3   1           CRF                    3   \n",
       "31      PORT09   V44_3   1           CRF                    3   \n",
       "\n",
       "   Ship Late Day count   Customer Product ID Plant Code Destination Port  \\\n",
       "0                    0  V55555_53    1700106    PLANT16           PORT09   \n",
       "7                    0  V55555_53    1700106    PLANT16           PORT09   \n",
       "11                   0  V55555_53    1700106    PLANT16           PORT09   \n",
       "13                   0  V55555_53    1697884    PLANT16           PORT09   \n",
       "31                   0  V55555_53    1699336    PLANT16           PORT09   \n",
       "\n",
       "    Weight  \n",
       "0    14.30  \n",
       "7     2.86  \n",
       "11   14.30  \n",
       "13    7.80  \n",
       "31   13.36  "
      ]
     },
     "execution_count": 39,
     "metadata": {},
     "output_type": "execute_result"
    }
   ],
   "source": [
    "X = df.drop('Unit quantity', axis=1)\n",
    "y = df['Unit quantity']\n",
    "X.head()"
   ]
  },
  {
   "cell_type": "code",
   "execution_count": 40,
   "id": "4b463707",
   "metadata": {},
   "outputs": [
    {
     "data": {
      "text/html": [
       "<div>\n",
       "<style scoped>\n",
       "    .dataframe tbody tr th:only-of-type {\n",
       "        vertical-align: middle;\n",
       "    }\n",
       "\n",
       "    .dataframe tbody tr th {\n",
       "        vertical-align: top;\n",
       "    }\n",
       "\n",
       "    .dataframe thead th {\n",
       "        text-align: right;\n",
       "    }\n",
       "</style>\n",
       "<table border=\"1\" class=\"dataframe\">\n",
       "  <thead>\n",
       "    <tr style=\"text-align: right;\">\n",
       "      <th></th>\n",
       "      <th>Weight</th>\n",
       "    </tr>\n",
       "  </thead>\n",
       "  <tbody>\n",
       "    <tr>\n",
       "      <th>0</th>\n",
       "      <td>14.30</td>\n",
       "    </tr>\n",
       "    <tr>\n",
       "      <th>7</th>\n",
       "      <td>2.86</td>\n",
       "    </tr>\n",
       "    <tr>\n",
       "      <th>11</th>\n",
       "      <td>14.30</td>\n",
       "    </tr>\n",
       "    <tr>\n",
       "      <th>13</th>\n",
       "      <td>7.80</td>\n",
       "    </tr>\n",
       "    <tr>\n",
       "      <th>31</th>\n",
       "      <td>13.36</td>\n",
       "    </tr>\n",
       "  </tbody>\n",
       "</table>\n",
       "</div>"
      ],
      "text/plain": [
       "    Weight\n",
       "0    14.30\n",
       "7     2.86\n",
       "11   14.30\n",
       "13    7.80\n",
       "31   13.36"
      ]
     },
     "execution_count": 40,
     "metadata": {},
     "output_type": "execute_result"
    }
   ],
   "source": [
    "X_num = X.select_dtypes('number')\n",
    "X_num.head()"
   ]
  },
  {
   "cell_type": "code",
   "execution_count": 41,
   "id": "c6e6f06d",
   "metadata": {},
   "outputs": [
    {
     "data": {
      "text/html": [
       "<div>\n",
       "<style scoped>\n",
       "    .dataframe tbody tr th:only-of-type {\n",
       "        vertical-align: middle;\n",
       "    }\n",
       "\n",
       "    .dataframe tbody tr th {\n",
       "        vertical-align: top;\n",
       "    }\n",
       "\n",
       "    .dataframe thead th {\n",
       "        text-align: right;\n",
       "    }\n",
       "</style>\n",
       "<table border=\"1\" class=\"dataframe\">\n",
       "  <thead>\n",
       "    <tr style=\"text-align: right;\">\n",
       "      <th></th>\n",
       "      <th>Origin Port</th>\n",
       "      <th>Carrier</th>\n",
       "      <th>TPT</th>\n",
       "      <th>Service Level</th>\n",
       "      <th>Ship ahead day count</th>\n",
       "      <th>Ship Late Day count</th>\n",
       "      <th>Customer</th>\n",
       "      <th>Product ID</th>\n",
       "      <th>Plant Code</th>\n",
       "      <th>Destination Port</th>\n",
       "    </tr>\n",
       "  </thead>\n",
       "  <tbody>\n",
       "    <tr>\n",
       "      <th>0</th>\n",
       "      <td>PORT09</td>\n",
       "      <td>V44_3</td>\n",
       "      <td>1</td>\n",
       "      <td>CRF</td>\n",
       "      <td>3</td>\n",
       "      <td>0</td>\n",
       "      <td>V55555_53</td>\n",
       "      <td>1700106</td>\n",
       "      <td>PLANT16</td>\n",
       "      <td>PORT09</td>\n",
       "    </tr>\n",
       "    <tr>\n",
       "      <th>7</th>\n",
       "      <td>PORT09</td>\n",
       "      <td>V44_3</td>\n",
       "      <td>1</td>\n",
       "      <td>CRF</td>\n",
       "      <td>3</td>\n",
       "      <td>0</td>\n",
       "      <td>V55555_53</td>\n",
       "      <td>1700106</td>\n",
       "      <td>PLANT16</td>\n",
       "      <td>PORT09</td>\n",
       "    </tr>\n",
       "    <tr>\n",
       "      <th>11</th>\n",
       "      <td>PORT09</td>\n",
       "      <td>V44_3</td>\n",
       "      <td>1</td>\n",
       "      <td>CRF</td>\n",
       "      <td>3</td>\n",
       "      <td>0</td>\n",
       "      <td>V55555_53</td>\n",
       "      <td>1700106</td>\n",
       "      <td>PLANT16</td>\n",
       "      <td>PORT09</td>\n",
       "    </tr>\n",
       "    <tr>\n",
       "      <th>13</th>\n",
       "      <td>PORT09</td>\n",
       "      <td>V44_3</td>\n",
       "      <td>1</td>\n",
       "      <td>CRF</td>\n",
       "      <td>3</td>\n",
       "      <td>0</td>\n",
       "      <td>V55555_53</td>\n",
       "      <td>1697884</td>\n",
       "      <td>PLANT16</td>\n",
       "      <td>PORT09</td>\n",
       "    </tr>\n",
       "    <tr>\n",
       "      <th>31</th>\n",
       "      <td>PORT09</td>\n",
       "      <td>V44_3</td>\n",
       "      <td>1</td>\n",
       "      <td>CRF</td>\n",
       "      <td>3</td>\n",
       "      <td>0</td>\n",
       "      <td>V55555_53</td>\n",
       "      <td>1699336</td>\n",
       "      <td>PLANT16</td>\n",
       "      <td>PORT09</td>\n",
       "    </tr>\n",
       "  </tbody>\n",
       "</table>\n",
       "</div>"
      ],
      "text/plain": [
       "   Origin Port Carrier TPT Service Level Ship ahead day count  \\\n",
       "0       PORT09   V44_3   1           CRF                    3   \n",
       "7       PORT09   V44_3   1           CRF                    3   \n",
       "11      PORT09   V44_3   1           CRF                    3   \n",
       "13      PORT09   V44_3   1           CRF                    3   \n",
       "31      PORT09   V44_3   1           CRF                    3   \n",
       "\n",
       "   Ship Late Day count   Customer Product ID Plant Code Destination Port  \n",
       "0                    0  V55555_53    1700106    PLANT16           PORT09  \n",
       "7                    0  V55555_53    1700106    PLANT16           PORT09  \n",
       "11                   0  V55555_53    1700106    PLANT16           PORT09  \n",
       "13                   0  V55555_53    1697884    PLANT16           PORT09  \n",
       "31                   0  V55555_53    1699336    PLANT16           PORT09  "
      ]
     },
     "execution_count": 41,
     "metadata": {},
     "output_type": "execute_result"
    }
   ],
   "source": [
    "X_cat = X.select_dtypes('object')\n",
    "X_cat.head()"
   ]
  },
  {
   "cell_type": "code",
   "execution_count": 42,
   "id": "91e52e14",
   "metadata": {},
   "outputs": [],
   "source": [
    "scaler = MinMaxScaler()\n",
    "X_num_scaled = scaler.fit_transform(X_num)"
   ]
  },
  {
   "cell_type": "code",
   "execution_count": 43,
   "id": "58a603f1",
   "metadata": {},
   "outputs": [
    {
     "data": {
      "text/plain": [
       "numpy.ndarray"
      ]
     },
     "execution_count": 43,
     "metadata": {},
     "output_type": "execute_result"
    }
   ],
   "source": [
    "type(X_num_scaled)"
   ]
  },
  {
   "cell_type": "code",
   "execution_count": 44,
   "id": "6e9c8a77",
   "metadata": {},
   "outputs": [],
   "source": [
    "X_num_scaled = pd.DataFrame(X_num_scaled, columns=X_num.columns, index=X_num.index)"
   ]
  },
  {
   "cell_type": "code",
   "execution_count": 45,
   "id": "32f4f7c7",
   "metadata": {},
   "outputs": [
    {
     "data": {
      "text/html": [
       "<div>\n",
       "<style scoped>\n",
       "    .dataframe tbody tr th:only-of-type {\n",
       "        vertical-align: middle;\n",
       "    }\n",
       "\n",
       "    .dataframe tbody tr th {\n",
       "        vertical-align: top;\n",
       "    }\n",
       "\n",
       "    .dataframe thead th {\n",
       "        text-align: right;\n",
       "    }\n",
       "</style>\n",
       "<table border=\"1\" class=\"dataframe\">\n",
       "  <thead>\n",
       "    <tr style=\"text-align: right;\">\n",
       "      <th></th>\n",
       "      <th>Weight</th>\n",
       "    </tr>\n",
       "  </thead>\n",
       "  <tbody>\n",
       "    <tr>\n",
       "      <th>count</th>\n",
       "      <td>5798.000000</td>\n",
       "    </tr>\n",
       "    <tr>\n",
       "      <th>mean</th>\n",
       "      <td>0.218886</td>\n",
       "    </tr>\n",
       "    <tr>\n",
       "      <th>std</th>\n",
       "      <td>0.225486</td>\n",
       "    </tr>\n",
       "    <tr>\n",
       "      <th>min</th>\n",
       "      <td>0.000000</td>\n",
       "    </tr>\n",
       "    <tr>\n",
       "      <th>25%</th>\n",
       "      <td>0.049255</td>\n",
       "    </tr>\n",
       "    <tr>\n",
       "      <th>50%</th>\n",
       "      <td>0.138497</td>\n",
       "    </tr>\n",
       "    <tr>\n",
       "      <th>75%</th>\n",
       "      <td>0.299793</td>\n",
       "    </tr>\n",
       "    <tr>\n",
       "      <th>max</th>\n",
       "      <td>1.000000</td>\n",
       "    </tr>\n",
       "  </tbody>\n",
       "</table>\n",
       "</div>"
      ],
      "text/plain": [
       "            Weight\n",
       "count  5798.000000\n",
       "mean      0.218886\n",
       "std       0.225486\n",
       "min       0.000000\n",
       "25%       0.049255\n",
       "50%       0.138497\n",
       "75%       0.299793\n",
       "max       1.000000"
      ]
     },
     "execution_count": 45,
     "metadata": {},
     "output_type": "execute_result"
    }
   ],
   "source": [
    "X_num_scaled.describe()"
   ]
  },
  {
   "cell_type": "code",
   "execution_count": 46,
   "id": "47c38ccd",
   "metadata": {},
   "outputs": [],
   "source": [
    "X_cat_encoded = pd.get_dummies(X_cat, drop_first=False, dtype=int)"
   ]
  },
  {
   "cell_type": "code",
   "execution_count": 47,
   "id": "02351484",
   "metadata": {},
   "outputs": [],
   "source": [
    "X = pd.concat([X_num_scaled, X_cat_encoded], axis=1)"
   ]
  },
  {
   "cell_type": "code",
   "execution_count": 48,
   "id": "a539a384",
   "metadata": {},
   "outputs": [
    {
     "data": {
      "text/plain": [
       "((5798, 635), (5798, 1), (5798, 634))"
      ]
     },
     "execution_count": 48,
     "metadata": {},
     "output_type": "execute_result"
    }
   ],
   "source": [
    " X.shape, X_num_scaled.shape, X_cat_encoded.shape"
   ]
  },
  {
   "cell_type": "code",
   "execution_count": 49,
   "id": "fd13f995",
   "metadata": {},
   "outputs": [
    {
     "name": "stdout",
     "output_type": "stream",
     "text": [
      "\n",
      "Step 7: Checking for NAs and Shape Compatibility\n",
      "Weight                     0\n",
      "Origin Port_PORT04         0\n",
      "Origin Port_PORT05         0\n",
      "Origin Port_PORT09         0\n",
      "Carrier_V444_0             0\n",
      "                          ..\n",
      "Plant Code_PLANT08         0\n",
      "Plant Code_PLANT12         0\n",
      "Plant Code_PLANT13         0\n",
      "Plant Code_PLANT16         0\n",
      "Destination Port_PORT09    0\n",
      "Length: 635, dtype: int64\n",
      "0\n",
      "(5798, 635)\n",
      "(5798,)\n"
     ]
    }
   ],
   "source": [
    "print(\"\\nStep 7: Checking for NAs and Shape Compatibility\")\n",
    "print(X.isnull().sum())\n",
    "print(y.isnull().sum())\n",
    "print(X.shape)\n",
    "print(y.shape)"
   ]
  },
  {
   "cell_type": "code",
   "execution_count": 50,
   "id": "9e591707",
   "metadata": {},
   "outputs": [
    {
     "data": {
      "text/html": [
       "<div>\n",
       "<style scoped>\n",
       "    .dataframe tbody tr th:only-of-type {\n",
       "        vertical-align: middle;\n",
       "    }\n",
       "\n",
       "    .dataframe tbody tr th {\n",
       "        vertical-align: top;\n",
       "    }\n",
       "\n",
       "    .dataframe thead th {\n",
       "        text-align: right;\n",
       "    }\n",
       "</style>\n",
       "<table border=\"1\" class=\"dataframe\">\n",
       "  <thead>\n",
       "    <tr style=\"text-align: right;\">\n",
       "      <th></th>\n",
       "      <th>Weight</th>\n",
       "      <th>Origin Port_PORT04</th>\n",
       "      <th>Origin Port_PORT05</th>\n",
       "      <th>Origin Port_PORT09</th>\n",
       "      <th>Carrier_V444_0</th>\n",
       "      <th>Carrier_V444_1</th>\n",
       "      <th>Carrier_V44_3</th>\n",
       "      <th>TPT_0</th>\n",
       "      <th>TPT_1</th>\n",
       "      <th>TPT_2</th>\n",
       "      <th>...</th>\n",
       "      <th>Product ID_1701406</th>\n",
       "      <th>Product ID_1701972</th>\n",
       "      <th>Product ID_1702224</th>\n",
       "      <th>Plant Code_PLANT03</th>\n",
       "      <th>Plant Code_PLANT04</th>\n",
       "      <th>Plant Code_PLANT08</th>\n",
       "      <th>Plant Code_PLANT12</th>\n",
       "      <th>Plant Code_PLANT13</th>\n",
       "      <th>Plant Code_PLANT16</th>\n",
       "      <th>Destination Port_PORT09</th>\n",
       "    </tr>\n",
       "  </thead>\n",
       "  <tbody>\n",
       "    <tr>\n",
       "      <th>count</th>\n",
       "      <td>5798.000000</td>\n",
       "      <td>5798.000000</td>\n",
       "      <td>5798.000000</td>\n",
       "      <td>5798.000000</td>\n",
       "      <td>5798.000000</td>\n",
       "      <td>5798.000000</td>\n",
       "      <td>5798.000000</td>\n",
       "      <td>5798.000000</td>\n",
       "      <td>5798.000000</td>\n",
       "      <td>5798.000000</td>\n",
       "      <td>...</td>\n",
       "      <td>5798.000000</td>\n",
       "      <td>5798.000000</td>\n",
       "      <td>5798.000000</td>\n",
       "      <td>5798.000000</td>\n",
       "      <td>5798.000000</td>\n",
       "      <td>5798.000000</td>\n",
       "      <td>5798.000000</td>\n",
       "      <td>5798.000000</td>\n",
       "      <td>5798.000000</td>\n",
       "      <td>5798.0</td>\n",
       "    </tr>\n",
       "    <tr>\n",
       "      <th>mean</th>\n",
       "      <td>0.218886</td>\n",
       "      <td>0.994308</td>\n",
       "      <td>0.000172</td>\n",
       "      <td>0.005519</td>\n",
       "      <td>0.701104</td>\n",
       "      <td>0.251638</td>\n",
       "      <td>0.047258</td>\n",
       "      <td>0.012073</td>\n",
       "      <td>0.244567</td>\n",
       "      <td>0.739738</td>\n",
       "      <td>...</td>\n",
       "      <td>0.001035</td>\n",
       "      <td>0.000172</td>\n",
       "      <td>0.000172</td>\n",
       "      <td>0.947913</td>\n",
       "      <td>0.000172</td>\n",
       "      <td>0.004829</td>\n",
       "      <td>0.033632</td>\n",
       "      <td>0.007934</td>\n",
       "      <td>0.005519</td>\n",
       "      <td>1.0</td>\n",
       "    </tr>\n",
       "    <tr>\n",
       "      <th>std</th>\n",
       "      <td>0.225486</td>\n",
       "      <td>0.075234</td>\n",
       "      <td>0.013133</td>\n",
       "      <td>0.074092</td>\n",
       "      <td>0.457814</td>\n",
       "      <td>0.433992</td>\n",
       "      <td>0.212208</td>\n",
       "      <td>0.109222</td>\n",
       "      <td>0.429867</td>\n",
       "      <td>0.438815</td>\n",
       "      <td>...</td>\n",
       "      <td>0.032155</td>\n",
       "      <td>0.013133</td>\n",
       "      <td>0.013133</td>\n",
       "      <td>0.222222</td>\n",
       "      <td>0.013133</td>\n",
       "      <td>0.069331</td>\n",
       "      <td>0.180296</td>\n",
       "      <td>0.088725</td>\n",
       "      <td>0.074092</td>\n",
       "      <td>0.0</td>\n",
       "    </tr>\n",
       "    <tr>\n",
       "      <th>min</th>\n",
       "      <td>0.000000</td>\n",
       "      <td>0.000000</td>\n",
       "      <td>0.000000</td>\n",
       "      <td>0.000000</td>\n",
       "      <td>0.000000</td>\n",
       "      <td>0.000000</td>\n",
       "      <td>0.000000</td>\n",
       "      <td>0.000000</td>\n",
       "      <td>0.000000</td>\n",
       "      <td>0.000000</td>\n",
       "      <td>...</td>\n",
       "      <td>0.000000</td>\n",
       "      <td>0.000000</td>\n",
       "      <td>0.000000</td>\n",
       "      <td>0.000000</td>\n",
       "      <td>0.000000</td>\n",
       "      <td>0.000000</td>\n",
       "      <td>0.000000</td>\n",
       "      <td>0.000000</td>\n",
       "      <td>0.000000</td>\n",
       "      <td>1.0</td>\n",
       "    </tr>\n",
       "    <tr>\n",
       "      <th>25%</th>\n",
       "      <td>0.049255</td>\n",
       "      <td>1.000000</td>\n",
       "      <td>0.000000</td>\n",
       "      <td>0.000000</td>\n",
       "      <td>0.000000</td>\n",
       "      <td>0.000000</td>\n",
       "      <td>0.000000</td>\n",
       "      <td>0.000000</td>\n",
       "      <td>0.000000</td>\n",
       "      <td>0.000000</td>\n",
       "      <td>...</td>\n",
       "      <td>0.000000</td>\n",
       "      <td>0.000000</td>\n",
       "      <td>0.000000</td>\n",
       "      <td>1.000000</td>\n",
       "      <td>0.000000</td>\n",
       "      <td>0.000000</td>\n",
       "      <td>0.000000</td>\n",
       "      <td>0.000000</td>\n",
       "      <td>0.000000</td>\n",
       "      <td>1.0</td>\n",
       "    </tr>\n",
       "    <tr>\n",
       "      <th>50%</th>\n",
       "      <td>0.138497</td>\n",
       "      <td>1.000000</td>\n",
       "      <td>0.000000</td>\n",
       "      <td>0.000000</td>\n",
       "      <td>1.000000</td>\n",
       "      <td>0.000000</td>\n",
       "      <td>0.000000</td>\n",
       "      <td>0.000000</td>\n",
       "      <td>0.000000</td>\n",
       "      <td>1.000000</td>\n",
       "      <td>...</td>\n",
       "      <td>0.000000</td>\n",
       "      <td>0.000000</td>\n",
       "      <td>0.000000</td>\n",
       "      <td>1.000000</td>\n",
       "      <td>0.000000</td>\n",
       "      <td>0.000000</td>\n",
       "      <td>0.000000</td>\n",
       "      <td>0.000000</td>\n",
       "      <td>0.000000</td>\n",
       "      <td>1.0</td>\n",
       "    </tr>\n",
       "    <tr>\n",
       "      <th>75%</th>\n",
       "      <td>0.299793</td>\n",
       "      <td>1.000000</td>\n",
       "      <td>0.000000</td>\n",
       "      <td>0.000000</td>\n",
       "      <td>1.000000</td>\n",
       "      <td>1.000000</td>\n",
       "      <td>0.000000</td>\n",
       "      <td>0.000000</td>\n",
       "      <td>0.000000</td>\n",
       "      <td>1.000000</td>\n",
       "      <td>...</td>\n",
       "      <td>0.000000</td>\n",
       "      <td>0.000000</td>\n",
       "      <td>0.000000</td>\n",
       "      <td>1.000000</td>\n",
       "      <td>0.000000</td>\n",
       "      <td>0.000000</td>\n",
       "      <td>0.000000</td>\n",
       "      <td>0.000000</td>\n",
       "      <td>0.000000</td>\n",
       "      <td>1.0</td>\n",
       "    </tr>\n",
       "    <tr>\n",
       "      <th>max</th>\n",
       "      <td>1.000000</td>\n",
       "      <td>1.000000</td>\n",
       "      <td>1.000000</td>\n",
       "      <td>1.000000</td>\n",
       "      <td>1.000000</td>\n",
       "      <td>1.000000</td>\n",
       "      <td>1.000000</td>\n",
       "      <td>1.000000</td>\n",
       "      <td>1.000000</td>\n",
       "      <td>1.000000</td>\n",
       "      <td>...</td>\n",
       "      <td>1.000000</td>\n",
       "      <td>1.000000</td>\n",
       "      <td>1.000000</td>\n",
       "      <td>1.000000</td>\n",
       "      <td>1.000000</td>\n",
       "      <td>1.000000</td>\n",
       "      <td>1.000000</td>\n",
       "      <td>1.000000</td>\n",
       "      <td>1.000000</td>\n",
       "      <td>1.0</td>\n",
       "    </tr>\n",
       "  </tbody>\n",
       "</table>\n",
       "<p>8 rows × 635 columns</p>\n",
       "</div>"
      ],
      "text/plain": [
       "            Weight  Origin Port_PORT04  Origin Port_PORT05  \\\n",
       "count  5798.000000         5798.000000         5798.000000   \n",
       "mean      0.218886            0.994308            0.000172   \n",
       "std       0.225486            0.075234            0.013133   \n",
       "min       0.000000            0.000000            0.000000   \n",
       "25%       0.049255            1.000000            0.000000   \n",
       "50%       0.138497            1.000000            0.000000   \n",
       "75%       0.299793            1.000000            0.000000   \n",
       "max       1.000000            1.000000            1.000000   \n",
       "\n",
       "       Origin Port_PORT09  Carrier_V444_0  Carrier_V444_1  Carrier_V44_3  \\\n",
       "count         5798.000000     5798.000000     5798.000000    5798.000000   \n",
       "mean             0.005519        0.701104        0.251638       0.047258   \n",
       "std              0.074092        0.457814        0.433992       0.212208   \n",
       "min              0.000000        0.000000        0.000000       0.000000   \n",
       "25%              0.000000        0.000000        0.000000       0.000000   \n",
       "50%              0.000000        1.000000        0.000000       0.000000   \n",
       "75%              0.000000        1.000000        1.000000       0.000000   \n",
       "max              1.000000        1.000000        1.000000       1.000000   \n",
       "\n",
       "             TPT_0        TPT_1        TPT_2  ...  Product ID_1701406  \\\n",
       "count  5798.000000  5798.000000  5798.000000  ...         5798.000000   \n",
       "mean      0.012073     0.244567     0.739738  ...            0.001035   \n",
       "std       0.109222     0.429867     0.438815  ...            0.032155   \n",
       "min       0.000000     0.000000     0.000000  ...            0.000000   \n",
       "25%       0.000000     0.000000     0.000000  ...            0.000000   \n",
       "50%       0.000000     0.000000     1.000000  ...            0.000000   \n",
       "75%       0.000000     0.000000     1.000000  ...            0.000000   \n",
       "max       1.000000     1.000000     1.000000  ...            1.000000   \n",
       "\n",
       "       Product ID_1701972  Product ID_1702224  Plant Code_PLANT03  \\\n",
       "count         5798.000000         5798.000000         5798.000000   \n",
       "mean             0.000172            0.000172            0.947913   \n",
       "std              0.013133            0.013133            0.222222   \n",
       "min              0.000000            0.000000            0.000000   \n",
       "25%              0.000000            0.000000            1.000000   \n",
       "50%              0.000000            0.000000            1.000000   \n",
       "75%              0.000000            0.000000            1.000000   \n",
       "max              1.000000            1.000000            1.000000   \n",
       "\n",
       "       Plant Code_PLANT04  Plant Code_PLANT08  Plant Code_PLANT12  \\\n",
       "count         5798.000000         5798.000000         5798.000000   \n",
       "mean             0.000172            0.004829            0.033632   \n",
       "std              0.013133            0.069331            0.180296   \n",
       "min              0.000000            0.000000            0.000000   \n",
       "25%              0.000000            0.000000            0.000000   \n",
       "50%              0.000000            0.000000            0.000000   \n",
       "75%              0.000000            0.000000            0.000000   \n",
       "max              1.000000            1.000000            1.000000   \n",
       "\n",
       "       Plant Code_PLANT13  Plant Code_PLANT16  Destination Port_PORT09  \n",
       "count         5798.000000         5798.000000                   5798.0  \n",
       "mean             0.007934            0.005519                      1.0  \n",
       "std              0.088725            0.074092                      0.0  \n",
       "min              0.000000            0.000000                      1.0  \n",
       "25%              0.000000            0.000000                      1.0  \n",
       "50%              0.000000            0.000000                      1.0  \n",
       "75%              0.000000            0.000000                      1.0  \n",
       "max              1.000000            1.000000                      1.0  \n",
       "\n",
       "[8 rows x 635 columns]"
      ]
     },
     "execution_count": 50,
     "metadata": {},
     "output_type": "execute_result"
    }
   ],
   "source": [
    "X.describe()"
   ]
  },
  {
   "cell_type": "code",
   "execution_count": 51,
   "id": "06245cd5",
   "metadata": {},
   "outputs": [],
   "source": [
    "X_train, X_test, y_train, y_test = train_test_split(X, y, test_size=0.2, random_state=42)"
   ]
  },
  {
   "cell_type": "code",
   "execution_count": 52,
   "id": "65f5df50",
   "metadata": {},
   "outputs": [
    {
     "name": "stdout",
     "output_type": "stream",
     "text": [
      "(4638, 635)\n",
      "(1160, 635)\n",
      "(4638,)\n",
      "(1160,)\n"
     ]
    }
   ],
   "source": [
    "print(X_train.shape)\n",
    "print(X_test.shape)\n",
    "print(y_train.shape) \n",
    "print(y_test.shape)"
   ]
  },
  {
   "cell_type": "code",
   "execution_count": null,
   "id": "4e747a1f",
   "metadata": {},
   "outputs": [],
   "source": [
    "#The number of units shipped every time varies a lot.\n",
    "#A lot of variation in the number of units."
   ]
  },
  {
   "cell_type": "code",
   "execution_count": null,
   "id": "5a6a6136",
   "metadata": {},
   "outputs": [],
   "source": [
    "---------------------------------------------------------------------------------------------------------------------------------"
   ]
  },
  {
   "cell_type": "markdown",
   "id": "a48094e7",
   "metadata": {},
   "source": [
    "### DATASET 4"
   ]
  },
  {
   "cell_type": "code",
   "execution_count": 103,
   "id": "38acaf70",
   "metadata": {},
   "outputs": [],
   "source": [
    "df = pd.read_csv('University Ranking.csv')"
   ]
  },
  {
   "cell_type": "code",
   "execution_count": 104,
   "id": "728d6a77",
   "metadata": {},
   "outputs": [
    {
     "data": {
      "text/html": [
       "<div>\n",
       "<style scoped>\n",
       "    .dataframe tbody tr th:only-of-type {\n",
       "        vertical-align: middle;\n",
       "    }\n",
       "\n",
       "    .dataframe tbody tr th {\n",
       "        vertical-align: top;\n",
       "    }\n",
       "\n",
       "    .dataframe thead th {\n",
       "        text-align: right;\n",
       "    }\n",
       "</style>\n",
       "<table border=\"1\" class=\"dataframe\">\n",
       "  <thead>\n",
       "    <tr style=\"text-align: right;\">\n",
       "      <th></th>\n",
       "      <th>University Name</th>\n",
       "      <th>IPEDS ID</th>\n",
       "      <th>State</th>\n",
       "      <th>2023</th>\n",
       "      <th>2022</th>\n",
       "      <th>2021</th>\n",
       "      <th>2020</th>\n",
       "      <th>2019</th>\n",
       "      <th>2018</th>\n",
       "      <th>2017</th>\n",
       "      <th>...</th>\n",
       "      <th>1995</th>\n",
       "      <th>1994</th>\n",
       "      <th>1993</th>\n",
       "      <th>1992</th>\n",
       "      <th>1991</th>\n",
       "      <th>1990</th>\n",
       "      <th>1989</th>\n",
       "      <th>1988</th>\n",
       "      <th>1986</th>\n",
       "      <th>1984</th>\n",
       "    </tr>\n",
       "  </thead>\n",
       "  <tbody>\n",
       "    <tr>\n",
       "      <th>0</th>\n",
       "      <td>Princeton University</td>\n",
       "      <td>186131</td>\n",
       "      <td>NJ</td>\n",
       "      <td>1.0</td>\n",
       "      <td>1.0</td>\n",
       "      <td>1.0</td>\n",
       "      <td>1.0</td>\n",
       "      <td>1.0</td>\n",
       "      <td>1.0</td>\n",
       "      <td>1.0</td>\n",
       "      <td>...</td>\n",
       "      <td>2.0</td>\n",
       "      <td>2.0</td>\n",
       "      <td>2.0</td>\n",
       "      <td>4.0</td>\n",
       "      <td>4.0</td>\n",
       "      <td>2.0</td>\n",
       "      <td>2.0</td>\n",
       "      <td>4.0</td>\n",
       "      <td>4.0</td>\n",
       "      <td>4.0</td>\n",
       "    </tr>\n",
       "    <tr>\n",
       "      <th>1</th>\n",
       "      <td>Massachusetts Institute of Technology</td>\n",
       "      <td>166683</td>\n",
       "      <td>MA</td>\n",
       "      <td>2.0</td>\n",
       "      <td>2.0</td>\n",
       "      <td>4.0</td>\n",
       "      <td>3.0</td>\n",
       "      <td>3.0</td>\n",
       "      <td>5.0</td>\n",
       "      <td>7.0</td>\n",
       "      <td>...</td>\n",
       "      <td>4.0</td>\n",
       "      <td>4.0</td>\n",
       "      <td>5.0</td>\n",
       "      <td>6.0</td>\n",
       "      <td>6.0</td>\n",
       "      <td>7.0</td>\n",
       "      <td>5.0</td>\n",
       "      <td>11.0</td>\n",
       "      <td>NaN</td>\n",
       "      <td>10.0</td>\n",
       "    </tr>\n",
       "    <tr>\n",
       "      <th>2</th>\n",
       "      <td>Harvard University</td>\n",
       "      <td>166027</td>\n",
       "      <td>MA</td>\n",
       "      <td>3.0</td>\n",
       "      <td>2.0</td>\n",
       "      <td>2.0</td>\n",
       "      <td>2.0</td>\n",
       "      <td>2.0</td>\n",
       "      <td>2.0</td>\n",
       "      <td>2.0</td>\n",
       "      <td>...</td>\n",
       "      <td>1.0</td>\n",
       "      <td>1.0</td>\n",
       "      <td>1.0</td>\n",
       "      <td>1.0</td>\n",
       "      <td>1.0</td>\n",
       "      <td>3.0</td>\n",
       "      <td>4.0</td>\n",
       "      <td>2.0</td>\n",
       "      <td>2.0</td>\n",
       "      <td>2.0</td>\n",
       "    </tr>\n",
       "    <tr>\n",
       "      <th>3</th>\n",
       "      <td>Yale University</td>\n",
       "      <td>130794</td>\n",
       "      <td>CT</td>\n",
       "      <td>3.0</td>\n",
       "      <td>5.0</td>\n",
       "      <td>4.0</td>\n",
       "      <td>3.0</td>\n",
       "      <td>3.0</td>\n",
       "      <td>3.0</td>\n",
       "      <td>3.0</td>\n",
       "      <td>...</td>\n",
       "      <td>3.0</td>\n",
       "      <td>3.0</td>\n",
       "      <td>3.0</td>\n",
       "      <td>2.0</td>\n",
       "      <td>3.0</td>\n",
       "      <td>1.0</td>\n",
       "      <td>1.0</td>\n",
       "      <td>3.0</td>\n",
       "      <td>2.0</td>\n",
       "      <td>3.0</td>\n",
       "    </tr>\n",
       "    <tr>\n",
       "      <th>4</th>\n",
       "      <td>Stanford University</td>\n",
       "      <td>243744</td>\n",
       "      <td>CA</td>\n",
       "      <td>3.0</td>\n",
       "      <td>6.0</td>\n",
       "      <td>6.0</td>\n",
       "      <td>6.0</td>\n",
       "      <td>7.0</td>\n",
       "      <td>5.0</td>\n",
       "      <td>5.0</td>\n",
       "      <td>...</td>\n",
       "      <td>5.0</td>\n",
       "      <td>6.0</td>\n",
       "      <td>4.0</td>\n",
       "      <td>3.0</td>\n",
       "      <td>2.0</td>\n",
       "      <td>6.0</td>\n",
       "      <td>6.0</td>\n",
       "      <td>1.0</td>\n",
       "      <td>1.0</td>\n",
       "      <td>1.0</td>\n",
       "    </tr>\n",
       "  </tbody>\n",
       "</table>\n",
       "<p>5 rows × 41 columns</p>\n",
       "</div>"
      ],
      "text/plain": [
       "                         University Name  IPEDS ID State  2023  2022  2021  \\\n",
       "0                   Princeton University    186131    NJ   1.0   1.0   1.0   \n",
       "1  Massachusetts Institute of Technology    166683    MA   2.0   2.0   4.0   \n",
       "2                     Harvard University    166027    MA   3.0   2.0   2.0   \n",
       "3                        Yale University    130794    CT   3.0   5.0   4.0   \n",
       "4                    Stanford University    243744    CA   3.0   6.0   6.0   \n",
       "\n",
       "   2020  2019  2018  2017  ...  1995  1994  1993  1992  1991  1990  1989  \\\n",
       "0   1.0   1.0   1.0   1.0  ...   2.0   2.0   2.0   4.0   4.0   2.0   2.0   \n",
       "1   3.0   3.0   5.0   7.0  ...   4.0   4.0   5.0   6.0   6.0   7.0   5.0   \n",
       "2   2.0   2.0   2.0   2.0  ...   1.0   1.0   1.0   1.0   1.0   3.0   4.0   \n",
       "3   3.0   3.0   3.0   3.0  ...   3.0   3.0   3.0   2.0   3.0   1.0   1.0   \n",
       "4   6.0   7.0   5.0   5.0  ...   5.0   6.0   4.0   3.0   2.0   6.0   6.0   \n",
       "\n",
       "   1988  1986  1984  \n",
       "0   4.0   4.0   4.0  \n",
       "1  11.0   NaN  10.0  \n",
       "2   2.0   2.0   2.0  \n",
       "3   3.0   2.0   3.0  \n",
       "4   1.0   1.0   1.0  \n",
       "\n",
       "[5 rows x 41 columns]"
      ]
     },
     "execution_count": 104,
     "metadata": {},
     "output_type": "execute_result"
    }
   ],
   "source": [
    "df.head()"
   ]
  },
  {
   "cell_type": "code",
   "execution_count": 105,
   "id": "dccc5475",
   "metadata": {},
   "outputs": [
    {
     "data": {
      "text/html": [
       "<div>\n",
       "<style scoped>\n",
       "    .dataframe tbody tr th:only-of-type {\n",
       "        vertical-align: middle;\n",
       "    }\n",
       "\n",
       "    .dataframe tbody tr th {\n",
       "        vertical-align: top;\n",
       "    }\n",
       "\n",
       "    .dataframe thead th {\n",
       "        text-align: right;\n",
       "    }\n",
       "</style>\n",
       "<table border=\"1\" class=\"dataframe\">\n",
       "  <thead>\n",
       "    <tr style=\"text-align: right;\">\n",
       "      <th></th>\n",
       "      <th>University Name</th>\n",
       "      <th>IPEDS ID</th>\n",
       "      <th>State</th>\n",
       "      <th>2023</th>\n",
       "      <th>2022</th>\n",
       "      <th>2021</th>\n",
       "      <th>2020</th>\n",
       "      <th>2019</th>\n",
       "      <th>2018</th>\n",
       "      <th>2017</th>\n",
       "      <th>...</th>\n",
       "      <th>1995</th>\n",
       "      <th>1994</th>\n",
       "      <th>1993</th>\n",
       "      <th>1992</th>\n",
       "      <th>1991</th>\n",
       "      <th>1990</th>\n",
       "      <th>1989</th>\n",
       "      <th>1988</th>\n",
       "      <th>1986</th>\n",
       "      <th>1984</th>\n",
       "    </tr>\n",
       "  </thead>\n",
       "  <tbody>\n",
       "    <tr>\n",
       "      <th>162</th>\n",
       "      <td>University of Cincinnati</td>\n",
       "      <td>201885</td>\n",
       "      <td>OH</td>\n",
       "      <td>NaN</td>\n",
       "      <td>148.0</td>\n",
       "      <td>NaN</td>\n",
       "      <td>NaN</td>\n",
       "      <td>NaN</td>\n",
       "      <td>NaN</td>\n",
       "      <td>NaN</td>\n",
       "      <td>...</td>\n",
       "      <td>NaN</td>\n",
       "      <td>NaN</td>\n",
       "      <td>NaN</td>\n",
       "      <td>NaN</td>\n",
       "      <td>NaN</td>\n",
       "      <td>NaN</td>\n",
       "      <td>NaN</td>\n",
       "      <td>NaN</td>\n",
       "      <td>NaN</td>\n",
       "      <td>NaN</td>\n",
       "    </tr>\n",
       "    <tr>\n",
       "      <th>163</th>\n",
       "      <td>University of Mississippi</td>\n",
       "      <td>176017</td>\n",
       "      <td>MS</td>\n",
       "      <td>NaN</td>\n",
       "      <td>148.0</td>\n",
       "      <td>NaN</td>\n",
       "      <td>NaN</td>\n",
       "      <td>NaN</td>\n",
       "      <td>NaN</td>\n",
       "      <td>NaN</td>\n",
       "      <td>...</td>\n",
       "      <td>NaN</td>\n",
       "      <td>NaN</td>\n",
       "      <td>NaN</td>\n",
       "      <td>NaN</td>\n",
       "      <td>NaN</td>\n",
       "      <td>NaN</td>\n",
       "      <td>NaN</td>\n",
       "      <td>NaN</td>\n",
       "      <td>NaN</td>\n",
       "      <td>NaN</td>\n",
       "    </tr>\n",
       "    <tr>\n",
       "      <th>164</th>\n",
       "      <td>Ohio University</td>\n",
       "      <td>204857</td>\n",
       "      <td>OH</td>\n",
       "      <td>NaN</td>\n",
       "      <td>NaN</td>\n",
       "      <td>NaN</td>\n",
       "      <td>NaN</td>\n",
       "      <td>NaN</td>\n",
       "      <td>NaN</td>\n",
       "      <td>NaN</td>\n",
       "      <td>...</td>\n",
       "      <td>NaN</td>\n",
       "      <td>NaN</td>\n",
       "      <td>NaN</td>\n",
       "      <td>NaN</td>\n",
       "      <td>NaN</td>\n",
       "      <td>NaN</td>\n",
       "      <td>NaN</td>\n",
       "      <td>NaN</td>\n",
       "      <td>NaN</td>\n",
       "      <td>NaN</td>\n",
       "    </tr>\n",
       "    <tr>\n",
       "      <th>165</th>\n",
       "      <td>University of Arkansas</td>\n",
       "      <td>106397</td>\n",
       "      <td>AR</td>\n",
       "      <td>NaN</td>\n",
       "      <td>NaN</td>\n",
       "      <td>NaN</td>\n",
       "      <td>153.0</td>\n",
       "      <td>147.0</td>\n",
       "      <td>133.0</td>\n",
       "      <td>135.0</td>\n",
       "      <td>...</td>\n",
       "      <td>NaN</td>\n",
       "      <td>NaN</td>\n",
       "      <td>NaN</td>\n",
       "      <td>NaN</td>\n",
       "      <td>NaN</td>\n",
       "      <td>NaN</td>\n",
       "      <td>NaN</td>\n",
       "      <td>NaN</td>\n",
       "      <td>NaN</td>\n",
       "      <td>NaN</td>\n",
       "    </tr>\n",
       "    <tr>\n",
       "      <th>166</th>\n",
       "      <td>Washington State University</td>\n",
       "      <td>236939</td>\n",
       "      <td>WA</td>\n",
       "      <td>NaN</td>\n",
       "      <td>NaN</td>\n",
       "      <td>NaN</td>\n",
       "      <td>NaN</td>\n",
       "      <td>NaN</td>\n",
       "      <td>NaN</td>\n",
       "      <td>NaN</td>\n",
       "      <td>...</td>\n",
       "      <td>NaN</td>\n",
       "      <td>NaN</td>\n",
       "      <td>NaN</td>\n",
       "      <td>NaN</td>\n",
       "      <td>NaN</td>\n",
       "      <td>NaN</td>\n",
       "      <td>NaN</td>\n",
       "      <td>NaN</td>\n",
       "      <td>NaN</td>\n",
       "      <td>NaN</td>\n",
       "    </tr>\n",
       "  </tbody>\n",
       "</table>\n",
       "<p>5 rows × 41 columns</p>\n",
       "</div>"
      ],
      "text/plain": [
       "                 University Name  IPEDS ID State  2023   2022  2021   2020  \\\n",
       "162     University of Cincinnati    201885    OH   NaN  148.0   NaN    NaN   \n",
       "163    University of Mississippi    176017    MS   NaN  148.0   NaN    NaN   \n",
       "164              Ohio University    204857    OH   NaN    NaN   NaN    NaN   \n",
       "165       University of Arkansas    106397    AR   NaN    NaN   NaN  153.0   \n",
       "166  Washington State University    236939    WA   NaN    NaN   NaN    NaN   \n",
       "\n",
       "      2019   2018   2017  ...  1995  1994  1993  1992  1991  1990  1989  1988  \\\n",
       "162    NaN    NaN    NaN  ...   NaN   NaN   NaN   NaN   NaN   NaN   NaN   NaN   \n",
       "163    NaN    NaN    NaN  ...   NaN   NaN   NaN   NaN   NaN   NaN   NaN   NaN   \n",
       "164    NaN    NaN    NaN  ...   NaN   NaN   NaN   NaN   NaN   NaN   NaN   NaN   \n",
       "165  147.0  133.0  135.0  ...   NaN   NaN   NaN   NaN   NaN   NaN   NaN   NaN   \n",
       "166    NaN    NaN    NaN  ...   NaN   NaN   NaN   NaN   NaN   NaN   NaN   NaN   \n",
       "\n",
       "     1986  1984  \n",
       "162   NaN   NaN  \n",
       "163   NaN   NaN  \n",
       "164   NaN   NaN  \n",
       "165   NaN   NaN  \n",
       "166   NaN   NaN  \n",
       "\n",
       "[5 rows x 41 columns]"
      ]
     },
     "execution_count": 105,
     "metadata": {},
     "output_type": "execute_result"
    }
   ],
   "source": [
    "df.tail()"
   ]
  },
  {
   "cell_type": "code",
   "execution_count": 106,
   "id": "6d3f31b8",
   "metadata": {},
   "outputs": [
    {
     "data": {
      "text/plain": [
       "(167, 41)"
      ]
     },
     "execution_count": 106,
     "metadata": {},
     "output_type": "execute_result"
    }
   ],
   "source": [
    "df.shape"
   ]
  },
  {
   "cell_type": "code",
   "execution_count": 107,
   "id": "cc2e944a",
   "metadata": {},
   "outputs": [
    {
     "data": {
      "text/plain": [
       "University Name     object\n",
       "IPEDS ID             int64\n",
       "State               object\n",
       "2023               float64\n",
       "2022               float64\n",
       "2021               float64\n",
       "2020               float64\n",
       "2019               float64\n",
       "2018               float64\n",
       "2017               float64\n",
       "2016               float64\n",
       "2015               float64\n",
       "2014               float64\n",
       "2013               float64\n",
       "2012               float64\n",
       "2011               float64\n",
       "2010               float64\n",
       "2009               float64\n",
       "2008               float64\n",
       "2007               float64\n",
       "2006               float64\n",
       "2005               float64\n",
       "2004               float64\n",
       "2003               float64\n",
       "2002               float64\n",
       "2001               float64\n",
       "2000               float64\n",
       "1999               float64\n",
       "1998               float64\n",
       "1997               float64\n",
       "1996               float64\n",
       "1995               float64\n",
       "1994               float64\n",
       "1993               float64\n",
       "1992               float64\n",
       "1991               float64\n",
       "1990               float64\n",
       "1989               float64\n",
       "1988               float64\n",
       "1986               float64\n",
       "1984               float64\n",
       "dtype: object"
      ]
     },
     "execution_count": 107,
     "metadata": {},
     "output_type": "execute_result"
    }
   ],
   "source": [
    "df.dtypes"
   ]
  },
  {
   "cell_type": "code",
   "execution_count": 108,
   "id": "b7b8e8dc",
   "metadata": {},
   "outputs": [
    {
     "data": {
      "text/html": [
       "<div>\n",
       "<style scoped>\n",
       "    .dataframe tbody tr th:only-of-type {\n",
       "        vertical-align: middle;\n",
       "    }\n",
       "\n",
       "    .dataframe tbody tr th {\n",
       "        vertical-align: top;\n",
       "    }\n",
       "\n",
       "    .dataframe thead th {\n",
       "        text-align: right;\n",
       "    }\n",
       "</style>\n",
       "<table border=\"1\" class=\"dataframe\">\n",
       "  <thead>\n",
       "    <tr style=\"text-align: right;\">\n",
       "      <th></th>\n",
       "      <th>IPEDS ID</th>\n",
       "      <th>2023</th>\n",
       "      <th>2022</th>\n",
       "      <th>2021</th>\n",
       "      <th>2020</th>\n",
       "      <th>2019</th>\n",
       "      <th>2018</th>\n",
       "      <th>2017</th>\n",
       "      <th>2016</th>\n",
       "      <th>2015</th>\n",
       "      <th>...</th>\n",
       "      <th>1995</th>\n",
       "      <th>1994</th>\n",
       "      <th>1993</th>\n",
       "      <th>1992</th>\n",
       "      <th>1991</th>\n",
       "      <th>1990</th>\n",
       "      <th>1989</th>\n",
       "      <th>1988</th>\n",
       "      <th>1986</th>\n",
       "      <th>1984</th>\n",
       "    </tr>\n",
       "  </thead>\n",
       "  <tbody>\n",
       "    <tr>\n",
       "      <th>count</th>\n",
       "      <td>167.000000</td>\n",
       "      <td>150.000000</td>\n",
       "      <td>161.000000</td>\n",
       "      <td>52.000000</td>\n",
       "      <td>123.000000</td>\n",
       "      <td>123.000000</td>\n",
       "      <td>123.000000</td>\n",
       "      <td>123.000000</td>\n",
       "      <td>123.000000</td>\n",
       "      <td>125.000000</td>\n",
       "      <td>...</td>\n",
       "      <td>25.000000</td>\n",
       "      <td>26.000000</td>\n",
       "      <td>25.000000</td>\n",
       "      <td>25.000000</td>\n",
       "      <td>25.000000</td>\n",
       "      <td>25.000000</td>\n",
       "      <td>25.000000</td>\n",
       "      <td>26.000000</td>\n",
       "      <td>10.000000</td>\n",
       "      <td>14.000000</td>\n",
       "    </tr>\n",
       "    <tr>\n",
       "      <th>mean</th>\n",
       "      <td>173743.532934</td>\n",
       "      <td>72.866667</td>\n",
       "      <td>77.931677</td>\n",
       "      <td>25.730769</td>\n",
       "      <td>65.365854</td>\n",
       "      <td>62.796748</td>\n",
       "      <td>62.073171</td>\n",
       "      <td>62.040650</td>\n",
       "      <td>61.447154</td>\n",
       "      <td>62.688000</td>\n",
       "      <td>...</td>\n",
       "      <td>12.960000</td>\n",
       "      <td>13.461538</td>\n",
       "      <td>12.920000</td>\n",
       "      <td>12.920000</td>\n",
       "      <td>12.960000</td>\n",
       "      <td>12.960000</td>\n",
       "      <td>13.000000</td>\n",
       "      <td>13.269231</td>\n",
       "      <td>5.300000</td>\n",
       "      <td>7.285714</td>\n",
       "    </tr>\n",
       "    <tr>\n",
       "      <th>std</th>\n",
       "      <td>46095.455853</td>\n",
       "      <td>41.787360</td>\n",
       "      <td>44.827743</td>\n",
       "      <td>14.717091</td>\n",
       "      <td>41.482224</td>\n",
       "      <td>38.415536</td>\n",
       "      <td>37.132720</td>\n",
       "      <td>37.188355</td>\n",
       "      <td>36.530069</td>\n",
       "      <td>37.358856</td>\n",
       "      <td>...</td>\n",
       "      <td>7.362518</td>\n",
       "      <td>7.585411</td>\n",
       "      <td>7.432586</td>\n",
       "      <td>7.370663</td>\n",
       "      <td>7.356856</td>\n",
       "      <td>7.368175</td>\n",
       "      <td>7.359801</td>\n",
       "      <td>7.581861</td>\n",
       "      <td>3.056868</td>\n",
       "      <td>3.988996</td>\n",
       "    </tr>\n",
       "    <tr>\n",
       "      <th>min</th>\n",
       "      <td>100663.000000</td>\n",
       "      <td>1.000000</td>\n",
       "      <td>1.000000</td>\n",
       "      <td>1.000000</td>\n",
       "      <td>1.000000</td>\n",
       "      <td>1.000000</td>\n",
       "      <td>1.000000</td>\n",
       "      <td>1.000000</td>\n",
       "      <td>1.000000</td>\n",
       "      <td>1.000000</td>\n",
       "      <td>...</td>\n",
       "      <td>1.000000</td>\n",
       "      <td>1.000000</td>\n",
       "      <td>1.000000</td>\n",
       "      <td>1.000000</td>\n",
       "      <td>1.000000</td>\n",
       "      <td>1.000000</td>\n",
       "      <td>1.000000</td>\n",
       "      <td>1.000000</td>\n",
       "      <td>1.000000</td>\n",
       "      <td>1.000000</td>\n",
       "    </tr>\n",
       "    <tr>\n",
       "      <th>25%</th>\n",
       "      <td>132211.500000</td>\n",
       "      <td>38.000000</td>\n",
       "      <td>38.000000</td>\n",
       "      <td>13.750000</td>\n",
       "      <td>29.000000</td>\n",
       "      <td>30.000000</td>\n",
       "      <td>31.000000</td>\n",
       "      <td>31.500000</td>\n",
       "      <td>31.000000</td>\n",
       "      <td>32.000000</td>\n",
       "      <td>...</td>\n",
       "      <td>7.000000</td>\n",
       "      <td>7.250000</td>\n",
       "      <td>7.000000</td>\n",
       "      <td>7.000000</td>\n",
       "      <td>7.000000</td>\n",
       "      <td>7.000000</td>\n",
       "      <td>7.000000</td>\n",
       "      <td>7.250000</td>\n",
       "      <td>2.500000</td>\n",
       "      <td>4.250000</td>\n",
       "    </tr>\n",
       "    <tr>\n",
       "      <th>50%</th>\n",
       "      <td>174914.000000</td>\n",
       "      <td>72.000000</td>\n",
       "      <td>79.000000</td>\n",
       "      <td>26.000000</td>\n",
       "      <td>62.000000</td>\n",
       "      <td>63.000000</td>\n",
       "      <td>61.000000</td>\n",
       "      <td>60.000000</td>\n",
       "      <td>61.000000</td>\n",
       "      <td>62.000000</td>\n",
       "      <td>...</td>\n",
       "      <td>12.000000</td>\n",
       "      <td>13.500000</td>\n",
       "      <td>13.000000</td>\n",
       "      <td>13.000000</td>\n",
       "      <td>13.000000</td>\n",
       "      <td>13.000000</td>\n",
       "      <td>13.000000</td>\n",
       "      <td>12.500000</td>\n",
       "      <td>5.500000</td>\n",
       "      <td>7.500000</td>\n",
       "    </tr>\n",
       "    <tr>\n",
       "      <th>75%</th>\n",
       "      <td>204826.500000</td>\n",
       "      <td>105.000000</td>\n",
       "      <td>117.000000</td>\n",
       "      <td>39.000000</td>\n",
       "      <td>97.000000</td>\n",
       "      <td>89.000000</td>\n",
       "      <td>92.000000</td>\n",
       "      <td>92.000000</td>\n",
       "      <td>89.000000</td>\n",
       "      <td>95.000000</td>\n",
       "      <td>...</td>\n",
       "      <td>19.000000</td>\n",
       "      <td>19.750000</td>\n",
       "      <td>19.000000</td>\n",
       "      <td>19.000000</td>\n",
       "      <td>19.000000</td>\n",
       "      <td>19.000000</td>\n",
       "      <td>19.000000</td>\n",
       "      <td>19.750000</td>\n",
       "      <td>7.000000</td>\n",
       "      <td>10.000000</td>\n",
       "    </tr>\n",
       "    <tr>\n",
       "      <th>max</th>\n",
       "      <td>445188.000000</td>\n",
       "      <td>137.000000</td>\n",
       "      <td>148.000000</td>\n",
       "      <td>49.000000</td>\n",
       "      <td>166.000000</td>\n",
       "      <td>147.000000</td>\n",
       "      <td>133.000000</td>\n",
       "      <td>135.000000</td>\n",
       "      <td>135.000000</td>\n",
       "      <td>145.000000</td>\n",
       "      <td>...</td>\n",
       "      <td>25.000000</td>\n",
       "      <td>25.000000</td>\n",
       "      <td>25.000000</td>\n",
       "      <td>25.000000</td>\n",
       "      <td>25.000000</td>\n",
       "      <td>25.000000</td>\n",
       "      <td>25.000000</td>\n",
       "      <td>25.000000</td>\n",
       "      <td>10.000000</td>\n",
       "      <td>13.000000</td>\n",
       "    </tr>\n",
       "  </tbody>\n",
       "</table>\n",
       "<p>8 rows × 39 columns</p>\n",
       "</div>"
      ],
      "text/plain": [
       "            IPEDS ID        2023        2022       2021        2020  \\\n",
       "count     167.000000  150.000000  161.000000  52.000000  123.000000   \n",
       "mean   173743.532934   72.866667   77.931677  25.730769   65.365854   \n",
       "std     46095.455853   41.787360   44.827743  14.717091   41.482224   \n",
       "min    100663.000000    1.000000    1.000000   1.000000    1.000000   \n",
       "25%    132211.500000   38.000000   38.000000  13.750000   29.000000   \n",
       "50%    174914.000000   72.000000   79.000000  26.000000   62.000000   \n",
       "75%    204826.500000  105.000000  117.000000  39.000000   97.000000   \n",
       "max    445188.000000  137.000000  148.000000  49.000000  166.000000   \n",
       "\n",
       "             2019        2018        2017        2016        2015  ...  \\\n",
       "count  123.000000  123.000000  123.000000  123.000000  125.000000  ...   \n",
       "mean    62.796748   62.073171   62.040650   61.447154   62.688000  ...   \n",
       "std     38.415536   37.132720   37.188355   36.530069   37.358856  ...   \n",
       "min      1.000000    1.000000    1.000000    1.000000    1.000000  ...   \n",
       "25%     30.000000   31.000000   31.500000   31.000000   32.000000  ...   \n",
       "50%     63.000000   61.000000   60.000000   61.000000   62.000000  ...   \n",
       "75%     89.000000   92.000000   92.000000   89.000000   95.000000  ...   \n",
       "max    147.000000  133.000000  135.000000  135.000000  145.000000  ...   \n",
       "\n",
       "            1995       1994       1993       1992       1991       1990  \\\n",
       "count  25.000000  26.000000  25.000000  25.000000  25.000000  25.000000   \n",
       "mean   12.960000  13.461538  12.920000  12.920000  12.960000  12.960000   \n",
       "std     7.362518   7.585411   7.432586   7.370663   7.356856   7.368175   \n",
       "min     1.000000   1.000000   1.000000   1.000000   1.000000   1.000000   \n",
       "25%     7.000000   7.250000   7.000000   7.000000   7.000000   7.000000   \n",
       "50%    12.000000  13.500000  13.000000  13.000000  13.000000  13.000000   \n",
       "75%    19.000000  19.750000  19.000000  19.000000  19.000000  19.000000   \n",
       "max    25.000000  25.000000  25.000000  25.000000  25.000000  25.000000   \n",
       "\n",
       "            1989       1988       1986       1984  \n",
       "count  25.000000  26.000000  10.000000  14.000000  \n",
       "mean   13.000000  13.269231   5.300000   7.285714  \n",
       "std     7.359801   7.581861   3.056868   3.988996  \n",
       "min     1.000000   1.000000   1.000000   1.000000  \n",
       "25%     7.000000   7.250000   2.500000   4.250000  \n",
       "50%    13.000000  12.500000   5.500000   7.500000  \n",
       "75%    19.000000  19.750000   7.000000  10.000000  \n",
       "max    25.000000  25.000000  10.000000  13.000000  \n",
       "\n",
       "[8 rows x 39 columns]"
      ]
     },
     "execution_count": 108,
     "metadata": {},
     "output_type": "execute_result"
    }
   ],
   "source": [
    "df.describe()"
   ]
  },
  {
   "cell_type": "code",
   "execution_count": 109,
   "id": "0c9699a4",
   "metadata": {},
   "outputs": [
    {
     "data": {
      "text/plain": [
       "Index(['University Name', 'IPEDS ID', 'State', '2023', '2022', '2021', '2020',\n",
       "       '2019', '2018', '2017', '2016', '2015', '2014', '2013', '2012', '2011',\n",
       "       '2010', '2009', '2008', '2007', '2006', '2005', '2004', '2003', '2002',\n",
       "       '2001', '2000', '1999', '1998', '1997', '1996', '1995', '1994', '1993',\n",
       "       '1992', '1991', '1990', '1989', '1988', '1986', '1984'],\n",
       "      dtype='object')"
      ]
     },
     "execution_count": 109,
     "metadata": {},
     "output_type": "execute_result"
    }
   ],
   "source": [
    "df.columns"
   ]
  },
  {
   "cell_type": "code",
   "execution_count": 110,
   "id": "5a22f1de",
   "metadata": {},
   "outputs": [
    {
     "data": {
      "text/plain": [
       "CA    22\n",
       "NY    16\n",
       "MA    11\n",
       "PA    10\n",
       "TX     7\n",
       "NJ     7\n",
       "IL     7\n",
       "DC     6\n",
       "OH     6\n",
       "FL     5\n",
       "NC     5\n",
       "CO     4\n",
       "WA     4\n",
       "AL     4\n",
       "CT     4\n",
       "VA     4\n",
       "MI     3\n",
       "MD     3\n",
       "GA     3\n",
       "IN     3\n",
       "IA     3\n",
       "MZ     2\n",
       "AZ     2\n",
       "NE     2\n",
       "OK     2\n",
       "UT     2\n",
       "WI     2\n",
       "SC     2\n",
       "MN     2\n",
       "TN     2\n",
       "NH     2\n",
       "DE     1\n",
       "LA     1\n",
       "OR     1\n",
       "MO     1\n",
       "RI     1\n",
       "VT     1\n",
       "KS     1\n",
       "KY     1\n",
       "MS     1\n",
       "AR     1\n",
       "Name: State, dtype: int64"
      ]
     },
     "execution_count": 110,
     "metadata": {},
     "output_type": "execute_result"
    }
   ],
   "source": [
    "df.State.value_counts()"
   ]
  },
  {
   "cell_type": "code",
   "execution_count": 111,
   "id": "1b1529df",
   "metadata": {},
   "outputs": [
    {
     "data": {
      "text/plain": [
       "Princeton University                1\n",
       "University of Oregon                1\n",
       "Drexel University                   1\n",
       "Miami University                    1\n",
       "Saint Louis University              1\n",
       "                                   ..\n",
       "University of Miami                 1\n",
       "University of Maryland              1\n",
       "University of Washington            1\n",
       "Rutgers University-New Brunswick    1\n",
       "Washington State University         1\n",
       "Name: University Name, Length: 167, dtype: int64"
      ]
     },
     "execution_count": 111,
     "metadata": {},
     "output_type": "execute_result"
    }
   ],
   "source": [
    "df['University Name'].value_counts()"
   ]
  },
  {
   "cell_type": "code",
   "execution_count": 112,
   "id": "40a2dad4",
   "metadata": {},
   "outputs": [
    {
     "data": {
      "image/png": "[encoded data removed]",
      "text/plain": [
       "<Figure size 2000x500 with 1 Axes>"
      ]
     },
     "metadata": {},
     "output_type": "display_data"
    }
   ],
   "source": [
    "plt.figure(figsize=(20, 5))\n",
    "sns.histplot(df['State'], bins=20)\n",
    "plt.title('Histogram of State')\n",
    "plt.xlabel('State')\n",
    "plt.ylabel('Frequency')\n",
    "plt.show()"
   ]
  },
  {
   "cell_type": "code",
   "execution_count": 113,
   "id": "caeeed91",
   "metadata": {},
   "outputs": [
    {
     "data": {
      "text/plain": [
       "<Axes: xlabel='2023', ylabel='State'>"
      ]
     },
     "execution_count": 113,
     "metadata": {},
     "output_type": "execute_result"
    },
    {
     "data": {
      "image/png": "[encoded data removed]",
      "text/plain": [
       "<Figure size 640x480 with 1 Axes>"
      ]
     },
     "metadata": {},
     "output_type": "display_data"
    }
   ],
   "source": [
    "sns.lineplot(x='2023', y='State', data=df, errorbar=None)"
   ]
  },
  {
   "cell_type": "code",
   "execution_count": null,
   "id": "ea2e8549",
   "metadata": {},
   "outputs": [],
   "source": [
    "#From the histogram we can infer that most of the universities that are ranked higher are from California.\n",
    "#After California, New York is the next State with high ranking universities according to the histogram.\n",
    "#According to the line plot in 2023 florida has the lowest ranking university.\n"
   ]
  },
  {
   "cell_type": "code",
   "execution_count": 114,
   "id": "28f44df9",
   "metadata": {},
   "outputs": [],
   "source": [
    "df = df.drop(columns=['IPEDS ID', '1984', '1986', '1988', '1989', '1990', '1991', '1992', '1993','1994','1995', '1996', '1997','1998', '1999', '2000', '2001','2002','2003'])"
   ]
  },
  {
   "cell_type": "code",
   "execution_count": 115,
   "id": "58a3246b",
   "metadata": {},
   "outputs": [
    {
     "data": {
      "text/plain": [
       "(167, 22)"
      ]
     },
     "execution_count": 115,
     "metadata": {},
     "output_type": "execute_result"
    }
   ],
   "source": [
    "df.shape"
   ]
  },
  {
   "cell_type": "code",
   "execution_count": 116,
   "id": "712cedc9",
   "metadata": {},
   "outputs": [],
   "source": [
    "df = df.dropna()"
   ]
  },
  {
   "cell_type": "code",
   "execution_count": 117,
   "id": "4660027c",
   "metadata": {},
   "outputs": [
    {
     "data": {
      "text/plain": [
       "(48, 22)"
      ]
     },
     "execution_count": 117,
     "metadata": {},
     "output_type": "execute_result"
    }
   ],
   "source": [
    "df.shape"
   ]
  },
  {
   "cell_type": "code",
   "execution_count": 118,
   "id": "14340fa7",
   "metadata": {},
   "outputs": [
    {
     "data": {
      "text/html": [
       "<div>\n",
       "<style scoped>\n",
       "    .dataframe tbody tr th:only-of-type {\n",
       "        vertical-align: middle;\n",
       "    }\n",
       "\n",
       "    .dataframe tbody tr th {\n",
       "        vertical-align: top;\n",
       "    }\n",
       "\n",
       "    .dataframe thead th {\n",
       "        text-align: right;\n",
       "    }\n",
       "</style>\n",
       "<table border=\"1\" class=\"dataframe\">\n",
       "  <thead>\n",
       "    <tr style=\"text-align: right;\">\n",
       "      <th></th>\n",
       "      <th>2023</th>\n",
       "      <th>2022</th>\n",
       "      <th>2021</th>\n",
       "      <th>2020</th>\n",
       "      <th>2019</th>\n",
       "      <th>2018</th>\n",
       "      <th>2017</th>\n",
       "      <th>2016</th>\n",
       "      <th>2015</th>\n",
       "      <th>2014</th>\n",
       "      <th>2013</th>\n",
       "      <th>2012</th>\n",
       "      <th>2011</th>\n",
       "      <th>2010</th>\n",
       "      <th>2009</th>\n",
       "      <th>2008</th>\n",
       "      <th>2007</th>\n",
       "      <th>2006</th>\n",
       "      <th>2005</th>\n",
       "      <th>2004</th>\n",
       "    </tr>\n",
       "  </thead>\n",
       "  <tbody>\n",
       "    <tr>\n",
       "      <th>0</th>\n",
       "      <td>1.0</td>\n",
       "      <td>1.0</td>\n",
       "      <td>1.0</td>\n",
       "      <td>1.0</td>\n",
       "      <td>1.0</td>\n",
       "      <td>1.0</td>\n",
       "      <td>1.0</td>\n",
       "      <td>1.0</td>\n",
       "      <td>1.0</td>\n",
       "      <td>1.0</td>\n",
       "      <td>1.0</td>\n",
       "      <td>1.0</td>\n",
       "      <td>2.0</td>\n",
       "      <td>1.0</td>\n",
       "      <td>2.0</td>\n",
       "      <td>1.0</td>\n",
       "      <td>1.0</td>\n",
       "      <td>1.0</td>\n",
       "      <td>1.0</td>\n",
       "      <td>1.0</td>\n",
       "    </tr>\n",
       "    <tr>\n",
       "      <th>1</th>\n",
       "      <td>2.0</td>\n",
       "      <td>2.0</td>\n",
       "      <td>4.0</td>\n",
       "      <td>3.0</td>\n",
       "      <td>3.0</td>\n",
       "      <td>5.0</td>\n",
       "      <td>7.0</td>\n",
       "      <td>7.0</td>\n",
       "      <td>7.0</td>\n",
       "      <td>7.0</td>\n",
       "      <td>6.0</td>\n",
       "      <td>5.0</td>\n",
       "      <td>7.0</td>\n",
       "      <td>4.0</td>\n",
       "      <td>4.0</td>\n",
       "      <td>7.0</td>\n",
       "      <td>4.0</td>\n",
       "      <td>7.0</td>\n",
       "      <td>5.0</td>\n",
       "      <td>4.0</td>\n",
       "    </tr>\n",
       "    <tr>\n",
       "      <th>2</th>\n",
       "      <td>3.0</td>\n",
       "      <td>2.0</td>\n",
       "      <td>2.0</td>\n",
       "      <td>2.0</td>\n",
       "      <td>2.0</td>\n",
       "      <td>2.0</td>\n",
       "      <td>2.0</td>\n",
       "      <td>2.0</td>\n",
       "      <td>2.0</td>\n",
       "      <td>2.0</td>\n",
       "      <td>1.0</td>\n",
       "      <td>1.0</td>\n",
       "      <td>1.0</td>\n",
       "      <td>1.0</td>\n",
       "      <td>1.0</td>\n",
       "      <td>2.0</td>\n",
       "      <td>2.0</td>\n",
       "      <td>1.0</td>\n",
       "      <td>1.0</td>\n",
       "      <td>1.0</td>\n",
       "    </tr>\n",
       "    <tr>\n",
       "      <th>3</th>\n",
       "      <td>3.0</td>\n",
       "      <td>5.0</td>\n",
       "      <td>4.0</td>\n",
       "      <td>3.0</td>\n",
       "      <td>3.0</td>\n",
       "      <td>3.0</td>\n",
       "      <td>3.0</td>\n",
       "      <td>3.0</td>\n",
       "      <td>3.0</td>\n",
       "      <td>3.0</td>\n",
       "      <td>3.0</td>\n",
       "      <td>3.0</td>\n",
       "      <td>3.0</td>\n",
       "      <td>3.0</td>\n",
       "      <td>3.0</td>\n",
       "      <td>3.0</td>\n",
       "      <td>3.0</td>\n",
       "      <td>3.0</td>\n",
       "      <td>3.0</td>\n",
       "      <td>3.0</td>\n",
       "    </tr>\n",
       "    <tr>\n",
       "      <th>4</th>\n",
       "      <td>3.0</td>\n",
       "      <td>6.0</td>\n",
       "      <td>6.0</td>\n",
       "      <td>6.0</td>\n",
       "      <td>7.0</td>\n",
       "      <td>5.0</td>\n",
       "      <td>5.0</td>\n",
       "      <td>4.0</td>\n",
       "      <td>4.0</td>\n",
       "      <td>5.0</td>\n",
       "      <td>6.0</td>\n",
       "      <td>5.0</td>\n",
       "      <td>5.0</td>\n",
       "      <td>4.0</td>\n",
       "      <td>4.0</td>\n",
       "      <td>4.0</td>\n",
       "      <td>4.0</td>\n",
       "      <td>5.0</td>\n",
       "      <td>5.0</td>\n",
       "      <td>5.0</td>\n",
       "    </tr>\n",
       "  </tbody>\n",
       "</table>\n",
       "</div>"
      ],
      "text/plain": [
       "   2023  2022  2021  2020  2019  2018  2017  2016  2015  2014  2013  2012  \\\n",
       "0   1.0   1.0   1.0   1.0   1.0   1.0   1.0   1.0   1.0   1.0   1.0   1.0   \n",
       "1   2.0   2.0   4.0   3.0   3.0   5.0   7.0   7.0   7.0   7.0   6.0   5.0   \n",
       "2   3.0   2.0   2.0   2.0   2.0   2.0   2.0   2.0   2.0   2.0   1.0   1.0   \n",
       "3   3.0   5.0   4.0   3.0   3.0   3.0   3.0   3.0   3.0   3.0   3.0   3.0   \n",
       "4   3.0   6.0   6.0   6.0   7.0   5.0   5.0   4.0   4.0   5.0   6.0   5.0   \n",
       "\n",
       "   2011  2010  2009  2008  2007  2006  2005  2004  \n",
       "0   2.0   1.0   2.0   1.0   1.0   1.0   1.0   1.0  \n",
       "1   7.0   4.0   4.0   7.0   4.0   7.0   5.0   4.0  \n",
       "2   1.0   1.0   1.0   2.0   2.0   1.0   1.0   1.0  \n",
       "3   3.0   3.0   3.0   3.0   3.0   3.0   3.0   3.0  \n",
       "4   5.0   4.0   4.0   4.0   4.0   5.0   5.0   5.0  "
      ]
     },
     "execution_count": 118,
     "metadata": {},
     "output_type": "execute_result"
    }
   ],
   "source": [
    "df_num = df.select_dtypes(include='number')\n",
    "df_num.head()"
   ]
  },
  {
   "cell_type": "code",
   "execution_count": 119,
   "id": "5a02371a",
   "metadata": {},
   "outputs": [],
   "source": [
    "Q1 = df_num.quantile(0.25)\n",
    "Q3 = df_num.quantile(0.75)\n",
    "IQR = Q3 - Q1\n",
    "lower_bound = Q1 - 1.5 * IQR\n",
    "upper_bound = Q3 + 1.5 * IQR"
   ]
  },
  {
   "cell_type": "code",
   "execution_count": 120,
   "id": "e8db78f6",
   "metadata": {},
   "outputs": [
    {
     "data": {
      "text/plain": [
       "2023   -22.125\n",
       "2022   -24.000\n",
       "2021   -20.625\n",
       "2020   -24.375\n",
       "2019   -22.500\n",
       "2018   -24.625\n",
       "2017   -24.375\n",
       "2016   -24.375\n",
       "2015   -22.500\n",
       "2014   -24.375\n",
       "2013   -22.500\n",
       "2012   -22.500\n",
       "2011   -21.375\n",
       "2010   -22.500\n",
       "2009   -22.500\n",
       "2008   -22.500\n",
       "2007   -21.000\n",
       "2006   -20.250\n",
       "2005   -22.000\n",
       "2004   -22.000\n",
       "dtype: float64"
      ]
     },
     "execution_count": 120,
     "metadata": {},
     "output_type": "execute_result"
    }
   ],
   "source": [
    "lower_bound"
   ]
  },
  {
   "cell_type": "code",
   "execution_count": 121,
   "id": "8c35b865",
   "metadata": {},
   "outputs": [],
   "source": [
    "df = df[~((df_num < lower_bound) | (df_num > upper_bound)).any(axis=1)]"
   ]
  },
  {
   "cell_type": "code",
   "execution_count": 122,
   "id": "c0493dd0",
   "metadata": {},
   "outputs": [
    {
     "data": {
      "text/plain": [
       "(48, 22)"
      ]
     },
     "execution_count": 122,
     "metadata": {},
     "output_type": "execute_result"
    }
   ],
   "source": [
    "df.shape"
   ]
  },
  {
   "cell_type": "code",
   "execution_count": 123,
   "id": "c95499ad",
   "metadata": {},
   "outputs": [
    {
     "data": {
      "text/plain": [
       "<Axes: xlabel='2022'>"
      ]
     },
     "execution_count": 123,
     "metadata": {},
     "output_type": "execute_result"
    },
    {
     "data": {
      "image/png": "[encoded data removed]",
      "text/plain": [
       "<Figure size 640x480 with 1 Axes>"
      ]
     },
     "metadata": {},
     "output_type": "display_data"
    }
   ],
   "source": [
    "sns.boxplot(x=df['2022'])"
   ]
  },
  {
   "cell_type": "code",
   "execution_count": 124,
   "id": "bb42dcfa",
   "metadata": {},
   "outputs": [
    {
     "data": {
      "text/plain": [
       "(48, 20)"
      ]
     },
     "execution_count": 124,
     "metadata": {},
     "output_type": "execute_result"
    }
   ],
   "source": [
    "df_num = df.select_dtypes('number')\n",
    "df_num.shape"
   ]
  },
  {
   "cell_type": "code",
   "execution_count": 139,
   "id": "711152db",
   "metadata": {},
   "outputs": [
    {
     "data": {
      "text/html": [
       "<div>\n",
       "<style scoped>\n",
       "    .dataframe tbody tr th:only-of-type {\n",
       "        vertical-align: middle;\n",
       "    }\n",
       "\n",
       "    .dataframe tbody tr th {\n",
       "        vertical-align: top;\n",
       "    }\n",
       "\n",
       "    .dataframe thead th {\n",
       "        text-align: right;\n",
       "    }\n",
       "</style>\n",
       "<table border=\"1\" class=\"dataframe\">\n",
       "  <thead>\n",
       "    <tr style=\"text-align: right;\">\n",
       "      <th></th>\n",
       "      <th>State</th>\n",
       "      <th>2023</th>\n",
       "      <th>2022</th>\n",
       "      <th>2021</th>\n",
       "      <th>2020</th>\n",
       "      <th>2019</th>\n",
       "      <th>2018</th>\n",
       "      <th>2017</th>\n",
       "      <th>2016</th>\n",
       "      <th>2015</th>\n",
       "      <th>...</th>\n",
       "      <th>2013</th>\n",
       "      <th>2012</th>\n",
       "      <th>2011</th>\n",
       "      <th>2010</th>\n",
       "      <th>2009</th>\n",
       "      <th>2008</th>\n",
       "      <th>2007</th>\n",
       "      <th>2006</th>\n",
       "      <th>2005</th>\n",
       "      <th>2004</th>\n",
       "    </tr>\n",
       "  </thead>\n",
       "  <tbody>\n",
       "    <tr>\n",
       "      <th>0</th>\n",
       "      <td>NJ</td>\n",
       "      <td>1.0</td>\n",
       "      <td>1.0</td>\n",
       "      <td>1.0</td>\n",
       "      <td>1.0</td>\n",
       "      <td>1.0</td>\n",
       "      <td>1.0</td>\n",
       "      <td>1.0</td>\n",
       "      <td>1.0</td>\n",
       "      <td>1.0</td>\n",
       "      <td>...</td>\n",
       "      <td>1.0</td>\n",
       "      <td>1.0</td>\n",
       "      <td>2.0</td>\n",
       "      <td>1.0</td>\n",
       "      <td>2.0</td>\n",
       "      <td>1.0</td>\n",
       "      <td>1.0</td>\n",
       "      <td>1.0</td>\n",
       "      <td>1.0</td>\n",
       "      <td>1.0</td>\n",
       "    </tr>\n",
       "    <tr>\n",
       "      <th>1</th>\n",
       "      <td>MA</td>\n",
       "      <td>2.0</td>\n",
       "      <td>2.0</td>\n",
       "      <td>4.0</td>\n",
       "      <td>3.0</td>\n",
       "      <td>3.0</td>\n",
       "      <td>5.0</td>\n",
       "      <td>7.0</td>\n",
       "      <td>7.0</td>\n",
       "      <td>7.0</td>\n",
       "      <td>...</td>\n",
       "      <td>6.0</td>\n",
       "      <td>5.0</td>\n",
       "      <td>7.0</td>\n",
       "      <td>4.0</td>\n",
       "      <td>4.0</td>\n",
       "      <td>7.0</td>\n",
       "      <td>4.0</td>\n",
       "      <td>7.0</td>\n",
       "      <td>5.0</td>\n",
       "      <td>4.0</td>\n",
       "    </tr>\n",
       "    <tr>\n",
       "      <th>2</th>\n",
       "      <td>MA</td>\n",
       "      <td>3.0</td>\n",
       "      <td>2.0</td>\n",
       "      <td>2.0</td>\n",
       "      <td>2.0</td>\n",
       "      <td>2.0</td>\n",
       "      <td>2.0</td>\n",
       "      <td>2.0</td>\n",
       "      <td>2.0</td>\n",
       "      <td>2.0</td>\n",
       "      <td>...</td>\n",
       "      <td>1.0</td>\n",
       "      <td>1.0</td>\n",
       "      <td>1.0</td>\n",
       "      <td>1.0</td>\n",
       "      <td>1.0</td>\n",
       "      <td>2.0</td>\n",
       "      <td>2.0</td>\n",
       "      <td>1.0</td>\n",
       "      <td>1.0</td>\n",
       "      <td>1.0</td>\n",
       "    </tr>\n",
       "    <tr>\n",
       "      <th>3</th>\n",
       "      <td>CT</td>\n",
       "      <td>3.0</td>\n",
       "      <td>5.0</td>\n",
       "      <td>4.0</td>\n",
       "      <td>3.0</td>\n",
       "      <td>3.0</td>\n",
       "      <td>3.0</td>\n",
       "      <td>3.0</td>\n",
       "      <td>3.0</td>\n",
       "      <td>3.0</td>\n",
       "      <td>...</td>\n",
       "      <td>3.0</td>\n",
       "      <td>3.0</td>\n",
       "      <td>3.0</td>\n",
       "      <td>3.0</td>\n",
       "      <td>3.0</td>\n",
       "      <td>3.0</td>\n",
       "      <td>3.0</td>\n",
       "      <td>3.0</td>\n",
       "      <td>3.0</td>\n",
       "      <td>3.0</td>\n",
       "    </tr>\n",
       "    <tr>\n",
       "      <th>4</th>\n",
       "      <td>CA</td>\n",
       "      <td>3.0</td>\n",
       "      <td>6.0</td>\n",
       "      <td>6.0</td>\n",
       "      <td>6.0</td>\n",
       "      <td>7.0</td>\n",
       "      <td>5.0</td>\n",
       "      <td>5.0</td>\n",
       "      <td>4.0</td>\n",
       "      <td>4.0</td>\n",
       "      <td>...</td>\n",
       "      <td>6.0</td>\n",
       "      <td>5.0</td>\n",
       "      <td>5.0</td>\n",
       "      <td>4.0</td>\n",
       "      <td>4.0</td>\n",
       "      <td>4.0</td>\n",
       "      <td>4.0</td>\n",
       "      <td>5.0</td>\n",
       "      <td>5.0</td>\n",
       "      <td>5.0</td>\n",
       "    </tr>\n",
       "  </tbody>\n",
       "</table>\n",
       "<p>5 rows × 21 columns</p>\n",
       "</div>"
      ],
      "text/plain": [
       "  State  2023  2022  2021  2020  2019  2018  2017  2016  2015  ...  2013  \\\n",
       "0    NJ   1.0   1.0   1.0   1.0   1.0   1.0   1.0   1.0   1.0  ...   1.0   \n",
       "1    MA   2.0   2.0   4.0   3.0   3.0   5.0   7.0   7.0   7.0  ...   6.0   \n",
       "2    MA   3.0   2.0   2.0   2.0   2.0   2.0   2.0   2.0   2.0  ...   1.0   \n",
       "3    CT   3.0   5.0   4.0   3.0   3.0   3.0   3.0   3.0   3.0  ...   3.0   \n",
       "4    CA   3.0   6.0   6.0   6.0   7.0   5.0   5.0   4.0   4.0  ...   6.0   \n",
       "\n",
       "   2012  2011  2010  2009  2008  2007  2006  2005  2004  \n",
       "0   1.0   2.0   1.0   2.0   1.0   1.0   1.0   1.0   1.0  \n",
       "1   5.0   7.0   4.0   4.0   7.0   4.0   7.0   5.0   4.0  \n",
       "2   1.0   1.0   1.0   1.0   2.0   2.0   1.0   1.0   1.0  \n",
       "3   3.0   3.0   3.0   3.0   3.0   3.0   3.0   3.0   3.0  \n",
       "4   5.0   5.0   4.0   4.0   4.0   4.0   5.0   5.0   5.0  \n",
       "\n",
       "[5 rows x 21 columns]"
      ]
     },
     "execution_count": 139,
     "metadata": {},
     "output_type": "execute_result"
    }
   ],
   "source": [
    "X = df.drop('University Name', axis=1)\n",
    "y = df['University Name']\n",
    "X.head()"
   ]
  },
  {
   "cell_type": "code",
   "execution_count": 140,
   "id": "96904698",
   "metadata": {},
   "outputs": [
    {
     "data": {
      "text/html": [
       "<div>\n",
       "<style scoped>\n",
       "    .dataframe tbody tr th:only-of-type {\n",
       "        vertical-align: middle;\n",
       "    }\n",
       "\n",
       "    .dataframe tbody tr th {\n",
       "        vertical-align: top;\n",
       "    }\n",
       "\n",
       "    .dataframe thead th {\n",
       "        text-align: right;\n",
       "    }\n",
       "</style>\n",
       "<table border=\"1\" class=\"dataframe\">\n",
       "  <thead>\n",
       "    <tr style=\"text-align: right;\">\n",
       "      <th></th>\n",
       "      <th>2023</th>\n",
       "      <th>2022</th>\n",
       "      <th>2021</th>\n",
       "      <th>2020</th>\n",
       "      <th>2019</th>\n",
       "      <th>2018</th>\n",
       "      <th>2017</th>\n",
       "      <th>2016</th>\n",
       "      <th>2015</th>\n",
       "      <th>2014</th>\n",
       "      <th>2013</th>\n",
       "      <th>2012</th>\n",
       "      <th>2011</th>\n",
       "      <th>2010</th>\n",
       "      <th>2009</th>\n",
       "      <th>2008</th>\n",
       "      <th>2007</th>\n",
       "      <th>2006</th>\n",
       "      <th>2005</th>\n",
       "      <th>2004</th>\n",
       "    </tr>\n",
       "  </thead>\n",
       "  <tbody>\n",
       "    <tr>\n",
       "      <th>0</th>\n",
       "      <td>1.0</td>\n",
       "      <td>1.0</td>\n",
       "      <td>1.0</td>\n",
       "      <td>1.0</td>\n",
       "      <td>1.0</td>\n",
       "      <td>1.0</td>\n",
       "      <td>1.0</td>\n",
       "      <td>1.0</td>\n",
       "      <td>1.0</td>\n",
       "      <td>1.0</td>\n",
       "      <td>1.0</td>\n",
       "      <td>1.0</td>\n",
       "      <td>2.0</td>\n",
       "      <td>1.0</td>\n",
       "      <td>2.0</td>\n",
       "      <td>1.0</td>\n",
       "      <td>1.0</td>\n",
       "      <td>1.0</td>\n",
       "      <td>1.0</td>\n",
       "      <td>1.0</td>\n",
       "    </tr>\n",
       "    <tr>\n",
       "      <th>1</th>\n",
       "      <td>2.0</td>\n",
       "      <td>2.0</td>\n",
       "      <td>4.0</td>\n",
       "      <td>3.0</td>\n",
       "      <td>3.0</td>\n",
       "      <td>5.0</td>\n",
       "      <td>7.0</td>\n",
       "      <td>7.0</td>\n",
       "      <td>7.0</td>\n",
       "      <td>7.0</td>\n",
       "      <td>6.0</td>\n",
       "      <td>5.0</td>\n",
       "      <td>7.0</td>\n",
       "      <td>4.0</td>\n",
       "      <td>4.0</td>\n",
       "      <td>7.0</td>\n",
       "      <td>4.0</td>\n",
       "      <td>7.0</td>\n",
       "      <td>5.0</td>\n",
       "      <td>4.0</td>\n",
       "    </tr>\n",
       "    <tr>\n",
       "      <th>2</th>\n",
       "      <td>3.0</td>\n",
       "      <td>2.0</td>\n",
       "      <td>2.0</td>\n",
       "      <td>2.0</td>\n",
       "      <td>2.0</td>\n",
       "      <td>2.0</td>\n",
       "      <td>2.0</td>\n",
       "      <td>2.0</td>\n",
       "      <td>2.0</td>\n",
       "      <td>2.0</td>\n",
       "      <td>1.0</td>\n",
       "      <td>1.0</td>\n",
       "      <td>1.0</td>\n",
       "      <td>1.0</td>\n",
       "      <td>1.0</td>\n",
       "      <td>2.0</td>\n",
       "      <td>2.0</td>\n",
       "      <td>1.0</td>\n",
       "      <td>1.0</td>\n",
       "      <td>1.0</td>\n",
       "    </tr>\n",
       "    <tr>\n",
       "      <th>3</th>\n",
       "      <td>3.0</td>\n",
       "      <td>5.0</td>\n",
       "      <td>4.0</td>\n",
       "      <td>3.0</td>\n",
       "      <td>3.0</td>\n",
       "      <td>3.0</td>\n",
       "      <td>3.0</td>\n",
       "      <td>3.0</td>\n",
       "      <td>3.0</td>\n",
       "      <td>3.0</td>\n",
       "      <td>3.0</td>\n",
       "      <td>3.0</td>\n",
       "      <td>3.0</td>\n",
       "      <td>3.0</td>\n",
       "      <td>3.0</td>\n",
       "      <td>3.0</td>\n",
       "      <td>3.0</td>\n",
       "      <td>3.0</td>\n",
       "      <td>3.0</td>\n",
       "      <td>3.0</td>\n",
       "    </tr>\n",
       "    <tr>\n",
       "      <th>4</th>\n",
       "      <td>3.0</td>\n",
       "      <td>6.0</td>\n",
       "      <td>6.0</td>\n",
       "      <td>6.0</td>\n",
       "      <td>7.0</td>\n",
       "      <td>5.0</td>\n",
       "      <td>5.0</td>\n",
       "      <td>4.0</td>\n",
       "      <td>4.0</td>\n",
       "      <td>5.0</td>\n",
       "      <td>6.0</td>\n",
       "      <td>5.0</td>\n",
       "      <td>5.0</td>\n",
       "      <td>4.0</td>\n",
       "      <td>4.0</td>\n",
       "      <td>4.0</td>\n",
       "      <td>4.0</td>\n",
       "      <td>5.0</td>\n",
       "      <td>5.0</td>\n",
       "      <td>5.0</td>\n",
       "    </tr>\n",
       "  </tbody>\n",
       "</table>\n",
       "</div>"
      ],
      "text/plain": [
       "   2023  2022  2021  2020  2019  2018  2017  2016  2015  2014  2013  2012  \\\n",
       "0   1.0   1.0   1.0   1.0   1.0   1.0   1.0   1.0   1.0   1.0   1.0   1.0   \n",
       "1   2.0   2.0   4.0   3.0   3.0   5.0   7.0   7.0   7.0   7.0   6.0   5.0   \n",
       "2   3.0   2.0   2.0   2.0   2.0   2.0   2.0   2.0   2.0   2.0   1.0   1.0   \n",
       "3   3.0   5.0   4.0   3.0   3.0   3.0   3.0   3.0   3.0   3.0   3.0   3.0   \n",
       "4   3.0   6.0   6.0   6.0   7.0   5.0   5.0   4.0   4.0   5.0   6.0   5.0   \n",
       "\n",
       "   2011  2010  2009  2008  2007  2006  2005  2004  \n",
       "0   2.0   1.0   2.0   1.0   1.0   1.0   1.0   1.0  \n",
       "1   7.0   4.0   4.0   7.0   4.0   7.0   5.0   4.0  \n",
       "2   1.0   1.0   1.0   2.0   2.0   1.0   1.0   1.0  \n",
       "3   3.0   3.0   3.0   3.0   3.0   3.0   3.0   3.0  \n",
       "4   5.0   4.0   4.0   4.0   4.0   5.0   5.0   5.0  "
      ]
     },
     "execution_count": 140,
     "metadata": {},
     "output_type": "execute_result"
    }
   ],
   "source": [
    "X_num = X.select_dtypes('number')\n",
    "X_num.head()"
   ]
  },
  {
   "cell_type": "code",
   "execution_count": 141,
   "id": "b4069465",
   "metadata": {},
   "outputs": [
    {
     "data": {
      "text/html": [
       "<div>\n",
       "<style scoped>\n",
       "    .dataframe tbody tr th:only-of-type {\n",
       "        vertical-align: middle;\n",
       "    }\n",
       "\n",
       "    .dataframe tbody tr th {\n",
       "        vertical-align: top;\n",
       "    }\n",
       "\n",
       "    .dataframe thead th {\n",
       "        text-align: right;\n",
       "    }\n",
       "</style>\n",
       "<table border=\"1\" class=\"dataframe\">\n",
       "  <thead>\n",
       "    <tr style=\"text-align: right;\">\n",
       "      <th></th>\n",
       "      <th>State</th>\n",
       "    </tr>\n",
       "  </thead>\n",
       "  <tbody>\n",
       "    <tr>\n",
       "      <th>0</th>\n",
       "      <td>NJ</td>\n",
       "    </tr>\n",
       "    <tr>\n",
       "      <th>1</th>\n",
       "      <td>MA</td>\n",
       "    </tr>\n",
       "    <tr>\n",
       "      <th>2</th>\n",
       "      <td>MA</td>\n",
       "    </tr>\n",
       "    <tr>\n",
       "      <th>3</th>\n",
       "      <td>CT</td>\n",
       "    </tr>\n",
       "    <tr>\n",
       "      <th>4</th>\n",
       "      <td>CA</td>\n",
       "    </tr>\n",
       "  </tbody>\n",
       "</table>\n",
       "</div>"
      ],
      "text/plain": [
       "  State\n",
       "0    NJ\n",
       "1    MA\n",
       "2    MA\n",
       "3    CT\n",
       "4    CA"
      ]
     },
     "execution_count": 141,
     "metadata": {},
     "output_type": "execute_result"
    }
   ],
   "source": [
    "X_cat = X.select_dtypes('object')\n",
    "X_cat.head()"
   ]
  },
  {
   "cell_type": "code",
   "execution_count": 142,
   "id": "a56a41ce",
   "metadata": {},
   "outputs": [],
   "source": [
    "scaler = MinMaxScaler()\n",
    "X_num_scaled = scaler.fit_transform(X_num)"
   ]
  },
  {
   "cell_type": "code",
   "execution_count": 143,
   "id": "84c26443",
   "metadata": {},
   "outputs": [
    {
     "data": {
      "text/plain": [
       "numpy.ndarray"
      ]
     },
     "execution_count": 143,
     "metadata": {},
     "output_type": "execute_result"
    }
   ],
   "source": [
    "type(X_num_scaled)"
   ]
  },
  {
   "cell_type": "code",
   "execution_count": 144,
   "id": "f644954b",
   "metadata": {},
   "outputs": [],
   "source": [
    "X_num_scaled = pd.DataFrame(X_num_scaled, columns=X_num.columns, index=X_num.index)"
   ]
  },
  {
   "cell_type": "code",
   "execution_count": 145,
   "id": "fc9f18f1",
   "metadata": {},
   "outputs": [
    {
     "data": {
      "text/html": [
       "<div>\n",
       "<style scoped>\n",
       "    .dataframe tbody tr th:only-of-type {\n",
       "        vertical-align: middle;\n",
       "    }\n",
       "\n",
       "    .dataframe tbody tr th {\n",
       "        vertical-align: top;\n",
       "    }\n",
       "\n",
       "    .dataframe thead th {\n",
       "        text-align: right;\n",
       "    }\n",
       "</style>\n",
       "<table border=\"1\" class=\"dataframe\">\n",
       "  <thead>\n",
       "    <tr style=\"text-align: right;\">\n",
       "      <th></th>\n",
       "      <th>2023</th>\n",
       "      <th>2022</th>\n",
       "      <th>2021</th>\n",
       "      <th>2020</th>\n",
       "      <th>2019</th>\n",
       "      <th>2018</th>\n",
       "      <th>2017</th>\n",
       "      <th>2016</th>\n",
       "      <th>2015</th>\n",
       "      <th>2014</th>\n",
       "      <th>2013</th>\n",
       "      <th>2012</th>\n",
       "      <th>2011</th>\n",
       "      <th>2010</th>\n",
       "      <th>2009</th>\n",
       "      <th>2008</th>\n",
       "      <th>2007</th>\n",
       "      <th>2006</th>\n",
       "      <th>2005</th>\n",
       "      <th>2004</th>\n",
       "    </tr>\n",
       "  </thead>\n",
       "  <tbody>\n",
       "    <tr>\n",
       "      <th>count</th>\n",
       "      <td>48.000000</td>\n",
       "      <td>48.000000</td>\n",
       "      <td>48.000000</td>\n",
       "      <td>48.000000</td>\n",
       "      <td>48.000000</td>\n",
       "      <td>48.000000</td>\n",
       "      <td>48.000000</td>\n",
       "      <td>48.000000</td>\n",
       "      <td>48.000000</td>\n",
       "      <td>48.000000</td>\n",
       "      <td>48.000000</td>\n",
       "      <td>48.000000</td>\n",
       "      <td>48.000000</td>\n",
       "      <td>48.000000</td>\n",
       "      <td>48.000000</td>\n",
       "      <td>48.000000</td>\n",
       "      <td>48.000000</td>\n",
       "      <td>48.000000</td>\n",
       "      <td>48.000000</td>\n",
       "      <td>48.000000</td>\n",
       "    </tr>\n",
       "    <tr>\n",
       "      <th>mean</th>\n",
       "      <td>0.427855</td>\n",
       "      <td>0.471788</td>\n",
       "      <td>0.478733</td>\n",
       "      <td>0.472789</td>\n",
       "      <td>0.446314</td>\n",
       "      <td>0.425758</td>\n",
       "      <td>0.426136</td>\n",
       "      <td>0.455882</td>\n",
       "      <td>0.447720</td>\n",
       "      <td>0.419643</td>\n",
       "      <td>0.444182</td>\n",
       "      <td>0.413377</td>\n",
       "      <td>0.453526</td>\n",
       "      <td>0.410088</td>\n",
       "      <td>0.426894</td>\n",
       "      <td>0.441038</td>\n",
       "      <td>0.440252</td>\n",
       "      <td>0.434799</td>\n",
       "      <td>0.453431</td>\n",
       "      <td>0.449119</td>\n",
       "    </tr>\n",
       "    <tr>\n",
       "      <th>std</th>\n",
       "      <td>0.266291</td>\n",
       "      <td>0.290985</td>\n",
       "      <td>0.289872</td>\n",
       "      <td>0.292710</td>\n",
       "      <td>0.280621</td>\n",
       "      <td>0.272271</td>\n",
       "      <td>0.269260</td>\n",
       "      <td>0.282137</td>\n",
       "      <td>0.283106</td>\n",
       "      <td>0.270039</td>\n",
       "      <td>0.280180</td>\n",
       "      <td>0.266555</td>\n",
       "      <td>0.284737</td>\n",
       "      <td>0.259452</td>\n",
       "      <td>0.267401</td>\n",
       "      <td>0.272552</td>\n",
       "      <td>0.273791</td>\n",
       "      <td>0.272781</td>\n",
       "      <td>0.279811</td>\n",
       "      <td>0.281168</td>\n",
       "    </tr>\n",
       "    <tr>\n",
       "      <th>min</th>\n",
       "      <td>0.000000</td>\n",
       "      <td>0.000000</td>\n",
       "      <td>0.000000</td>\n",
       "      <td>0.000000</td>\n",
       "      <td>0.000000</td>\n",
       "      <td>0.000000</td>\n",
       "      <td>0.000000</td>\n",
       "      <td>0.000000</td>\n",
       "      <td>0.000000</td>\n",
       "      <td>0.000000</td>\n",
       "      <td>0.000000</td>\n",
       "      <td>0.000000</td>\n",
       "      <td>0.000000</td>\n",
       "      <td>0.000000</td>\n",
       "      <td>0.000000</td>\n",
       "      <td>0.000000</td>\n",
       "      <td>0.000000</td>\n",
       "      <td>0.000000</td>\n",
       "      <td>0.000000</td>\n",
       "      <td>0.000000</td>\n",
       "    </tr>\n",
       "    <tr>\n",
       "      <th>25%</th>\n",
       "      <td>0.217593</td>\n",
       "      <td>0.229167</td>\n",
       "      <td>0.244792</td>\n",
       "      <td>0.224490</td>\n",
       "      <td>0.211538</td>\n",
       "      <td>0.181818</td>\n",
       "      <td>0.200000</td>\n",
       "      <td>0.215686</td>\n",
       "      <td>0.221698</td>\n",
       "      <td>0.196429</td>\n",
       "      <td>0.221698</td>\n",
       "      <td>0.206140</td>\n",
       "      <td>0.225962</td>\n",
       "      <td>0.192982</td>\n",
       "      <td>0.200000</td>\n",
       "      <td>0.207547</td>\n",
       "      <td>0.207547</td>\n",
       "      <td>0.217593</td>\n",
       "      <td>0.225490</td>\n",
       "      <td>0.221154</td>\n",
       "    </tr>\n",
       "    <tr>\n",
       "      <th>50%</th>\n",
       "      <td>0.416667</td>\n",
       "      <td>0.479167</td>\n",
       "      <td>0.479167</td>\n",
       "      <td>0.479592</td>\n",
       "      <td>0.432692</td>\n",
       "      <td>0.400000</td>\n",
       "      <td>0.418182</td>\n",
       "      <td>0.431373</td>\n",
       "      <td>0.433962</td>\n",
       "      <td>0.392857</td>\n",
       "      <td>0.433962</td>\n",
       "      <td>0.403509</td>\n",
       "      <td>0.442308</td>\n",
       "      <td>0.403509</td>\n",
       "      <td>0.418182</td>\n",
       "      <td>0.433962</td>\n",
       "      <td>0.433962</td>\n",
       "      <td>0.425926</td>\n",
       "      <td>0.441176</td>\n",
       "      <td>0.442308</td>\n",
       "    </tr>\n",
       "    <tr>\n",
       "      <th>75%</th>\n",
       "      <td>0.648148</td>\n",
       "      <td>0.729167</td>\n",
       "      <td>0.708333</td>\n",
       "      <td>0.719388</td>\n",
       "      <td>0.653846</td>\n",
       "      <td>0.613636</td>\n",
       "      <td>0.640909</td>\n",
       "      <td>0.691176</td>\n",
       "      <td>0.665094</td>\n",
       "      <td>0.629464</td>\n",
       "      <td>0.665094</td>\n",
       "      <td>0.618421</td>\n",
       "      <td>0.663462</td>\n",
       "      <td>0.596491</td>\n",
       "      <td>0.618182</td>\n",
       "      <td>0.641509</td>\n",
       "      <td>0.622642</td>\n",
       "      <td>0.625000</td>\n",
       "      <td>0.676471</td>\n",
       "      <td>0.663462</td>\n",
       "    </tr>\n",
       "    <tr>\n",
       "      <th>max</th>\n",
       "      <td>1.000000</td>\n",
       "      <td>1.000000</td>\n",
       "      <td>1.000000</td>\n",
       "      <td>1.000000</td>\n",
       "      <td>1.000000</td>\n",
       "      <td>1.000000</td>\n",
       "      <td>1.000000</td>\n",
       "      <td>1.000000</td>\n",
       "      <td>1.000000</td>\n",
       "      <td>1.000000</td>\n",
       "      <td>1.000000</td>\n",
       "      <td>1.000000</td>\n",
       "      <td>1.000000</td>\n",
       "      <td>1.000000</td>\n",
       "      <td>1.000000</td>\n",
       "      <td>1.000000</td>\n",
       "      <td>1.000000</td>\n",
       "      <td>1.000000</td>\n",
       "      <td>1.000000</td>\n",
       "      <td>1.000000</td>\n",
       "    </tr>\n",
       "  </tbody>\n",
       "</table>\n",
       "</div>"
      ],
      "text/plain": [
       "            2023       2022       2021       2020       2019       2018  \\\n",
       "count  48.000000  48.000000  48.000000  48.000000  48.000000  48.000000   \n",
       "mean    0.427855   0.471788   0.478733   0.472789   0.446314   0.425758   \n",
       "std     0.266291   0.290985   0.289872   0.292710   0.280621   0.272271   \n",
       "min     0.000000   0.000000   0.000000   0.000000   0.000000   0.000000   \n",
       "25%     0.217593   0.229167   0.244792   0.224490   0.211538   0.181818   \n",
       "50%     0.416667   0.479167   0.479167   0.479592   0.432692   0.400000   \n",
       "75%     0.648148   0.729167   0.708333   0.719388   0.653846   0.613636   \n",
       "max     1.000000   1.000000   1.000000   1.000000   1.000000   1.000000   \n",
       "\n",
       "            2017       2016       2015       2014       2013       2012  \\\n",
       "count  48.000000  48.000000  48.000000  48.000000  48.000000  48.000000   \n",
       "mean    0.426136   0.455882   0.447720   0.419643   0.444182   0.413377   \n",
       "std     0.269260   0.282137   0.283106   0.270039   0.280180   0.266555   \n",
       "min     0.000000   0.000000   0.000000   0.000000   0.000000   0.000000   \n",
       "25%     0.200000   0.215686   0.221698   0.196429   0.221698   0.206140   \n",
       "50%     0.418182   0.431373   0.433962   0.392857   0.433962   0.403509   \n",
       "75%     0.640909   0.691176   0.665094   0.629464   0.665094   0.618421   \n",
       "max     1.000000   1.000000   1.000000   1.000000   1.000000   1.000000   \n",
       "\n",
       "            2011       2010       2009       2008       2007       2006  \\\n",
       "count  48.000000  48.000000  48.000000  48.000000  48.000000  48.000000   \n",
       "mean    0.453526   0.410088   0.426894   0.441038   0.440252   0.434799   \n",
       "std     0.284737   0.259452   0.267401   0.272552   0.273791   0.272781   \n",
       "min     0.000000   0.000000   0.000000   0.000000   0.000000   0.000000   \n",
       "25%     0.225962   0.192982   0.200000   0.207547   0.207547   0.217593   \n",
       "50%     0.442308   0.403509   0.418182   0.433962   0.433962   0.425926   \n",
       "75%     0.663462   0.596491   0.618182   0.641509   0.622642   0.625000   \n",
       "max     1.000000   1.000000   1.000000   1.000000   1.000000   1.000000   \n",
       "\n",
       "            2005       2004  \n",
       "count  48.000000  48.000000  \n",
       "mean    0.453431   0.449119  \n",
       "std     0.279811   0.281168  \n",
       "min     0.000000   0.000000  \n",
       "25%     0.225490   0.221154  \n",
       "50%     0.441176   0.442308  \n",
       "75%     0.676471   0.663462  \n",
       "max     1.000000   1.000000  "
      ]
     },
     "execution_count": 145,
     "metadata": {},
     "output_type": "execute_result"
    }
   ],
   "source": [
    "X_num_scaled.describe()"
   ]
  },
  {
   "cell_type": "code",
   "execution_count": 146,
   "id": "a0f8d885",
   "metadata": {},
   "outputs": [],
   "source": [
    "X_cat_encoded = pd.get_dummies(X_cat, drop_first=False, dtype=int)"
   ]
  },
  {
   "cell_type": "code",
   "execution_count": 147,
   "id": "7e6b7563",
   "metadata": {},
   "outputs": [],
   "source": [
    "X = pd.concat([X_num_scaled, X_cat_encoded], axis=1)"
   ]
  },
  {
   "cell_type": "code",
   "execution_count": 148,
   "id": "da66cf8e",
   "metadata": {},
   "outputs": [
    {
     "data": {
      "text/plain": [
       "((48, 43), (48, 20), (48, 23))"
      ]
     },
     "execution_count": 148,
     "metadata": {},
     "output_type": "execute_result"
    }
   ],
   "source": [
    "X.shape, X_num_scaled.shape, X_cat_encoded.shape"
   ]
  },
  {
   "cell_type": "code",
   "execution_count": 149,
   "id": "127b38d6",
   "metadata": {},
   "outputs": [
    {
     "name": "stdout",
     "output_type": "stream",
     "text": [
      "\n",
      "Step 7: Checking for NAs and Shape Compatibility\n",
      "2023        0\n",
      "2022        0\n",
      "2021        0\n",
      "2020        0\n",
      "2019        0\n",
      "2018        0\n",
      "2017        0\n",
      "2016        0\n",
      "2015        0\n",
      "2014        0\n",
      "2013        0\n",
      "2012        0\n",
      "2011        0\n",
      "2010        0\n",
      "2009        0\n",
      "2008        0\n",
      "2007        0\n",
      "2006        0\n",
      "2005        0\n",
      "2004        0\n",
      "State_CA    0\n",
      "State_CT    0\n",
      "State_DC    0\n",
      "State_FL    0\n",
      "State_GA    0\n",
      "State_IL    0\n",
      "State_IN    0\n",
      "State_LA    0\n",
      "State_MA    0\n",
      "State_MD    0\n",
      "State_MI    0\n",
      "State_MO    0\n",
      "State_NC    0\n",
      "State_NH    0\n",
      "State_NJ    0\n",
      "State_NY    0\n",
      "State_OH    0\n",
      "State_PA    0\n",
      "State_RI    0\n",
      "State_TN    0\n",
      "State_TX    0\n",
      "State_VA    0\n",
      "State_WI    0\n",
      "dtype: int64\n",
      "0\n",
      "(48, 43)\n",
      "(48,)\n"
     ]
    }
   ],
   "source": [
    "print(\"\\nStep 7: Checking for NAs and Shape Compatibility\")\n",
    "print(X.isnull().sum())\n",
    "print(y.isnull().sum())\n",
    "print(X.shape)\n",
    "print(y.shape)"
   ]
  },
  {
   "cell_type": "code",
   "execution_count": 150,
   "id": "680b40fc",
   "metadata": {},
   "outputs": [
    {
     "data": {
      "text/html": [
       "<div>\n",
       "<style scoped>\n",
       "    .dataframe tbody tr th:only-of-type {\n",
       "        vertical-align: middle;\n",
       "    }\n",
       "\n",
       "    .dataframe tbody tr th {\n",
       "        vertical-align: top;\n",
       "    }\n",
       "\n",
       "    .dataframe thead th {\n",
       "        text-align: right;\n",
       "    }\n",
       "</style>\n",
       "<table border=\"1\" class=\"dataframe\">\n",
       "  <thead>\n",
       "    <tr style=\"text-align: right;\">\n",
       "      <th></th>\n",
       "      <th>2023</th>\n",
       "      <th>2022</th>\n",
       "      <th>2021</th>\n",
       "      <th>2020</th>\n",
       "      <th>2019</th>\n",
       "      <th>2018</th>\n",
       "      <th>2017</th>\n",
       "      <th>2016</th>\n",
       "      <th>2015</th>\n",
       "      <th>2014</th>\n",
       "      <th>...</th>\n",
       "      <th>State_NH</th>\n",
       "      <th>State_NJ</th>\n",
       "      <th>State_NY</th>\n",
       "      <th>State_OH</th>\n",
       "      <th>State_PA</th>\n",
       "      <th>State_RI</th>\n",
       "      <th>State_TN</th>\n",
       "      <th>State_TX</th>\n",
       "      <th>State_VA</th>\n",
       "      <th>State_WI</th>\n",
       "    </tr>\n",
       "  </thead>\n",
       "  <tbody>\n",
       "    <tr>\n",
       "      <th>count</th>\n",
       "      <td>48.000000</td>\n",
       "      <td>48.000000</td>\n",
       "      <td>48.000000</td>\n",
       "      <td>48.000000</td>\n",
       "      <td>48.000000</td>\n",
       "      <td>48.000000</td>\n",
       "      <td>48.000000</td>\n",
       "      <td>48.000000</td>\n",
       "      <td>48.000000</td>\n",
       "      <td>48.000000</td>\n",
       "      <td>...</td>\n",
       "      <td>48.000000</td>\n",
       "      <td>48.000000</td>\n",
       "      <td>48.000000</td>\n",
       "      <td>48.000000</td>\n",
       "      <td>48.000000</td>\n",
       "      <td>48.000000</td>\n",
       "      <td>48.000000</td>\n",
       "      <td>48.000000</td>\n",
       "      <td>48.000000</td>\n",
       "      <td>48.000000</td>\n",
       "    </tr>\n",
       "    <tr>\n",
       "      <th>mean</th>\n",
       "      <td>0.427855</td>\n",
       "      <td>0.471788</td>\n",
       "      <td>0.478733</td>\n",
       "      <td>0.472789</td>\n",
       "      <td>0.446314</td>\n",
       "      <td>0.425758</td>\n",
       "      <td>0.426136</td>\n",
       "      <td>0.455882</td>\n",
       "      <td>0.447720</td>\n",
       "      <td>0.419643</td>\n",
       "      <td>...</td>\n",
       "      <td>0.020833</td>\n",
       "      <td>0.020833</td>\n",
       "      <td>0.083333</td>\n",
       "      <td>0.020833</td>\n",
       "      <td>0.062500</td>\n",
       "      <td>0.020833</td>\n",
       "      <td>0.020833</td>\n",
       "      <td>0.041667</td>\n",
       "      <td>0.041667</td>\n",
       "      <td>0.020833</td>\n",
       "    </tr>\n",
       "    <tr>\n",
       "      <th>std</th>\n",
       "      <td>0.266291</td>\n",
       "      <td>0.290985</td>\n",
       "      <td>0.289872</td>\n",
       "      <td>0.292710</td>\n",
       "      <td>0.280621</td>\n",
       "      <td>0.272271</td>\n",
       "      <td>0.269260</td>\n",
       "      <td>0.282137</td>\n",
       "      <td>0.283106</td>\n",
       "      <td>0.270039</td>\n",
       "      <td>...</td>\n",
       "      <td>0.144338</td>\n",
       "      <td>0.144338</td>\n",
       "      <td>0.279310</td>\n",
       "      <td>0.144338</td>\n",
       "      <td>0.244623</td>\n",
       "      <td>0.144338</td>\n",
       "      <td>0.144338</td>\n",
       "      <td>0.201941</td>\n",
       "      <td>0.201941</td>\n",
       "      <td>0.144338</td>\n",
       "    </tr>\n",
       "    <tr>\n",
       "      <th>min</th>\n",
       "      <td>0.000000</td>\n",
       "      <td>0.000000</td>\n",
       "      <td>0.000000</td>\n",
       "      <td>0.000000</td>\n",
       "      <td>0.000000</td>\n",
       "      <td>0.000000</td>\n",
       "      <td>0.000000</td>\n",
       "      <td>0.000000</td>\n",
       "      <td>0.000000</td>\n",
       "      <td>0.000000</td>\n",
       "      <td>...</td>\n",
       "      <td>0.000000</td>\n",
       "      <td>0.000000</td>\n",
       "      <td>0.000000</td>\n",
       "      <td>0.000000</td>\n",
       "      <td>0.000000</td>\n",
       "      <td>0.000000</td>\n",
       "      <td>0.000000</td>\n",
       "      <td>0.000000</td>\n",
       "      <td>0.000000</td>\n",
       "      <td>0.000000</td>\n",
       "    </tr>\n",
       "    <tr>\n",
       "      <th>25%</th>\n",
       "      <td>0.217593</td>\n",
       "      <td>0.229167</td>\n",
       "      <td>0.244792</td>\n",
       "      <td>0.224490</td>\n",
       "      <td>0.211538</td>\n",
       "      <td>0.181818</td>\n",
       "      <td>0.200000</td>\n",
       "      <td>0.215686</td>\n",
       "      <td>0.221698</td>\n",
       "      <td>0.196429</td>\n",
       "      <td>...</td>\n",
       "      <td>0.000000</td>\n",
       "      <td>0.000000</td>\n",
       "      <td>0.000000</td>\n",
       "      <td>0.000000</td>\n",
       "      <td>0.000000</td>\n",
       "      <td>0.000000</td>\n",
       "      <td>0.000000</td>\n",
       "      <td>0.000000</td>\n",
       "      <td>0.000000</td>\n",
       "      <td>0.000000</td>\n",
       "    </tr>\n",
       "    <tr>\n",
       "      <th>50%</th>\n",
       "      <td>0.416667</td>\n",
       "      <td>0.479167</td>\n",
       "      <td>0.479167</td>\n",
       "      <td>0.479592</td>\n",
       "      <td>0.432692</td>\n",
       "      <td>0.400000</td>\n",
       "      <td>0.418182</td>\n",
       "      <td>0.431373</td>\n",
       "      <td>0.433962</td>\n",
       "      <td>0.392857</td>\n",
       "      <td>...</td>\n",
       "      <td>0.000000</td>\n",
       "      <td>0.000000</td>\n",
       "      <td>0.000000</td>\n",
       "      <td>0.000000</td>\n",
       "      <td>0.000000</td>\n",
       "      <td>0.000000</td>\n",
       "      <td>0.000000</td>\n",
       "      <td>0.000000</td>\n",
       "      <td>0.000000</td>\n",
       "      <td>0.000000</td>\n",
       "    </tr>\n",
       "    <tr>\n",
       "      <th>75%</th>\n",
       "      <td>0.648148</td>\n",
       "      <td>0.729167</td>\n",
       "      <td>0.708333</td>\n",
       "      <td>0.719388</td>\n",
       "      <td>0.653846</td>\n",
       "      <td>0.613636</td>\n",
       "      <td>0.640909</td>\n",
       "      <td>0.691176</td>\n",
       "      <td>0.665094</td>\n",
       "      <td>0.629464</td>\n",
       "      <td>...</td>\n",
       "      <td>0.000000</td>\n",
       "      <td>0.000000</td>\n",
       "      <td>0.000000</td>\n",
       "      <td>0.000000</td>\n",
       "      <td>0.000000</td>\n",
       "      <td>0.000000</td>\n",
       "      <td>0.000000</td>\n",
       "      <td>0.000000</td>\n",
       "      <td>0.000000</td>\n",
       "      <td>0.000000</td>\n",
       "    </tr>\n",
       "    <tr>\n",
       "      <th>max</th>\n",
       "      <td>1.000000</td>\n",
       "      <td>1.000000</td>\n",
       "      <td>1.000000</td>\n",
       "      <td>1.000000</td>\n",
       "      <td>1.000000</td>\n",
       "      <td>1.000000</td>\n",
       "      <td>1.000000</td>\n",
       "      <td>1.000000</td>\n",
       "      <td>1.000000</td>\n",
       "      <td>1.000000</td>\n",
       "      <td>...</td>\n",
       "      <td>1.000000</td>\n",
       "      <td>1.000000</td>\n",
       "      <td>1.000000</td>\n",
       "      <td>1.000000</td>\n",
       "      <td>1.000000</td>\n",
       "      <td>1.000000</td>\n",
       "      <td>1.000000</td>\n",
       "      <td>1.000000</td>\n",
       "      <td>1.000000</td>\n",
       "      <td>1.000000</td>\n",
       "    </tr>\n",
       "  </tbody>\n",
       "</table>\n",
       "<p>8 rows × 43 columns</p>\n",
       "</div>"
      ],
      "text/plain": [
       "            2023       2022       2021       2020       2019       2018  \\\n",
       "count  48.000000  48.000000  48.000000  48.000000  48.000000  48.000000   \n",
       "mean    0.427855   0.471788   0.478733   0.472789   0.446314   0.425758   \n",
       "std     0.266291   0.290985   0.289872   0.292710   0.280621   0.272271   \n",
       "min     0.000000   0.000000   0.000000   0.000000   0.000000   0.000000   \n",
       "25%     0.217593   0.229167   0.244792   0.224490   0.211538   0.181818   \n",
       "50%     0.416667   0.479167   0.479167   0.479592   0.432692   0.400000   \n",
       "75%     0.648148   0.729167   0.708333   0.719388   0.653846   0.613636   \n",
       "max     1.000000   1.000000   1.000000   1.000000   1.000000   1.000000   \n",
       "\n",
       "            2017       2016       2015       2014  ...   State_NH   State_NJ  \\\n",
       "count  48.000000  48.000000  48.000000  48.000000  ...  48.000000  48.000000   \n",
       "mean    0.426136   0.455882   0.447720   0.419643  ...   0.020833   0.020833   \n",
       "std     0.269260   0.282137   0.283106   0.270039  ...   0.144338   0.144338   \n",
       "min     0.000000   0.000000   0.000000   0.000000  ...   0.000000   0.000000   \n",
       "25%     0.200000   0.215686   0.221698   0.196429  ...   0.000000   0.000000   \n",
       "50%     0.418182   0.431373   0.433962   0.392857  ...   0.000000   0.000000   \n",
       "75%     0.640909   0.691176   0.665094   0.629464  ...   0.000000   0.000000   \n",
       "max     1.000000   1.000000   1.000000   1.000000  ...   1.000000   1.000000   \n",
       "\n",
       "        State_NY   State_OH   State_PA   State_RI   State_TN   State_TX  \\\n",
       "count  48.000000  48.000000  48.000000  48.000000  48.000000  48.000000   \n",
       "mean    0.083333   0.020833   0.062500   0.020833   0.020833   0.041667   \n",
       "std     0.279310   0.144338   0.244623   0.144338   0.144338   0.201941   \n",
       "min     0.000000   0.000000   0.000000   0.000000   0.000000   0.000000   \n",
       "25%     0.000000   0.000000   0.000000   0.000000   0.000000   0.000000   \n",
       "50%     0.000000   0.000000   0.000000   0.000000   0.000000   0.000000   \n",
       "75%     0.000000   0.000000   0.000000   0.000000   0.000000   0.000000   \n",
       "max     1.000000   1.000000   1.000000   1.000000   1.000000   1.000000   \n",
       "\n",
       "        State_VA   State_WI  \n",
       "count  48.000000  48.000000  \n",
       "mean    0.041667   0.020833  \n",
       "std     0.201941   0.144338  \n",
       "min     0.000000   0.000000  \n",
       "25%     0.000000   0.000000  \n",
       "50%     0.000000   0.000000  \n",
       "75%     0.000000   0.000000  \n",
       "max     1.000000   1.000000  \n",
       "\n",
       "[8 rows x 43 columns]"
      ]
     },
     "execution_count": 150,
     "metadata": {},
     "output_type": "execute_result"
    }
   ],
   "source": [
    "X.describe()"
   ]
  },
  {
   "cell_type": "code",
   "execution_count": 151,
   "id": "1666655e",
   "metadata": {},
   "outputs": [],
   "source": [
    "X_train, X_test, y_train, y_test = train_test_split(X, y, test_size=0.2, random_state=42)"
   ]
  },
  {
   "cell_type": "code",
   "execution_count": 152,
   "id": "0839dcb8",
   "metadata": {},
   "outputs": [
    {
     "name": "stdout",
     "output_type": "stream",
     "text": [
      "(38, 43)\n",
      "(10, 43)\n",
      "(38,)\n",
      "(10,)\n"
     ]
    }
   ],
   "source": [
    "print(X_train.shape)\n",
    "print(X_test.shape)\n",
    "print(y_train.shape) \n",
    "print(y_test.shape)"
   ]
  },
  {
   "cell_type": "code",
   "execution_count": null,
   "id": "525bfc7a",
   "metadata": {},
   "outputs": [],
   "source": [
    "#The above observations are made over a period of 20 years.\n",
    "#It is to predict the rank of Universities.\n"
   ]
  },
  {
   "cell_type": "code",
   "execution_count": null,
   "id": "cc0c83bf",
   "metadata": {},
   "outputs": [],
   "source": [
    "---------------------------------------------------------------------------------------------------------------------------------"
   ]
  },
  {
   "cell_type": "markdown",
   "id": "712906d7",
   "metadata": {},
   "source": [
    "### DATASET 5"
   ]
  },
  {
   "cell_type": "code",
   "execution_count": 153,
   "id": "8413b237",
   "metadata": {},
   "outputs": [],
   "source": [
    "df = pd.read_csv('Mall_Customers.csv')"
   ]
  },
  {
   "cell_type": "code",
   "execution_count": 154,
   "id": "61c220fc",
   "metadata": {},
   "outputs": [
    {
     "data": {
      "text/html": [
       "<div>\n",
       "<style scoped>\n",
       "    .dataframe tbody tr th:only-of-type {\n",
       "        vertical-align: middle;\n",
       "    }\n",
       "\n",
       "    .dataframe tbody tr th {\n",
       "        vertical-align: top;\n",
       "    }\n",
       "\n",
       "    .dataframe thead th {\n",
       "        text-align: right;\n",
       "    }\n",
       "</style>\n",
       "<table border=\"1\" class=\"dataframe\">\n",
       "  <thead>\n",
       "    <tr style=\"text-align: right;\">\n",
       "      <th></th>\n",
       "      <th>CustomerID</th>\n",
       "      <th>Gender</th>\n",
       "      <th>Age</th>\n",
       "      <th>Annual Income (k$)</th>\n",
       "      <th>Spending Score (1-100)</th>\n",
       "    </tr>\n",
       "  </thead>\n",
       "  <tbody>\n",
       "    <tr>\n",
       "      <th>0</th>\n",
       "      <td>1</td>\n",
       "      <td>Male</td>\n",
       "      <td>19</td>\n",
       "      <td>15</td>\n",
       "      <td>39</td>\n",
       "    </tr>\n",
       "    <tr>\n",
       "      <th>1</th>\n",
       "      <td>2</td>\n",
       "      <td>Male</td>\n",
       "      <td>21</td>\n",
       "      <td>15</td>\n",
       "      <td>81</td>\n",
       "    </tr>\n",
       "    <tr>\n",
       "      <th>2</th>\n",
       "      <td>3</td>\n",
       "      <td>Female</td>\n",
       "      <td>20</td>\n",
       "      <td>16</td>\n",
       "      <td>6</td>\n",
       "    </tr>\n",
       "    <tr>\n",
       "      <th>3</th>\n",
       "      <td>4</td>\n",
       "      <td>Female</td>\n",
       "      <td>23</td>\n",
       "      <td>16</td>\n",
       "      <td>77</td>\n",
       "    </tr>\n",
       "    <tr>\n",
       "      <th>4</th>\n",
       "      <td>5</td>\n",
       "      <td>Female</td>\n",
       "      <td>31</td>\n",
       "      <td>17</td>\n",
       "      <td>40</td>\n",
       "    </tr>\n",
       "  </tbody>\n",
       "</table>\n",
       "</div>"
      ],
      "text/plain": [
       "   CustomerID  Gender  Age  Annual Income (k$)  Spending Score (1-100)\n",
       "0           1    Male   19                  15                      39\n",
       "1           2    Male   21                  15                      81\n",
       "2           3  Female   20                  16                       6\n",
       "3           4  Female   23                  16                      77\n",
       "4           5  Female   31                  17                      40"
      ]
     },
     "execution_count": 154,
     "metadata": {},
     "output_type": "execute_result"
    }
   ],
   "source": [
    "df.head()"
   ]
  },
  {
   "cell_type": "code",
   "execution_count": 155,
   "id": "2bc02e36",
   "metadata": {},
   "outputs": [
    {
     "data": {
      "text/html": [
       "<div>\n",
       "<style scoped>\n",
       "    .dataframe tbody tr th:only-of-type {\n",
       "        vertical-align: middle;\n",
       "    }\n",
       "\n",
       "    .dataframe tbody tr th {\n",
       "        vertical-align: top;\n",
       "    }\n",
       "\n",
       "    .dataframe thead th {\n",
       "        text-align: right;\n",
       "    }\n",
       "</style>\n",
       "<table border=\"1\" class=\"dataframe\">\n",
       "  <thead>\n",
       "    <tr style=\"text-align: right;\">\n",
       "      <th></th>\n",
       "      <th>CustomerID</th>\n",
       "      <th>Gender</th>\n",
       "      <th>Age</th>\n",
       "      <th>Annual Income (k$)</th>\n",
       "      <th>Spending Score (1-100)</th>\n",
       "    </tr>\n",
       "  </thead>\n",
       "  <tbody>\n",
       "    <tr>\n",
       "      <th>195</th>\n",
       "      <td>196</td>\n",
       "      <td>Female</td>\n",
       "      <td>35</td>\n",
       "      <td>120</td>\n",
       "      <td>79</td>\n",
       "    </tr>\n",
       "    <tr>\n",
       "      <th>196</th>\n",
       "      <td>197</td>\n",
       "      <td>Female</td>\n",
       "      <td>45</td>\n",
       "      <td>126</td>\n",
       "      <td>28</td>\n",
       "    </tr>\n",
       "    <tr>\n",
       "      <th>197</th>\n",
       "      <td>198</td>\n",
       "      <td>Male</td>\n",
       "      <td>32</td>\n",
       "      <td>126</td>\n",
       "      <td>74</td>\n",
       "    </tr>\n",
       "    <tr>\n",
       "      <th>198</th>\n",
       "      <td>199</td>\n",
       "      <td>Male</td>\n",
       "      <td>32</td>\n",
       "      <td>137</td>\n",
       "      <td>18</td>\n",
       "    </tr>\n",
       "    <tr>\n",
       "      <th>199</th>\n",
       "      <td>200</td>\n",
       "      <td>Male</td>\n",
       "      <td>30</td>\n",
       "      <td>137</td>\n",
       "      <td>83</td>\n",
       "    </tr>\n",
       "  </tbody>\n",
       "</table>\n",
       "</div>"
      ],
      "text/plain": [
       "     CustomerID  Gender  Age  Annual Income (k$)  Spending Score (1-100)\n",
       "195         196  Female   35                 120                      79\n",
       "196         197  Female   45                 126                      28\n",
       "197         198    Male   32                 126                      74\n",
       "198         199    Male   32                 137                      18\n",
       "199         200    Male   30                 137                      83"
      ]
     },
     "execution_count": 155,
     "metadata": {},
     "output_type": "execute_result"
    }
   ],
   "source": [
    "df.tail()"
   ]
  },
  {
   "cell_type": "code",
   "execution_count": 156,
   "id": "3046bab5",
   "metadata": {},
   "outputs": [
    {
     "data": {
      "text/html": [
       "<div>\n",
       "<style scoped>\n",
       "    .dataframe tbody tr th:only-of-type {\n",
       "        vertical-align: middle;\n",
       "    }\n",
       "\n",
       "    .dataframe tbody tr th {\n",
       "        vertical-align: top;\n",
       "    }\n",
       "\n",
       "    .dataframe thead th {\n",
       "        text-align: right;\n",
       "    }\n",
       "</style>\n",
       "<table border=\"1\" class=\"dataframe\">\n",
       "  <thead>\n",
       "    <tr style=\"text-align: right;\">\n",
       "      <th></th>\n",
       "      <th>CustomerID</th>\n",
       "      <th>Age</th>\n",
       "      <th>Annual Income (k$)</th>\n",
       "      <th>Spending Score (1-100)</th>\n",
       "    </tr>\n",
       "  </thead>\n",
       "  <tbody>\n",
       "    <tr>\n",
       "      <th>count</th>\n",
       "      <td>200.000000</td>\n",
       "      <td>200.000000</td>\n",
       "      <td>200.000000</td>\n",
       "      <td>200.000000</td>\n",
       "    </tr>\n",
       "    <tr>\n",
       "      <th>mean</th>\n",
       "      <td>100.500000</td>\n",
       "      <td>38.850000</td>\n",
       "      <td>60.560000</td>\n",
       "      <td>50.200000</td>\n",
       "    </tr>\n",
       "    <tr>\n",
       "      <th>std</th>\n",
       "      <td>57.879185</td>\n",
       "      <td>13.969007</td>\n",
       "      <td>26.264721</td>\n",
       "      <td>25.823522</td>\n",
       "    </tr>\n",
       "    <tr>\n",
       "      <th>min</th>\n",
       "      <td>1.000000</td>\n",
       "      <td>18.000000</td>\n",
       "      <td>15.000000</td>\n",
       "      <td>1.000000</td>\n",
       "    </tr>\n",
       "    <tr>\n",
       "      <th>25%</th>\n",
       "      <td>50.750000</td>\n",
       "      <td>28.750000</td>\n",
       "      <td>41.500000</td>\n",
       "      <td>34.750000</td>\n",
       "    </tr>\n",
       "    <tr>\n",
       "      <th>50%</th>\n",
       "      <td>100.500000</td>\n",
       "      <td>36.000000</td>\n",
       "      <td>61.500000</td>\n",
       "      <td>50.000000</td>\n",
       "    </tr>\n",
       "    <tr>\n",
       "      <th>75%</th>\n",
       "      <td>150.250000</td>\n",
       "      <td>49.000000</td>\n",
       "      <td>78.000000</td>\n",
       "      <td>73.000000</td>\n",
       "    </tr>\n",
       "    <tr>\n",
       "      <th>max</th>\n",
       "      <td>200.000000</td>\n",
       "      <td>70.000000</td>\n",
       "      <td>137.000000</td>\n",
       "      <td>99.000000</td>\n",
       "    </tr>\n",
       "  </tbody>\n",
       "</table>\n",
       "</div>"
      ],
      "text/plain": [
       "       CustomerID         Age  Annual Income (k$)  Spending Score (1-100)\n",
       "count  200.000000  200.000000          200.000000              200.000000\n",
       "mean   100.500000   38.850000           60.560000               50.200000\n",
       "std     57.879185   13.969007           26.264721               25.823522\n",
       "min      1.000000   18.000000           15.000000                1.000000\n",
       "25%     50.750000   28.750000           41.500000               34.750000\n",
       "50%    100.500000   36.000000           61.500000               50.000000\n",
       "75%    150.250000   49.000000           78.000000               73.000000\n",
       "max    200.000000   70.000000          137.000000               99.000000"
      ]
     },
     "execution_count": 156,
     "metadata": {},
     "output_type": "execute_result"
    }
   ],
   "source": [
    "df.describe()"
   ]
  },
  {
   "cell_type": "code",
   "execution_count": 157,
   "id": "853301e4",
   "metadata": {},
   "outputs": [
    {
     "data": {
      "text/plain": [
       "(200, 5)"
      ]
     },
     "execution_count": 157,
     "metadata": {},
     "output_type": "execute_result"
    }
   ],
   "source": [
    "df.shape"
   ]
  },
  {
   "cell_type": "code",
   "execution_count": 158,
   "id": "8285168d",
   "metadata": {},
   "outputs": [
    {
     "data": {
      "text/plain": [
       "CustomerID                 int64\n",
       "Gender                    object\n",
       "Age                        int64\n",
       "Annual Income (k$)         int64\n",
       "Spending Score (1-100)     int64\n",
       "dtype: object"
      ]
     },
     "execution_count": 158,
     "metadata": {},
     "output_type": "execute_result"
    }
   ],
   "source": [
    "df.dtypes"
   ]
  },
  {
   "cell_type": "code",
   "execution_count": 159,
   "id": "7139a0c1",
   "metadata": {},
   "outputs": [
    {
     "data": {
      "text/plain": [
       "Index(['CustomerID', 'Gender', 'Age', 'Annual Income (k$)',\n",
       "       'Spending Score (1-100)'],\n",
       "      dtype='object')"
      ]
     },
     "execution_count": 159,
     "metadata": {},
     "output_type": "execute_result"
    }
   ],
   "source": [
    "df.columns"
   ]
  },
  {
   "cell_type": "code",
   "execution_count": 160,
   "id": "0f92ff78",
   "metadata": {},
   "outputs": [
    {
     "data": {
      "text/plain": [
       "Female    112\n",
       "Male       88\n",
       "Name: Gender, dtype: int64"
      ]
     },
     "execution_count": 160,
     "metadata": {},
     "output_type": "execute_result"
    }
   ],
   "source": [
    "df.Gender.value_counts()"
   ]
  },
  {
   "cell_type": "code",
   "execution_count": 188,
   "id": "8b1159e1",
   "metadata": {},
   "outputs": [
    {
     "data": {
      "image/png": "[encoded data removed]",
      "text/plain": [
       "<Figure size 400x500 with 1 Axes>"
      ]
     },
     "metadata": {},
     "output_type": "display_data"
    }
   ],
   "source": [
    "plt.figure(figsize=(4, 5))\n",
    "sns.histplot(df['Gender'])\n",
    "plt.title('Histogram of Gender')\n",
    "plt.xlabel('Gender')\n",
    "plt.ylabel('Frequency')\n",
    "plt.show()"
   ]
  },
  {
   "cell_type": "code",
   "execution_count": 189,
   "id": "5608482a",
   "metadata": {},
   "outputs": [
    {
     "data": {
      "image/png": "[encoded data removed]",
      "text/plain": [
       "<Figure size 640x480 with 1 Axes>"
      ]
     },
     "metadata": {},
     "output_type": "display_data"
    }
   ],
   "source": [
    "sns.scatterplot(x = 'Annual Income (k$)', y = 'Spending Score (1-100)', data = df)\n",
    "plt.xlabel('Annual Income')\n",
    "plt.ylabel('Spending Score')\n",
    "plt.show()"
   ]
  },
  {
   "cell_type": "code",
   "execution_count": null,
   "id": "cb6c5f9f",
   "metadata": {},
   "outputs": [],
   "source": [
    "#The number of female shoppers is higher.\n",
    "#Compared to Males the mall has more customers who are Female.\n",
    "#People whose Annual Income ranges between 40 - 70 have a spending score of >=40\n"
   ]
  },
  {
   "cell_type": "code",
   "execution_count": 163,
   "id": "6f51ca0f",
   "metadata": {},
   "outputs": [],
   "source": [
    "df = df.drop(columns=['CustomerID'])"
   ]
  },
  {
   "cell_type": "code",
   "execution_count": 164,
   "id": "55446d83",
   "metadata": {},
   "outputs": [
    {
     "data": {
      "text/plain": [
       "(200, 4)"
      ]
     },
     "execution_count": 164,
     "metadata": {},
     "output_type": "execute_result"
    }
   ],
   "source": [
    "df.shape"
   ]
  },
  {
   "cell_type": "code",
   "execution_count": 165,
   "id": "4ffcda41",
   "metadata": {},
   "outputs": [],
   "source": [
    "df = df.dropna()"
   ]
  },
  {
   "cell_type": "code",
   "execution_count": 166,
   "id": "78e923b4",
   "metadata": {},
   "outputs": [
    {
     "data": {
      "text/plain": [
       "(200, 4)"
      ]
     },
     "execution_count": 166,
     "metadata": {},
     "output_type": "execute_result"
    }
   ],
   "source": [
    "df.shape"
   ]
  },
  {
   "cell_type": "code",
   "execution_count": 167,
   "id": "e64edcba",
   "metadata": {},
   "outputs": [
    {
     "data": {
      "text/html": [
       "<div>\n",
       "<style scoped>\n",
       "    .dataframe tbody tr th:only-of-type {\n",
       "        vertical-align: middle;\n",
       "    }\n",
       "\n",
       "    .dataframe tbody tr th {\n",
       "        vertical-align: top;\n",
       "    }\n",
       "\n",
       "    .dataframe thead th {\n",
       "        text-align: right;\n",
       "    }\n",
       "</style>\n",
       "<table border=\"1\" class=\"dataframe\">\n",
       "  <thead>\n",
       "    <tr style=\"text-align: right;\">\n",
       "      <th></th>\n",
       "      <th>Age</th>\n",
       "      <th>Annual Income (k$)</th>\n",
       "      <th>Spending Score (1-100)</th>\n",
       "    </tr>\n",
       "  </thead>\n",
       "  <tbody>\n",
       "    <tr>\n",
       "      <th>0</th>\n",
       "      <td>19</td>\n",
       "      <td>15</td>\n",
       "      <td>39</td>\n",
       "    </tr>\n",
       "    <tr>\n",
       "      <th>1</th>\n",
       "      <td>21</td>\n",
       "      <td>15</td>\n",
       "      <td>81</td>\n",
       "    </tr>\n",
       "    <tr>\n",
       "      <th>2</th>\n",
       "      <td>20</td>\n",
       "      <td>16</td>\n",
       "      <td>6</td>\n",
       "    </tr>\n",
       "    <tr>\n",
       "      <th>3</th>\n",
       "      <td>23</td>\n",
       "      <td>16</td>\n",
       "      <td>77</td>\n",
       "    </tr>\n",
       "    <tr>\n",
       "      <th>4</th>\n",
       "      <td>31</td>\n",
       "      <td>17</td>\n",
       "      <td>40</td>\n",
       "    </tr>\n",
       "  </tbody>\n",
       "</table>\n",
       "</div>"
      ],
      "text/plain": [
       "   Age  Annual Income (k$)  Spending Score (1-100)\n",
       "0   19                  15                      39\n",
       "1   21                  15                      81\n",
       "2   20                  16                       6\n",
       "3   23                  16                      77\n",
       "4   31                  17                      40"
      ]
     },
     "execution_count": 167,
     "metadata": {},
     "output_type": "execute_result"
    }
   ],
   "source": [
    "df_num = df.select_dtypes(include='number')\n",
    "df_num.head()"
   ]
  },
  {
   "cell_type": "code",
   "execution_count": 168,
   "id": "44be8141",
   "metadata": {},
   "outputs": [],
   "source": [
    "Q1 = df_num.quantile(0.25)\n",
    "Q3 = df_num.quantile(0.75)\n",
    "IQR = Q3 - Q1\n",
    "lower_bound = Q1 - 1.5 * IQR\n",
    "upper_bound = Q3 + 1.5 * IQR"
   ]
  },
  {
   "cell_type": "code",
   "execution_count": 169,
   "id": "34dd517a",
   "metadata": {},
   "outputs": [
    {
     "data": {
      "text/plain": [
       "Age                       -1.625\n",
       "Annual Income (k$)       -13.250\n",
       "Spending Score (1-100)   -22.625\n",
       "dtype: float64"
      ]
     },
     "execution_count": 169,
     "metadata": {},
     "output_type": "execute_result"
    }
   ],
   "source": [
    "lower_bound"
   ]
  },
  {
   "cell_type": "code",
   "execution_count": 170,
   "id": "653e29ab",
   "metadata": {},
   "outputs": [],
   "source": [
    "df = df[~((df_num < lower_bound) | (df_num > upper_bound)).any(axis=1)]"
   ]
  },
  {
   "cell_type": "code",
   "execution_count": 171,
   "id": "32b795ec",
   "metadata": {},
   "outputs": [
    {
     "data": {
      "text/plain": [
       "(198, 4)"
      ]
     },
     "execution_count": 171,
     "metadata": {},
     "output_type": "execute_result"
    }
   ],
   "source": [
    "df.shape"
   ]
  },
  {
   "cell_type": "code",
   "execution_count": 207,
   "id": "48ac48e3",
   "metadata": {},
   "outputs": [
    {
     "data": {
      "text/plain": [
       "<Axes: xlabel='Age'>"
      ]
     },
     "execution_count": 207,
     "metadata": {},
     "output_type": "execute_result"
    },
    {
     "data": {
      "image/png": "[encoded data removed]",
      "text/plain": [
       "<Figure size 640x480 with 1 Axes>"
      ]
     },
     "metadata": {},
     "output_type": "display_data"
    }
   ],
   "source": [
    "sns.boxplot(x=df['Age'])"
   ]
  },
  {
   "cell_type": "code",
   "execution_count": 191,
   "id": "2fee4f1b",
   "metadata": {},
   "outputs": [
    {
     "data": {
      "text/plain": [
       "(198, 3)"
      ]
     },
     "execution_count": 191,
     "metadata": {},
     "output_type": "execute_result"
    }
   ],
   "source": [
    "df_num = df.select_dtypes('number')\n",
    "df_num.shape"
   ]
  },
  {
   "cell_type": "code",
   "execution_count": 208,
   "id": "a9ca3e80",
   "metadata": {},
   "outputs": [
    {
     "data": {
      "text/html": [
       "<div>\n",
       "<style scoped>\n",
       "    .dataframe tbody tr th:only-of-type {\n",
       "        vertical-align: middle;\n",
       "    }\n",
       "\n",
       "    .dataframe tbody tr th {\n",
       "        vertical-align: top;\n",
       "    }\n",
       "\n",
       "    .dataframe thead th {\n",
       "        text-align: right;\n",
       "    }\n",
       "</style>\n",
       "<table border=\"1\" class=\"dataframe\">\n",
       "  <thead>\n",
       "    <tr style=\"text-align: right;\">\n",
       "      <th></th>\n",
       "      <th>Gender</th>\n",
       "      <th>Annual Income (k$)</th>\n",
       "      <th>Spending Score (1-100)</th>\n",
       "    </tr>\n",
       "  </thead>\n",
       "  <tbody>\n",
       "    <tr>\n",
       "      <th>0</th>\n",
       "      <td>Male</td>\n",
       "      <td>15</td>\n",
       "      <td>39</td>\n",
       "    </tr>\n",
       "    <tr>\n",
       "      <th>1</th>\n",
       "      <td>Male</td>\n",
       "      <td>15</td>\n",
       "      <td>81</td>\n",
       "    </tr>\n",
       "    <tr>\n",
       "      <th>2</th>\n",
       "      <td>Female</td>\n",
       "      <td>16</td>\n",
       "      <td>6</td>\n",
       "    </tr>\n",
       "    <tr>\n",
       "      <th>3</th>\n",
       "      <td>Female</td>\n",
       "      <td>16</td>\n",
       "      <td>77</td>\n",
       "    </tr>\n",
       "    <tr>\n",
       "      <th>4</th>\n",
       "      <td>Female</td>\n",
       "      <td>17</td>\n",
       "      <td>40</td>\n",
       "    </tr>\n",
       "  </tbody>\n",
       "</table>\n",
       "</div>"
      ],
      "text/plain": [
       "   Gender  Annual Income (k$)  Spending Score (1-100)\n",
       "0    Male                  15                      39\n",
       "1    Male                  15                      81\n",
       "2  Female                  16                       6\n",
       "3  Female                  16                      77\n",
       "4  Female                  17                      40"
      ]
     },
     "execution_count": 208,
     "metadata": {},
     "output_type": "execute_result"
    }
   ],
   "source": [
    "X = df.drop('Age', axis=1)\n",
    "y = df['Age']\n",
    "X.head()"
   ]
  },
  {
   "cell_type": "code",
   "execution_count": 209,
   "id": "a3b59d32",
   "metadata": {},
   "outputs": [
    {
     "data": {
      "text/html": [
       "<div>\n",
       "<style scoped>\n",
       "    .dataframe tbody tr th:only-of-type {\n",
       "        vertical-align: middle;\n",
       "    }\n",
       "\n",
       "    .dataframe tbody tr th {\n",
       "        vertical-align: top;\n",
       "    }\n",
       "\n",
       "    .dataframe thead th {\n",
       "        text-align: right;\n",
       "    }\n",
       "</style>\n",
       "<table border=\"1\" class=\"dataframe\">\n",
       "  <thead>\n",
       "    <tr style=\"text-align: right;\">\n",
       "      <th></th>\n",
       "      <th>Annual Income (k$)</th>\n",
       "      <th>Spending Score (1-100)</th>\n",
       "    </tr>\n",
       "  </thead>\n",
       "  <tbody>\n",
       "    <tr>\n",
       "      <th>0</th>\n",
       "      <td>15</td>\n",
       "      <td>39</td>\n",
       "    </tr>\n",
       "    <tr>\n",
       "      <th>1</th>\n",
       "      <td>15</td>\n",
       "      <td>81</td>\n",
       "    </tr>\n",
       "    <tr>\n",
       "      <th>2</th>\n",
       "      <td>16</td>\n",
       "      <td>6</td>\n",
       "    </tr>\n",
       "    <tr>\n",
       "      <th>3</th>\n",
       "      <td>16</td>\n",
       "      <td>77</td>\n",
       "    </tr>\n",
       "    <tr>\n",
       "      <th>4</th>\n",
       "      <td>17</td>\n",
       "      <td>40</td>\n",
       "    </tr>\n",
       "  </tbody>\n",
       "</table>\n",
       "</div>"
      ],
      "text/plain": [
       "   Annual Income (k$)  Spending Score (1-100)\n",
       "0                  15                      39\n",
       "1                  15                      81\n",
       "2                  16                       6\n",
       "3                  16                      77\n",
       "4                  17                      40"
      ]
     },
     "execution_count": 209,
     "metadata": {},
     "output_type": "execute_result"
    }
   ],
   "source": [
    "X_num = X.select_dtypes('number')\n",
    "X_num.head()"
   ]
  },
  {
   "cell_type": "code",
   "execution_count": 210,
   "id": "00f2dfbf",
   "metadata": {},
   "outputs": [
    {
     "data": {
      "text/html": [
       "<div>\n",
       "<style scoped>\n",
       "    .dataframe tbody tr th:only-of-type {\n",
       "        vertical-align: middle;\n",
       "    }\n",
       "\n",
       "    .dataframe tbody tr th {\n",
       "        vertical-align: top;\n",
       "    }\n",
       "\n",
       "    .dataframe thead th {\n",
       "        text-align: right;\n",
       "    }\n",
       "</style>\n",
       "<table border=\"1\" class=\"dataframe\">\n",
       "  <thead>\n",
       "    <tr style=\"text-align: right;\">\n",
       "      <th></th>\n",
       "      <th>Gender</th>\n",
       "    </tr>\n",
       "  </thead>\n",
       "  <tbody>\n",
       "    <tr>\n",
       "      <th>0</th>\n",
       "      <td>Male</td>\n",
       "    </tr>\n",
       "    <tr>\n",
       "      <th>1</th>\n",
       "      <td>Male</td>\n",
       "    </tr>\n",
       "    <tr>\n",
       "      <th>2</th>\n",
       "      <td>Female</td>\n",
       "    </tr>\n",
       "    <tr>\n",
       "      <th>3</th>\n",
       "      <td>Female</td>\n",
       "    </tr>\n",
       "    <tr>\n",
       "      <th>4</th>\n",
       "      <td>Female</td>\n",
       "    </tr>\n",
       "  </tbody>\n",
       "</table>\n",
       "</div>"
      ],
      "text/plain": [
       "   Gender\n",
       "0    Male\n",
       "1    Male\n",
       "2  Female\n",
       "3  Female\n",
       "4  Female"
      ]
     },
     "execution_count": 210,
     "metadata": {},
     "output_type": "execute_result"
    }
   ],
   "source": [
    "X_cat = X.select_dtypes('object')\n",
    "X_cat.head()"
   ]
  },
  {
   "cell_type": "code",
   "execution_count": 211,
   "id": "5ce92b86",
   "metadata": {},
   "outputs": [],
   "source": [
    "scaler = MinMaxScaler()\n",
    "X_num_scaled = scaler.fit_transform(X_num)"
   ]
  },
  {
   "cell_type": "code",
   "execution_count": 212,
   "id": "74eed120",
   "metadata": {},
   "outputs": [
    {
     "data": {
      "text/plain": [
       "numpy.ndarray"
      ]
     },
     "execution_count": 212,
     "metadata": {},
     "output_type": "execute_result"
    }
   ],
   "source": [
    "type(X_num_scaled)"
   ]
  },
  {
   "cell_type": "code",
   "execution_count": 213,
   "id": "2e1139a7",
   "metadata": {},
   "outputs": [],
   "source": [
    "X_num_scaled = pd.DataFrame(X_num_scaled, columns=X_num.columns, index=X_num.index)"
   ]
  },
  {
   "cell_type": "code",
   "execution_count": 214,
   "id": "95a74e5d",
   "metadata": {},
   "outputs": [
    {
     "data": {
      "text/html": [
       "<div>\n",
       "<style scoped>\n",
       "    .dataframe tbody tr th:only-of-type {\n",
       "        vertical-align: middle;\n",
       "    }\n",
       "\n",
       "    .dataframe tbody tr th {\n",
       "        vertical-align: top;\n",
       "    }\n",
       "\n",
       "    .dataframe thead th {\n",
       "        text-align: right;\n",
       "    }\n",
       "</style>\n",
       "<table border=\"1\" class=\"dataframe\">\n",
       "  <thead>\n",
       "    <tr style=\"text-align: right;\">\n",
       "      <th></th>\n",
       "      <th>Annual Income (k$)</th>\n",
       "      <th>Spending Score (1-100)</th>\n",
       "    </tr>\n",
       "  </thead>\n",
       "  <tbody>\n",
       "    <tr>\n",
       "      <th>count</th>\n",
       "      <td>198.000000</td>\n",
       "      <td>198.000000</td>\n",
       "    </tr>\n",
       "    <tr>\n",
       "      <th>mean</th>\n",
       "      <td>0.403494</td>\n",
       "      <td>0.502010</td>\n",
       "    </tr>\n",
       "    <tr>\n",
       "      <th>std</th>\n",
       "      <td>0.227363</td>\n",
       "      <td>0.262723</td>\n",
       "    </tr>\n",
       "    <tr>\n",
       "      <th>min</th>\n",
       "      <td>0.000000</td>\n",
       "      <td>0.000000</td>\n",
       "    </tr>\n",
       "    <tr>\n",
       "      <th>25%</th>\n",
       "      <td>0.229730</td>\n",
       "      <td>0.346939</td>\n",
       "    </tr>\n",
       "    <tr>\n",
       "      <th>50%</th>\n",
       "      <td>0.414414</td>\n",
       "      <td>0.500000</td>\n",
       "    </tr>\n",
       "    <tr>\n",
       "      <th>75%</th>\n",
       "      <td>0.565315</td>\n",
       "      <td>0.732143</td>\n",
       "    </tr>\n",
       "    <tr>\n",
       "      <th>max</th>\n",
       "      <td>1.000000</td>\n",
       "      <td>1.000000</td>\n",
       "    </tr>\n",
       "  </tbody>\n",
       "</table>\n",
       "</div>"
      ],
      "text/plain": [
       "       Annual Income (k$)  Spending Score (1-100)\n",
       "count          198.000000              198.000000\n",
       "mean             0.403494                0.502010\n",
       "std              0.227363                0.262723\n",
       "min              0.000000                0.000000\n",
       "25%              0.229730                0.346939\n",
       "50%              0.414414                0.500000\n",
       "75%              0.565315                0.732143\n",
       "max              1.000000                1.000000"
      ]
     },
     "execution_count": 214,
     "metadata": {},
     "output_type": "execute_result"
    }
   ],
   "source": [
    "X_num_scaled.describe()"
   ]
  },
  {
   "cell_type": "code",
   "execution_count": 215,
   "id": "5719049d",
   "metadata": {},
   "outputs": [],
   "source": [
    "X_cat_encoded = pd.get_dummies(X_cat, drop_first=False, dtype=int) "
   ]
  },
  {
   "cell_type": "code",
   "execution_count": 216,
   "id": "3d56c67d",
   "metadata": {},
   "outputs": [],
   "source": [
    "X = pd.concat([X_num_scaled, X_cat_encoded], axis=1)"
   ]
  },
  {
   "cell_type": "code",
   "execution_count": 217,
   "id": "6e0a6aae",
   "metadata": {},
   "outputs": [
    {
     "data": {
      "text/plain": [
       "((198, 4), (198, 2), (198, 2))"
      ]
     },
     "execution_count": 217,
     "metadata": {},
     "output_type": "execute_result"
    }
   ],
   "source": [
    " X.shape, X_num_scaled.shape, X_cat_encoded.shape"
   ]
  },
  {
   "cell_type": "code",
   "execution_count": 218,
   "id": "3b3624b5",
   "metadata": {},
   "outputs": [
    {
     "name": "stdout",
     "output_type": "stream",
     "text": [
      "\n",
      "Step 7: Checking for NAs and Shape Compatibility\n",
      "Annual Income (k$)        0\n",
      "Spending Score (1-100)    0\n",
      "Gender_Female             0\n",
      "Gender_Male               0\n",
      "dtype: int64\n",
      "0\n",
      "(198, 4)\n",
      "(198,)\n"
     ]
    }
   ],
   "source": [
    "print(\"\\nStep 7: Checking for NAs and Shape Compatibility\")\n",
    "print(X.isnull().sum())\n",
    "print(y.isnull().sum())\n",
    "print(X.shape)\n",
    "print(y.shape)"
   ]
  },
  {
   "cell_type": "code",
   "execution_count": 219,
   "id": "5cf3ee4f",
   "metadata": {},
   "outputs": [
    {
     "data": {
      "text/html": [
       "<div>\n",
       "<style scoped>\n",
       "    .dataframe tbody tr th:only-of-type {\n",
       "        vertical-align: middle;\n",
       "    }\n",
       "\n",
       "    .dataframe tbody tr th {\n",
       "        vertical-align: top;\n",
       "    }\n",
       "\n",
       "    .dataframe thead th {\n",
       "        text-align: right;\n",
       "    }\n",
       "</style>\n",
       "<table border=\"1\" class=\"dataframe\">\n",
       "  <thead>\n",
       "    <tr style=\"text-align: right;\">\n",
       "      <th></th>\n",
       "      <th>Annual Income (k$)</th>\n",
       "      <th>Spending Score (1-100)</th>\n",
       "      <th>Gender_Female</th>\n",
       "      <th>Gender_Male</th>\n",
       "    </tr>\n",
       "  </thead>\n",
       "  <tbody>\n",
       "    <tr>\n",
       "      <th>count</th>\n",
       "      <td>198.000000</td>\n",
       "      <td>198.000000</td>\n",
       "      <td>198.000000</td>\n",
       "      <td>198.000000</td>\n",
       "    </tr>\n",
       "    <tr>\n",
       "      <th>mean</th>\n",
       "      <td>0.403494</td>\n",
       "      <td>0.502010</td>\n",
       "      <td>0.565657</td>\n",
       "      <td>0.434343</td>\n",
       "    </tr>\n",
       "    <tr>\n",
       "      <th>std</th>\n",
       "      <td>0.227363</td>\n",
       "      <td>0.262723</td>\n",
       "      <td>0.496927</td>\n",
       "      <td>0.496927</td>\n",
       "    </tr>\n",
       "    <tr>\n",
       "      <th>min</th>\n",
       "      <td>0.000000</td>\n",
       "      <td>0.000000</td>\n",
       "      <td>0.000000</td>\n",
       "      <td>0.000000</td>\n",
       "    </tr>\n",
       "    <tr>\n",
       "      <th>25%</th>\n",
       "      <td>0.229730</td>\n",
       "      <td>0.346939</td>\n",
       "      <td>0.000000</td>\n",
       "      <td>0.000000</td>\n",
       "    </tr>\n",
       "    <tr>\n",
       "      <th>50%</th>\n",
       "      <td>0.414414</td>\n",
       "      <td>0.500000</td>\n",
       "      <td>1.000000</td>\n",
       "      <td>0.000000</td>\n",
       "    </tr>\n",
       "    <tr>\n",
       "      <th>75%</th>\n",
       "      <td>0.565315</td>\n",
       "      <td>0.732143</td>\n",
       "      <td>1.000000</td>\n",
       "      <td>1.000000</td>\n",
       "    </tr>\n",
       "    <tr>\n",
       "      <th>max</th>\n",
       "      <td>1.000000</td>\n",
       "      <td>1.000000</td>\n",
       "      <td>1.000000</td>\n",
       "      <td>1.000000</td>\n",
       "    </tr>\n",
       "  </tbody>\n",
       "</table>\n",
       "</div>"
      ],
      "text/plain": [
       "       Annual Income (k$)  Spending Score (1-100)  Gender_Female  Gender_Male\n",
       "count          198.000000              198.000000     198.000000   198.000000\n",
       "mean             0.403494                0.502010       0.565657     0.434343\n",
       "std              0.227363                0.262723       0.496927     0.496927\n",
       "min              0.000000                0.000000       0.000000     0.000000\n",
       "25%              0.229730                0.346939       0.000000     0.000000\n",
       "50%              0.414414                0.500000       1.000000     0.000000\n",
       "75%              0.565315                0.732143       1.000000     1.000000\n",
       "max              1.000000                1.000000       1.000000     1.000000"
      ]
     },
     "execution_count": 219,
     "metadata": {},
     "output_type": "execute_result"
    }
   ],
   "source": [
    "X.describe()"
   ]
  },
  {
   "cell_type": "code",
   "execution_count": 220,
   "id": "7c6150ab",
   "metadata": {},
   "outputs": [],
   "source": [
    "X_train, X_test, y_train, y_test = train_test_split(X, y, test_size=0.2, random_state=42)"
   ]
  },
  {
   "cell_type": "code",
   "execution_count": 221,
   "id": "4e390178",
   "metadata": {},
   "outputs": [
    {
     "name": "stdout",
     "output_type": "stream",
     "text": [
      "(158, 4)\n",
      "(40, 4)\n",
      "(158,)\n",
      "(40,)\n"
     ]
    }
   ],
   "source": [
    "print(X_train.shape)\n",
    "print(X_test.shape)\n",
    "print(y_train.shape) \n",
    "print(y_test.shape)"
   ]
  },
  {
   "cell_type": "code",
   "execution_count": null,
   "id": "7a39a6bf",
   "metadata": {},
   "outputs": [],
   "source": [
    "#The above code is fed into the model to get age of the customer as the output.\n",
    "#All of the customers that are listed in the file are adults."
   ]
  },
  {
   "cell_type": "code",
   "execution_count": null,
   "id": "f76a53cc",
   "metadata": {},
   "outputs": [],
   "source": []
  }
 ],
 "metadata": {
  "kernelspec": {
   "display_name": "Python 3 (ipykernel)",
   "language": "python",
   "name": "python3"
  },
  "language_info": {
   "codemirror_mode": {
    "name": "ipython",
    "version": 3
   },
   "file_extension": ".py",
   "mimetype": "text/x-python",
   "name": "python",
   "nbconvert_exporter": "python",
   "pygments_lexer": "ipython3",
   "version": "3.11.3"
  }
 },
 "nbformat": 4,
 "nbformat_minor": 5
}
