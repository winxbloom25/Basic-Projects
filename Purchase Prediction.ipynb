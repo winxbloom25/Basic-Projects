{
 "cells": [
  {
   "cell_type": "code",
   "execution_count": 36,
   "id": "1de64462",
   "metadata": {},
   "outputs": [],
   "source": [
    "import numpy as np\n",
    "import pandas as pd\n",
    "import matplotlib.pyplot as plt\n",
    "from sklearn.model_selection import train_test_split\n",
    "from sklearn.preprocessing import StandardScaler\n",
    "from sklearn.neighbors import KNeighborsClassifier\n",
    "from sklearn.metrics import accuracy_score\n",
    "from sklearn.metrics import confusion_matrix"
   ]
  },
  {
   "cell_type": "code",
   "execution_count": 2,
   "id": "e44ce42b",
   "metadata": {},
   "outputs": [],
   "source": [
    "df = pd.read_csv('Social_Network_Ads.csv')"
   ]
  },
  {
   "cell_type": "code",
   "execution_count": 3,
   "id": "db1c3b8f",
   "metadata": {},
   "outputs": [
    {
     "data": {
      "text/html": [
       "<div>\n",
       "<style scoped>\n",
       "    .dataframe tbody tr th:only-of-type {\n",
       "        vertical-align: middle;\n",
       "    }\n",
       "\n",
       "    .dataframe tbody tr th {\n",
       "        vertical-align: top;\n",
       "    }\n",
       "\n",
       "    .dataframe thead th {\n",
       "        text-align: right;\n",
       "    }\n",
       "</style>\n",
       "<table border=\"1\" class=\"dataframe\">\n",
       "  <thead>\n",
       "    <tr style=\"text-align: right;\">\n",
       "      <th></th>\n",
       "      <th>Age</th>\n",
       "      <th>EstimatedSalary</th>\n",
       "      <th>Purchased</th>\n",
       "    </tr>\n",
       "  </thead>\n",
       "  <tbody>\n",
       "    <tr>\n",
       "      <th>0</th>\n",
       "      <td>19</td>\n",
       "      <td>19000</td>\n",
       "      <td>0</td>\n",
       "    </tr>\n",
       "    <tr>\n",
       "      <th>1</th>\n",
       "      <td>35</td>\n",
       "      <td>20000</td>\n",
       "      <td>0</td>\n",
       "    </tr>\n",
       "    <tr>\n",
       "      <th>2</th>\n",
       "      <td>26</td>\n",
       "      <td>43000</td>\n",
       "      <td>0</td>\n",
       "    </tr>\n",
       "    <tr>\n",
       "      <th>3</th>\n",
       "      <td>27</td>\n",
       "      <td>57000</td>\n",
       "      <td>0</td>\n",
       "    </tr>\n",
       "    <tr>\n",
       "      <th>4</th>\n",
       "      <td>19</td>\n",
       "      <td>76000</td>\n",
       "      <td>0</td>\n",
       "    </tr>\n",
       "  </tbody>\n",
       "</table>\n",
       "</div>"
      ],
      "text/plain": [
       "   Age  EstimatedSalary  Purchased\n",
       "0   19            19000          0\n",
       "1   35            20000          0\n",
       "2   26            43000          0\n",
       "3   27            57000          0\n",
       "4   19            76000          0"
      ]
     },
     "execution_count": 3,
     "metadata": {},
     "output_type": "execute_result"
    }
   ],
   "source": [
    "df.head()"
   ]
  },
  {
   "cell_type": "code",
   "execution_count": 4,
   "id": "84d6cfcc",
   "metadata": {},
   "outputs": [
    {
     "data": {
      "text/plain": [
       "(400, 3)"
      ]
     },
     "execution_count": 4,
     "metadata": {},
     "output_type": "execute_result"
    }
   ],
   "source": [
    "df.shape"
   ]
  },
  {
   "cell_type": "code",
   "execution_count": 6,
   "id": "3d7318a6",
   "metadata": {},
   "outputs": [],
   "source": [
    "X = df.drop('Purchased', axis =1)"
   ]
  },
  {
   "cell_type": "code",
   "execution_count": 7,
   "id": "9486b860",
   "metadata": {},
   "outputs": [
    {
     "data": {
      "text/html": [
       "<div>\n",
       "<style scoped>\n",
       "    .dataframe tbody tr th:only-of-type {\n",
       "        vertical-align: middle;\n",
       "    }\n",
       "\n",
       "    .dataframe tbody tr th {\n",
       "        vertical-align: top;\n",
       "    }\n",
       "\n",
       "    .dataframe thead th {\n",
       "        text-align: right;\n",
       "    }\n",
       "</style>\n",
       "<table border=\"1\" class=\"dataframe\">\n",
       "  <thead>\n",
       "    <tr style=\"text-align: right;\">\n",
       "      <th></th>\n",
       "      <th>Age</th>\n",
       "      <th>EstimatedSalary</th>\n",
       "    </tr>\n",
       "  </thead>\n",
       "  <tbody>\n",
       "    <tr>\n",
       "      <th>0</th>\n",
       "      <td>19</td>\n",
       "      <td>19000</td>\n",
       "    </tr>\n",
       "    <tr>\n",
       "      <th>1</th>\n",
       "      <td>35</td>\n",
       "      <td>20000</td>\n",
       "    </tr>\n",
       "    <tr>\n",
       "      <th>2</th>\n",
       "      <td>26</td>\n",
       "      <td>43000</td>\n",
       "    </tr>\n",
       "    <tr>\n",
       "      <th>3</th>\n",
       "      <td>27</td>\n",
       "      <td>57000</td>\n",
       "    </tr>\n",
       "    <tr>\n",
       "      <th>4</th>\n",
       "      <td>19</td>\n",
       "      <td>76000</td>\n",
       "    </tr>\n",
       "  </tbody>\n",
       "</table>\n",
       "</div>"
      ],
      "text/plain": [
       "   Age  EstimatedSalary\n",
       "0   19            19000\n",
       "1   35            20000\n",
       "2   26            43000\n",
       "3   27            57000\n",
       "4   19            76000"
      ]
     },
     "execution_count": 7,
     "metadata": {},
     "output_type": "execute_result"
    }
   ],
   "source": [
    "X.head()"
   ]
  },
  {
   "cell_type": "code",
   "execution_count": 14,
   "id": "6cd175ca",
   "metadata": {},
   "outputs": [
    {
     "data": {
      "text/plain": [
       "(400, 2)"
      ]
     },
     "execution_count": 14,
     "metadata": {},
     "output_type": "execute_result"
    }
   ],
   "source": [
    "X.shape"
   ]
  },
  {
   "cell_type": "code",
   "execution_count": 8,
   "id": "5c7b454e",
   "metadata": {},
   "outputs": [],
   "source": [
    "y = df['Purchased']"
   ]
  },
  {
   "cell_type": "code",
   "execution_count": 9,
   "id": "afe5095c",
   "metadata": {},
   "outputs": [
    {
     "data": {
      "text/plain": [
       "0    0\n",
       "1    0\n",
       "2    0\n",
       "3    0\n",
       "4    0\n",
       "Name: Purchased, dtype: int64"
      ]
     },
     "execution_count": 9,
     "metadata": {},
     "output_type": "execute_result"
    }
   ],
   "source": [
    "y.head()"
   ]
  },
  {
   "cell_type": "code",
   "execution_count": 12,
   "id": "ce2bb148",
   "metadata": {},
   "outputs": [
    {
     "data": {
      "text/plain": [
       "<bound method Series.info of 0      0\n",
       "1      0\n",
       "2      0\n",
       "3      0\n",
       "4      0\n",
       "      ..\n",
       "395    1\n",
       "396    1\n",
       "397    1\n",
       "398    0\n",
       "399    1\n",
       "Name: Purchased, Length: 400, dtype: int64>"
      ]
     },
     "execution_count": 12,
     "metadata": {},
     "output_type": "execute_result"
    }
   ],
   "source": [
    "y.info"
   ]
  },
  {
   "cell_type": "code",
   "execution_count": 15,
   "id": "9df39d99",
   "metadata": {},
   "outputs": [
    {
     "data": {
      "text/plain": [
       "(400,)"
      ]
     },
     "execution_count": 15,
     "metadata": {},
     "output_type": "execute_result"
    }
   ],
   "source": [
    "y.shape"
   ]
  },
  {
   "cell_type": "code",
   "execution_count": 17,
   "id": "602a2df2",
   "metadata": {},
   "outputs": [],
   "source": [
    "X_train, X_test, y_train, y_test = train_test_split(X , y, test_size = 0.2)"
   ]
  },
  {
   "cell_type": "code",
   "execution_count": 18,
   "id": "9c5e6809",
   "metadata": {},
   "outputs": [
    {
     "data": {
      "text/plain": [
       "(320, 2)"
      ]
     },
     "execution_count": 18,
     "metadata": {},
     "output_type": "execute_result"
    }
   ],
   "source": [
    "X_train.shape"
   ]
  },
  {
   "cell_type": "code",
   "execution_count": 21,
   "id": "442ad770",
   "metadata": {},
   "outputs": [],
   "source": [
    "scaler = StandardScaler()"
   ]
  },
  {
   "cell_type": "code",
   "execution_count": 22,
   "id": "d0c0a122",
   "metadata": {},
   "outputs": [],
   "source": [
    "X_train = scaler.fit_transform(X_train)"
   ]
  },
  {
   "cell_type": "code",
   "execution_count": 23,
   "id": "ab14b6e4",
   "metadata": {},
   "outputs": [
    {
     "data": {
      "text/plain": [
       "array([[ 0.84382059,  0.24527402],\n",
       "       [-1.89058538, -0.07917715],\n",
       "       [ 2.21102358, -0.84606172],\n",
       "       [ 1.03913531,  1.86752986],\n",
       "       [ 2.21102358,  1.10064528],\n",
       "       [ 0.25787646, -0.40362831],\n",
       "       [ 2.01570887,  0.89417636],\n",
       "       [-0.23041032, -0.28564607],\n",
       "       [ 1.7227368 ,  1.60206982],\n",
       "       [-0.03509561, -0.55110612],\n",
       "       [-0.23041032, -1.40647738],\n",
       "       [ 0.35553381, -0.31514163],\n",
       "       [-0.23041032, -0.61009724],\n",
       "       [-1.79292802,  0.15678734],\n",
       "       [-1.69527067, -0.6395928 ],\n",
       "       [-0.32806768,  1.21862753],\n",
       "       [-1.69527067,  0.09779622],\n",
       "       [-1.01166917, -0.37413275],\n",
       "       [-0.52338239,  1.36610533],\n",
       "       [ 0.45319117, -0.02018602],\n",
       "       [ 1.13679266, -0.93454841],\n",
       "       [ 1.52742209,  0.3337607 ],\n",
       "       [ 2.01570887,  0.71720299],\n",
       "       [-0.13275297, -0.22665495],\n",
       "       [ 1.52742209,  2.13298991],\n",
       "       [ 1.03913531,  1.42509645],\n",
       "       [ 0.94147795, -1.08202621],\n",
       "       [-1.30464124, -1.40647738],\n",
       "       [-1.20698389, -1.11152177],\n",
       "       [ 0.1602191 , -0.84606172],\n",
       "       [ 1.52742209,  0.0388051 ],\n",
       "       [-0.91401182, -0.34463719],\n",
       "       [-0.03509561, -1.11152177],\n",
       "       [-0.52338239, -1.55395518],\n",
       "       [ 0.84382059, -0.34463719],\n",
       "       [ 0.84382059,  1.36610533],\n",
       "       [-0.23041032,  1.10064528],\n",
       "       [-1.20698389, -1.43597294],\n",
       "       [ 2.01570887, -1.40647738],\n",
       "       [ 1.03913531,  1.98551211],\n",
       "       [ 0.84382059, -1.14101733],\n",
       "       [-1.4022986 , -0.13816827],\n",
       "       [-1.49995595, -1.55395518],\n",
       "       [-0.23041032, -0.37413275],\n",
       "       [ 0.35553381,  0.00930954],\n",
       "       [ 0.94147795,  1.24812309],\n",
       "       [ 0.45319117, -0.16766383],\n",
       "       [-1.01166917,  0.74669855],\n",
       "       [-1.69527067, -1.40647738],\n",
       "       [ 0.94147795,  2.16248547],\n",
       "       [ 1.82039415,  0.98266304],\n",
       "       [ 0.25787646,  0.12729178],\n",
       "       [ 0.45319117, -0.492115  ],\n",
       "       [-1.4022986 , -0.22665495],\n",
       "       [-0.71869711, -0.25615051],\n",
       "       [ 0.25787646, -0.40362831],\n",
       "       [ 0.74616324, -1.43597294],\n",
       "       [ 0.06256174, -0.61009724],\n",
       "       [-0.52338239,  1.89702542],\n",
       "       [ 0.1602191 , -0.84606172],\n",
       "       [ 0.06256174, -0.28564607],\n",
       "       [-0.23041032,  0.0388051 ],\n",
       "       [ 0.25787646, -0.31514163],\n",
       "       [ 2.21102358,  0.92367192],\n",
       "       [ 0.1602191 ,  0.00930954],\n",
       "       [ 0.55084852,  1.8380343 ],\n",
       "       [-1.69527067,  0.45174295],\n",
       "       [ 0.25787646, -0.28564607],\n",
       "       [ 0.45319117,  2.30996327],\n",
       "       [ 0.06256174,  0.00930954],\n",
       "       [ 0.45319117,  0.27476958],\n",
       "       [-0.23041032,  0.24527402],\n",
       "       [-0.03509561,  0.09779622],\n",
       "       [ 1.82039415,  1.8380343 ],\n",
       "       [ 0.45319117,  0.24527402],\n",
       "       [ 0.06256174,  1.24812309],\n",
       "       [-0.81635446,  2.28046771],\n",
       "       [ 1.13679266, -1.25899958],\n",
       "       [ 0.1602191 ,  0.1862829 ],\n",
       "       [-0.03509561,  0.00930954],\n",
       "       [ 0.1602191 ,  0.12729178],\n",
       "       [-1.79292802, -1.4654685 ],\n",
       "       [ 0.45319117, -0.16766383],\n",
       "       [ 0.84382059,  0.3337607 ],\n",
       "       [ 0.64850588,  2.01500767],\n",
       "       [ 1.13679266, -0.16766383],\n",
       "       [ 0.84382059,  0.09779622],\n",
       "       [ 0.55084852,  1.72005206],\n",
       "       [ 0.1602191 ,  1.86752986],\n",
       "       [-0.62103975,  0.00930954],\n",
       "       [-0.91401182, -0.46261944],\n",
       "       [-1.01166917,  0.54022963],\n",
       "       [-0.81635446,  0.36325627],\n",
       "       [-1.30464124,  0.39275183],\n",
       "       [-0.91401182,  0.39275183],\n",
       "       [ 2.21102358, -0.72807948],\n",
       "       [-1.49995595, -0.46261944],\n",
       "       [-0.42572504, -0.04968159],\n",
       "       [ 0.84382059,  0.51073407],\n",
       "       [-1.30464124, -0.37413275],\n",
       "       [ 0.06256174, -0.16766383],\n",
       "       [-0.42572504, -0.87555729],\n",
       "       [ 2.11336622,  2.13298991],\n",
       "       [-0.23041032,  0.12729178],\n",
       "       [ 0.64850588, -0.93454841],\n",
       "       [-1.79292802,  0.42224739],\n",
       "       [-0.13275297, -0.55110612],\n",
       "       [-0.13275297, -0.61009724],\n",
       "       [ 0.74616324,  0.24527402],\n",
       "       [ 0.06256174, -0.61009724],\n",
       "       [-0.81635446,  0.12729178],\n",
       "       [-0.42572504,  2.30996327],\n",
       "       [ 0.45319117,  1.10064528],\n",
       "       [-0.52338239,  2.33945883],\n",
       "       [ 0.35553381,  0.27476958],\n",
       "       [-1.10932653,  1.39560089],\n",
       "       [-0.13275297,  2.16248547],\n",
       "       [ 0.94147795, -1.49496406],\n",
       "       [-0.81635446, -0.69858392],\n",
       "       [ 0.94147795, -1.20000845],\n",
       "       [-0.71869711,  1.33660977],\n",
       "       [-1.10932653, -1.64244186],\n",
       "       [ 1.23445002, -1.02303509],\n",
       "       [-0.32806768, -0.81656616],\n",
       "       [-0.71869711, -0.6395928 ],\n",
       "       [ 0.35553381,  0.24527402],\n",
       "       [ 0.35553381, -0.34463719],\n",
       "       [ 0.1602191 ,  0.24527402],\n",
       "       [-0.03509561,  0.21577846],\n",
       "       [ 0.45319117, -0.52161056],\n",
       "       [-1.49995595, -0.22665495],\n",
       "       [-1.89058538,  0.3337607 ],\n",
       "       [-1.01166917, -0.492115  ],\n",
       "       [-0.23041032, -0.52161056],\n",
       "       [-0.13275297,  0.83518524],\n",
       "       [ 0.94147795, -1.34748626],\n",
       "       [-1.10932653,  0.45174295],\n",
       "       [ 1.03913531, -1.11152177],\n",
       "       [ 1.42976473,  1.27761865],\n",
       "       [ 2.21102358,  0.36325627],\n",
       "       [ 0.35553381, -0.22665495],\n",
       "       [ 2.21102358, -0.84606172],\n",
       "       [-0.32806768,  0.0388051 ],\n",
       "       [-0.32806768,  1.30711421],\n",
       "       [ 1.13679266,  0.54022963],\n",
       "       [ 0.45319117,  0.12729178],\n",
       "       [ 0.35553381, -0.58060168],\n",
       "       [-0.42572504, -0.31514163],\n",
       "       [ 1.03913531, -0.87555729],\n",
       "       [ 0.35553381,  0.0388051 ],\n",
       "       [ 0.94147795,  1.07114972],\n",
       "       [-1.01166917,  0.39275183],\n",
       "       [ 1.33210737,  2.22147659],\n",
       "       [-0.03509561,  0.65821187],\n",
       "       [ 0.1602191 ,  0.74669855],\n",
       "       [-0.03509561,  0.1862829 ],\n",
       "       [-0.62103975, -1.55395518],\n",
       "       [-1.69527067,  0.3337607 ],\n",
       "       [-1.01166917, -1.49496406],\n",
       "       [ 0.74616324, -0.75757504],\n",
       "       [ 0.06256174, -0.46261944],\n",
       "       [-1.79292802, -1.52445962],\n",
       "       [-1.4022986 , -1.49496406],\n",
       "       [-1.10932653,  0.30426514],\n",
       "       [ 2.01570887, -0.96404397],\n",
       "       [-1.30464124, -1.14101733],\n",
       "       [ 0.94147795, -0.6395928 ],\n",
       "       [ 0.74616324, -1.43597294],\n",
       "       [-1.10932653, -1.58345074],\n",
       "       [ 0.94147795, -0.81656616],\n",
       "       [ 0.25787646,  0.0388051 ],\n",
       "       [-0.13275297,  1.63156538],\n",
       "       [-1.30464124, -0.46261944],\n",
       "       [-0.23041032,  0.51073407],\n",
       "       [ 1.03913531, -1.11152177],\n",
       "       [ 0.35553381,  0.0388051 ],\n",
       "       [-1.10932653,  0.39275183],\n",
       "       [ 0.35553381, -0.55110612],\n",
       "       [ 1.42976473,  1.98551211],\n",
       "       [-0.71869711, -1.58345074],\n",
       "       [-0.23041032,  0.1862829 ],\n",
       "       [-1.69527067,  0.3337607 ],\n",
       "       [-0.91401182,  0.48123851],\n",
       "       [ 0.94147795,  1.0121586 ],\n",
       "       [-1.30464124, -1.28849514],\n",
       "       [-1.79292802, -1.34748626],\n",
       "       [-1.20698389,  0.56972519],\n",
       "       [ 1.03913531,  0.56972519],\n",
       "       [ 1.03913531,  0.09779622],\n",
       "       [-0.91401182,  1.54307869],\n",
       "       [ 0.25787646, -0.69858392],\n",
       "       [-0.03509561,  0.27476958],\n",
       "       [-0.13275297,  0.12729178],\n",
       "       [-1.10932653, -1.05253065],\n",
       "       [-1.30464124, -1.52445962],\n",
       "       [-1.49995595, -1.28849514],\n",
       "       [ 0.35553381, -0.75757504],\n",
       "       [ 1.52742209,  0.98266304],\n",
       "       [-0.03509561, -0.02018602],\n",
       "       [ 1.7227368 ,  1.74954762],\n",
       "       [-1.10932653,  0.27476958],\n",
       "       [ 0.06256174,  1.21862753],\n",
       "       [-0.91401182, -0.7870706 ],\n",
       "       [ 0.55084852,  1.21862753],\n",
       "       [ 2.01570887,  2.16248547],\n",
       "       [ 1.03913531, -1.22950401],\n",
       "       [-0.62103975, -1.64244186],\n",
       "       [-0.52338239, -1.55395518],\n",
       "       [ 1.13679266,  0.51073407],\n",
       "       [ 0.1602191 ,  1.04165416],\n",
       "       [ 0.25787646,  0.00930954],\n",
       "       [ 0.25787646,  0.12729178],\n",
       "       [-1.59761331,  0.0388051 ],\n",
       "       [-0.42572504, -1.17051289],\n",
       "       [-0.42572504, -0.58060168],\n",
       "       [-1.4022986 ,  0.3337607 ],\n",
       "       [-1.30464124,  0.54022963],\n",
       "       [-0.23041032, -0.40362831],\n",
       "       [-0.62103975,  0.15678734],\n",
       "       [ 0.35553381,  0.48123851],\n",
       "       [ 2.11336622,  0.36325627],\n",
       "       [ 0.94147795, -0.69858392],\n",
       "       [-0.03509561,  2.22147659],\n",
       "       [ 0.1602191 , -0.34463719],\n",
       "       [-0.23041032, -1.28849514],\n",
       "       [ 1.82039415, -0.31514163],\n",
       "       [ 0.74616324,  1.77904318],\n",
       "       [ 1.23445002, -1.49496406],\n",
       "       [-0.03509561,  0.12729178],\n",
       "       [ 0.35553381,  0.0388051 ],\n",
       "       [-0.03509561,  0.24527402],\n",
       "       [-0.23041032, -0.61009724],\n",
       "       [ 0.06256174, -0.58060168],\n",
       "       [-0.52338239,  0.8646808 ],\n",
       "       [-0.32806768, -1.34748626],\n",
       "       [-0.91401182,  0.42224739],\n",
       "       [ 1.62507944, -1.3179907 ],\n",
       "       [-0.42572504,  1.24812309],\n",
       "       [-1.01166917, -1.17051289],\n",
       "       [ 1.91805151, -1.11152177],\n",
       "       [-0.62103975, -0.07917715],\n",
       "       [-0.23041032,  2.25097215],\n",
       "       [-1.79292802, -0.02018602],\n",
       "       [-0.23041032,  0.06830066],\n",
       "       [-0.23041032,  0.77619412],\n",
       "       [ 0.84382059, -0.87555729],\n",
       "       [-1.10932653, -1.14101733],\n",
       "       [-1.20698389,  0.48123851],\n",
       "       [ 0.45319117,  0.27476958],\n",
       "       [-0.62103975,  0.54022963],\n",
       "       [ 1.23445002, -0.7870706 ],\n",
       "       [-0.23041032, -0.7870706 ],\n",
       "       [ 0.06256174,  0.00930954],\n",
       "       [ 1.13679266,  0.45174295],\n",
       "       [-0.23041032, -1.34748626],\n",
       "       [-0.91401182,  0.24527402],\n",
       "       [ 0.25787646,  0.21577846],\n",
       "       [-1.10932653, -0.55110612],\n",
       "       [ 0.94147795, -0.58060168],\n",
       "       [ 1.62507944, -0.02018602],\n",
       "       [ 0.1602191 ,  0.00930954],\n",
       "       [ 1.03913531, -1.05253065],\n",
       "       [-0.23041032,  0.00930954],\n",
       "       [-0.91401182, -0.99353953],\n",
       "       [-1.4022986 , -1.25899958],\n",
       "       [-0.03509561,  1.95601654],\n",
       "       [-0.71869711,  0.24527402],\n",
       "       [ 0.35553381, -0.55110612],\n",
       "       [-0.23041032, -0.69858392],\n",
       "       [ 0.45319117,  0.56972519],\n",
       "       [ 0.45319117,  0.06830066],\n",
       "       [-0.71869711,  0.48123851],\n",
       "       [ 0.84382059, -1.43597294],\n",
       "       [ 1.42976473, -0.96404397],\n",
       "       [-1.10932653,  0.0388051 ],\n",
       "       [-1.79292802, -1.3179907 ],\n",
       "       [-1.01166917, -0.40362831],\n",
       "       [-0.03509561, -0.25615051],\n",
       "       [-1.10932653, -0.81656616],\n",
       "       [-1.01166917,  1.95601654],\n",
       "       [ 1.42976473,  2.33945883],\n",
       "       [ 0.25787646, -0.16766383],\n",
       "       [-0.52338239,  0.45174295],\n",
       "       [-0.23041032, -0.93454841],\n",
       "       [-0.23041032,  0.59922075],\n",
       "       [-1.10932653, -1.6129463 ],\n",
       "       [-1.10932653, -1.20000845],\n",
       "       [-0.71869711,  0.54022963],\n",
       "       [ 0.1602191 ,  0.06830066],\n",
       "       [ 1.03913531, -1.20000845],\n",
       "       [ 0.35553381,  0.0388051 ],\n",
       "       [-0.91401182,  0.54022963],\n",
       "       [ 0.25787646, -0.34463719],\n",
       "       [ 2.11336622,  1.74954762],\n",
       "       [-1.20698389,  0.24527402],\n",
       "       [-1.59761331,  0.51073407],\n",
       "       [-1.69527067, -1.02303509],\n",
       "       [-0.71869711, -1.64244186],\n",
       "       [ 0.35553381, -1.20000845],\n",
       "       [ 0.25787646,  1.07114972],\n",
       "       [-1.01166917,  0.56972519],\n",
       "       [-0.13275297,  1.60206982],\n",
       "       [ 1.62507944,  1.10064528],\n",
       "       [ 0.45319117, -0.19715939],\n",
       "       [-0.91401182, -1.14101733],\n",
       "       [ 0.74616324, -1.14101733],\n",
       "       [ 0.84382059,  0.74669855],\n",
       "       [-0.03509561, -0.46261944],\n",
       "       [-1.59761331, -0.07917715],\n",
       "       [-0.81635446,  0.27476958],\n",
       "       [-0.03509561,  2.16248547],\n",
       "       [-0.13275297, -0.492115  ],\n",
       "       [ 0.94147795, -1.40647738],\n",
       "       [ 2.01570887, -0.69858392],\n",
       "       [-0.52338239,  1.36610533],\n",
       "       [ 0.06256174, -0.34463719],\n",
       "       [-0.42572504, -0.81656616],\n",
       "       [-1.10932653,  0.27476958],\n",
       "       [-0.62103975,  1.39560089],\n",
       "       [ 1.13679266, -1.02303509]])"
      ]
     },
     "execution_count": 23,
     "metadata": {},
     "output_type": "execute_result"
    }
   ],
   "source": [
    "X_train"
   ]
  },
  {
   "cell_type": "code",
   "execution_count": 24,
   "id": "f4a81ff1",
   "metadata": {},
   "outputs": [],
   "source": [
    "X_test = scaler.transform(X_test)"
   ]
  },
  {
   "cell_type": "code",
   "execution_count": 26,
   "id": "851f6949",
   "metadata": {},
   "outputs": [
    {
     "data": {
      "text/plain": [
       "17.88854381999832"
      ]
     },
     "execution_count": 26,
     "metadata": {},
     "output_type": "execute_result"
    }
   ],
   "source": [
    "np.sqrt(X_train.shape[0])"
   ]
  },
  {
   "cell_type": "code",
   "execution_count": 28,
   "id": "c09df087",
   "metadata": {},
   "outputs": [],
   "source": [
    "k = 17"
   ]
  },
  {
   "cell_type": "code",
   "execution_count": 29,
   "id": "6f5050ce",
   "metadata": {},
   "outputs": [],
   "source": [
    "knn = KNeighborsClassifier(n_neighbors=k)"
   ]
  },
  {
   "cell_type": "code",
   "execution_count": 30,
   "id": "ff7c2393",
   "metadata": {},
   "outputs": [
    {
     "data": {
      "text/html": [
       "<style>#sk-container-id-1 {color: black;background-color: white;}#sk-container-id-1 pre{padding: 0;}#sk-container-id-1 div.sk-toggleable {background-color: white;}#sk-container-id-1 label.sk-toggleable__label {cursor: pointer;display: block;width: 100%;margin-bottom: 0;padding: 0.3em;box-sizing: border-box;text-align: center;}#sk-container-id-1 label.sk-toggleable__label-arrow:before {content: \"▸\";float: left;margin-right: 0.25em;color: #696969;}#sk-container-id-1 label.sk-toggleable__label-arrow:hover:before {color: black;}#sk-container-id-1 div.sk-estimator:hover label.sk-toggleable__label-arrow:before {color: black;}#sk-container-id-1 div.sk-toggleable__content {max-height: 0;max-width: 0;overflow: hidden;text-align: left;background-color: #f0f8ff;}#sk-container-id-1 div.sk-toggleable__content pre {margin: 0.2em;color: black;border-radius: 0.25em;background-color: #f0f8ff;}#sk-container-id-1 input.sk-toggleable__control:checked~div.sk-toggleable__content {max-height: 200px;max-width: 100%;overflow: auto;}#sk-container-id-1 input.sk-toggleable__control:checked~label.sk-toggleable__label-arrow:before {content: \"▾\";}#sk-container-id-1 div.sk-estimator input.sk-toggleable__control:checked~label.sk-toggleable__label {background-color: #d4ebff;}#sk-container-id-1 div.sk-label input.sk-toggleable__control:checked~label.sk-toggleable__label {background-color: #d4ebff;}#sk-container-id-1 input.sk-hidden--visually {border: 0;clip: rect(1px 1px 1px 1px);clip: rect(1px, 1px, 1px, 1px);height: 1px;margin: -1px;overflow: hidden;padding: 0;position: absolute;width: 1px;}#sk-container-id-1 div.sk-estimator {font-family: monospace;background-color: #f0f8ff;border: 1px dotted black;border-radius: 0.25em;box-sizing: border-box;margin-bottom: 0.5em;}#sk-container-id-1 div.sk-estimator:hover {background-color: #d4ebff;}#sk-container-id-1 div.sk-parallel-item::after {content: \"\";width: 100%;border-bottom: 1px solid gray;flex-grow: 1;}#sk-container-id-1 div.sk-label:hover label.sk-toggleable__label {background-color: #d4ebff;}#sk-container-id-1 div.sk-serial::before {content: \"\";position: absolute;border-left: 1px solid gray;box-sizing: border-box;top: 0;bottom: 0;left: 50%;z-index: 0;}#sk-container-id-1 div.sk-serial {display: flex;flex-direction: column;align-items: center;background-color: white;padding-right: 0.2em;padding-left: 0.2em;position: relative;}#sk-container-id-1 div.sk-item {position: relative;z-index: 1;}#sk-container-id-1 div.sk-parallel {display: flex;align-items: stretch;justify-content: center;background-color: white;position: relative;}#sk-container-id-1 div.sk-item::before, #sk-container-id-1 div.sk-parallel-item::before {content: \"\";position: absolute;border-left: 1px solid gray;box-sizing: border-box;top: 0;bottom: 0;left: 50%;z-index: -1;}#sk-container-id-1 div.sk-parallel-item {display: flex;flex-direction: column;z-index: 1;position: relative;background-color: white;}#sk-container-id-1 div.sk-parallel-item:first-child::after {align-self: flex-end;width: 50%;}#sk-container-id-1 div.sk-parallel-item:last-child::after {align-self: flex-start;width: 50%;}#sk-container-id-1 div.sk-parallel-item:only-child::after {width: 0;}#sk-container-id-1 div.sk-dashed-wrapped {border: 1px dashed gray;margin: 0 0.4em 0.5em 0.4em;box-sizing: border-box;padding-bottom: 0.4em;background-color: white;}#sk-container-id-1 div.sk-label label {font-family: monospace;font-weight: bold;display: inline-block;line-height: 1.2em;}#sk-container-id-1 div.sk-label-container {text-align: center;}#sk-container-id-1 div.sk-container {/* jupyter's `normalize.less` sets `[hidden] { display: none; }` but bootstrap.min.css set `[hidden] { display: none !important; }` so we also need the `!important` here to be able to override the default hidden behavior on the sphinx rendered scikit-learn.org. See: https://github.com/scikit-learn/scikit-learn/issues/21755 */display: inline-block !important;position: relative;}#sk-container-id-1 div.sk-text-repr-fallback {display: none;}</style><div id=\"sk-container-id-1\" class=\"sk-top-container\"><div class=\"sk-text-repr-fallback\"><pre>KNeighborsClassifier(n_neighbors=17)</pre><b>In a Jupyter environment, please rerun this cell to show the HTML representation or trust the notebook. <br />On GitHub, the HTML representation is unable to render, please try loading this page with nbviewer.org.</b></div><div class=\"sk-container\" hidden><div class=\"sk-item\"><div class=\"sk-estimator sk-toggleable\"><input class=\"sk-toggleable__control sk-hidden--visually\" id=\"sk-estimator-id-1\" type=\"checkbox\" checked><label for=\"sk-estimator-id-1\" class=\"sk-toggleable__label sk-toggleable__label-arrow\">KNeighborsClassifier</label><div class=\"sk-toggleable__content\"><pre>KNeighborsClassifier(n_neighbors=17)</pre></div></div></div></div></div>"
      ],
      "text/plain": [
       "KNeighborsClassifier(n_neighbors=17)"
      ]
     },
     "execution_count": 30,
     "metadata": {},
     "output_type": "execute_result"
    }
   ],
   "source": [
    "knn.fit(X_train, y_train)"
   ]
  },
  {
   "cell_type": "code",
   "execution_count": 31,
   "id": "53df93d6",
   "metadata": {},
   "outputs": [],
   "source": [
    "y_pred = knn.predict(X_test)"
   ]
  },
  {
   "cell_type": "code",
   "execution_count": 32,
   "id": "c031bbb1",
   "metadata": {},
   "outputs": [
    {
     "data": {
      "text/plain": [
       "(80,)"
      ]
     },
     "execution_count": 32,
     "metadata": {},
     "output_type": "execute_result"
    }
   ],
   "source": [
    "y_pred.shape"
   ]
  },
  {
   "cell_type": "code",
   "execution_count": 33,
   "id": "b9cc0c10",
   "metadata": {},
   "outputs": [
    {
     "data": {
      "text/plain": [
       "(80,)"
      ]
     },
     "execution_count": 33,
     "metadata": {},
     "output_type": "execute_result"
    }
   ],
   "source": [
    "y_test.shape"
   ]
  },
  {
   "cell_type": "code",
   "execution_count": 35,
   "id": "c4f0361e",
   "metadata": {},
   "outputs": [
    {
     "data": {
      "text/plain": [
       "0.9375"
      ]
     },
     "execution_count": 35,
     "metadata": {},
     "output_type": "execute_result"
    }
   ],
   "source": [
    "accuracy_score(y_test, y_pred)"
   ]
  },
  {
   "cell_type": "code",
   "execution_count": 37,
   "id": "e14fe586",
   "metadata": {},
   "outputs": [
    {
     "data": {
      "text/plain": [
       "array([[45,  4],\n",
       "       [ 1, 30]], dtype=int64)"
      ]
     },
     "execution_count": 37,
     "metadata": {},
     "output_type": "execute_result"
    }
   ],
   "source": [
    "confusion_matrix(y_test,y_pred)"
   ]
  },
  {
   "cell_type": "code",
   "execution_count": null,
   "id": "8b871e7e",
   "metadata": {},
   "outputs": [],
   "source": []
  },
  {
   "cell_type": "code",
   "execution_count": null,
   "id": "c9df42ea",
   "metadata": {},
   "outputs": [],
   "source": []
  },
  {
   "cell_type": "code",
   "execution_count": 39,
   "id": "dfa659ab",
   "metadata": {},
   "outputs": [],
   "source": [
    "accuracy = []\n",
    "\n",
    "for i in range(1,26):\n",
    "    knn = KNeighborsClassifier(n_neighbors=i)\n",
    "    knn.fit(X_train, y_train)\n",
    "    accuracy.append(accuracy_score(y_test, knn.predict(X_test)))"
   ]
  },
  {
   "cell_type": "code",
   "execution_count": 40,
   "id": "02ac080c",
   "metadata": {},
   "outputs": [
    {
     "data": {
      "text/plain": [
       "[0.8875,\n",
       " 0.8625,\n",
       " 0.95,\n",
       " 0.925,\n",
       " 0.925,\n",
       " 0.9375,\n",
       " 0.9375,\n",
       " 0.925,\n",
       " 0.9375,\n",
       " 0.925,\n",
       " 0.9375,\n",
       " 0.9375,\n",
       " 0.9375,\n",
       " 0.9375,\n",
       " 0.9375,\n",
       " 0.9375,\n",
       " 0.9375,\n",
       " 0.9375,\n",
       " 0.9375,\n",
       " 0.9375,\n",
       " 0.9375,\n",
       " 0.9375,\n",
       " 0.9375,\n",
       " 0.9375,\n",
       " 0.9375]"
      ]
     },
     "execution_count": 40,
     "metadata": {},
     "output_type": "execute_result"
    }
   ],
   "source": [
    "accuracy"
   ]
  },
  {
   "cell_type": "code",
   "execution_count": 41,
   "id": "c47c79f2",
   "metadata": {},
   "outputs": [
    {
     "data": {
      "text/plain": [
       "[<matplotlib.lines.Line2D at 0x17e659b4f10>]"
      ]
     },
     "execution_count": 41,
     "metadata": {},
     "output_type": "execute_result"
    },
    {
     "data": {
      "image/png": "[encoded data removed]",
      "text/plain": [
       "<Figure size 640x480 with 1 Axes>"
      ]
     },
     "metadata": {},
     "output_type": "display_data"
    }
   ],
   "source": [
    "plt.plot(range(1,26), accuracy)"
   ]
  },
  {
   "cell_type": "code",
   "execution_count": 42,
   "id": "c9cafec5",
   "metadata": {},
   "outputs": [
    {
     "data": {
      "text/html": [
       "<style>#sk-container-id-2 {color: black;background-color: white;}#sk-container-id-2 pre{padding: 0;}#sk-container-id-2 div.sk-toggleable {background-color: white;}#sk-container-id-2 label.sk-toggleable__label {cursor: pointer;display: block;width: 100%;margin-bottom: 0;padding: 0.3em;box-sizing: border-box;text-align: center;}#sk-container-id-2 label.sk-toggleable__label-arrow:before {content: \"▸\";float: left;margin-right: 0.25em;color: #696969;}#sk-container-id-2 label.sk-toggleable__label-arrow:hover:before {color: black;}#sk-container-id-2 div.sk-estimator:hover label.sk-toggleable__label-arrow:before {color: black;}#sk-container-id-2 div.sk-toggleable__content {max-height: 0;max-width: 0;overflow: hidden;text-align: left;background-color: #f0f8ff;}#sk-container-id-2 div.sk-toggleable__content pre {margin: 0.2em;color: black;border-radius: 0.25em;background-color: #f0f8ff;}#sk-container-id-2 input.sk-toggleable__control:checked~div.sk-toggleable__content {max-height: 200px;max-width: 100%;overflow: auto;}#sk-container-id-2 input.sk-toggleable__control:checked~label.sk-toggleable__label-arrow:before {content: \"▾\";}#sk-container-id-2 div.sk-estimator input.sk-toggleable__control:checked~label.sk-toggleable__label {background-color: #d4ebff;}#sk-container-id-2 div.sk-label input.sk-toggleable__control:checked~label.sk-toggleable__label {background-color: #d4ebff;}#sk-container-id-2 input.sk-hidden--visually {border: 0;clip: rect(1px 1px 1px 1px);clip: rect(1px, 1px, 1px, 1px);height: 1px;margin: -1px;overflow: hidden;padding: 0;position: absolute;width: 1px;}#sk-container-id-2 div.sk-estimator {font-family: monospace;background-color: #f0f8ff;border: 1px dotted black;border-radius: 0.25em;box-sizing: border-box;margin-bottom: 0.5em;}#sk-container-id-2 div.sk-estimator:hover {background-color: #d4ebff;}#sk-container-id-2 div.sk-parallel-item::after {content: \"\";width: 100%;border-bottom: 1px solid gray;flex-grow: 1;}#sk-container-id-2 div.sk-label:hover label.sk-toggleable__label {background-color: #d4ebff;}#sk-container-id-2 div.sk-serial::before {content: \"\";position: absolute;border-left: 1px solid gray;box-sizing: border-box;top: 0;bottom: 0;left: 50%;z-index: 0;}#sk-container-id-2 div.sk-serial {display: flex;flex-direction: column;align-items: center;background-color: white;padding-right: 0.2em;padding-left: 0.2em;position: relative;}#sk-container-id-2 div.sk-item {position: relative;z-index: 1;}#sk-container-id-2 div.sk-parallel {display: flex;align-items: stretch;justify-content: center;background-color: white;position: relative;}#sk-container-id-2 div.sk-item::before, #sk-container-id-2 div.sk-parallel-item::before {content: \"\";position: absolute;border-left: 1px solid gray;box-sizing: border-box;top: 0;bottom: 0;left: 50%;z-index: -1;}#sk-container-id-2 div.sk-parallel-item {display: flex;flex-direction: column;z-index: 1;position: relative;background-color: white;}#sk-container-id-2 div.sk-parallel-item:first-child::after {align-self: flex-end;width: 50%;}#sk-container-id-2 div.sk-parallel-item:last-child::after {align-self: flex-start;width: 50%;}#sk-container-id-2 div.sk-parallel-item:only-child::after {width: 0;}#sk-container-id-2 div.sk-dashed-wrapped {border: 1px dashed gray;margin: 0 0.4em 0.5em 0.4em;box-sizing: border-box;padding-bottom: 0.4em;background-color: white;}#sk-container-id-2 div.sk-label label {font-family: monospace;font-weight: bold;display: inline-block;line-height: 1.2em;}#sk-container-id-2 div.sk-label-container {text-align: center;}#sk-container-id-2 div.sk-container {/* jupyter's `normalize.less` sets `[hidden] { display: none; }` but bootstrap.min.css set `[hidden] { display: none !important; }` so we also need the `!important` here to be able to override the default hidden behavior on the sphinx rendered scikit-learn.org. See: https://github.com/scikit-learn/scikit-learn/issues/21755 */display: inline-block !important;position: relative;}#sk-container-id-2 div.sk-text-repr-fallback {display: none;}</style><div id=\"sk-container-id-2\" class=\"sk-top-container\"><div class=\"sk-text-repr-fallback\"><pre>KNeighborsClassifier(n_neighbors=3)</pre><b>In a Jupyter environment, please rerun this cell to show the HTML representation or trust the notebook. <br />On GitHub, the HTML representation is unable to render, please try loading this page with nbviewer.org.</b></div><div class=\"sk-container\" hidden><div class=\"sk-item\"><div class=\"sk-estimator sk-toggleable\"><input class=\"sk-toggleable__control sk-hidden--visually\" id=\"sk-estimator-id-2\" type=\"checkbox\" checked><label for=\"sk-estimator-id-2\" class=\"sk-toggleable__label sk-toggleable__label-arrow\">KNeighborsClassifier</label><div class=\"sk-toggleable__content\"><pre>KNeighborsClassifier(n_neighbors=3)</pre></div></div></div></div></div>"
      ],
      "text/plain": [
       "KNeighborsClassifier(n_neighbors=3)"
      ]
     },
     "execution_count": 42,
     "metadata": {},
     "output_type": "execute_result"
    }
   ],
   "source": [
    "knn = KNeighborsClassifier(n_neighbors=3)\n",
    "knn.fit(X_train, y_train)"
   ]
  },
  {
   "cell_type": "code",
   "execution_count": 43,
   "id": "3f10ed62",
   "metadata": {},
   "outputs": [],
   "source": [
    "y_pred = knn.predict(X_test)"
   ]
  },
  {
   "cell_type": "code",
   "execution_count": 44,
   "id": "4afb36b5",
   "metadata": {},
   "outputs": [
    {
     "data": {
      "text/plain": [
       "0.95"
      ]
     },
     "execution_count": 44,
     "metadata": {},
     "output_type": "execute_result"
    }
   ],
   "source": [
    "accuracy_score(y_test, y_pred)"
   ]
  },
  {
   "cell_type": "code",
   "execution_count": null,
   "id": "4cda4a37",
   "metadata": {},
   "outputs": [],
   "source": []
  }
 ],
 "metadata": {
  "kernelspec": {
   "display_name": "Python 3 (ipykernel)",
   "language": "python",
   "name": "python3"
  },
  "language_info": {
   "codemirror_mode": {
    "name": "ipython",
    "version": 3
   },
   "file_extension": ".py",
   "mimetype": "text/x-python",
   "name": "python",
   "nbconvert_exporter": "python",
   "pygments_lexer": "ipython3",
   "version": "3.11.3"
  }
 },
 "nbformat": 4,
 "nbformat_minor": 5
}
